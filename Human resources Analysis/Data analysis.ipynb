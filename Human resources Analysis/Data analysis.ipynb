{
 "cells": [
  {
   "cell_type": "code",
   "execution_count": 2,
   "metadata": {},
   "outputs": [],
   "source": [
    "import pandas as pd\n",
    "import numpy as np\n",
    "import seaborn as sns\n",
    "import matplotlib.pyplot as plt"
   ]
  },
  {
   "cell_type": "code",
   "execution_count": 3,
   "metadata": {},
   "outputs": [],
   "source": [
    "datahr=pd.read_csv(r\"C:\\Users\\Abraham\\Desktop\\Solo\\Bootcamp\\portfolio\\Human resources Analysis\\CleanedHRdata.csv\")"
   ]
  },
  {
   "cell_type": "code",
   "execution_count": 5,
   "metadata": {},
   "outputs": [],
   "source": [
    "datahr.drop(\"Unnamed: 0\",axis=1,inplace=True)"
   ]
  },
  {
   "cell_type": "code",
   "execution_count": 9,
   "metadata": {},
   "outputs": [
    {
     "ename": "KeyError",
     "evalue": "\"None of ['EmpID'] are in the columns\"",
     "output_type": "error",
     "traceback": [
      "\u001b[1;31m---------------------------------------------------------------------------\u001b[0m",
      "\u001b[1;31mKeyError\u001b[0m                                  Traceback (most recent call last)",
      "\u001b[1;32m~\\AppData\\Local\\Temp\\ipykernel_29240\\2425630644.py\u001b[0m in \u001b[0;36m<module>\u001b[1;34m\u001b[0m\n\u001b[1;32m----> 1\u001b[1;33m \u001b[0mdatahr\u001b[0m\u001b[1;33m.\u001b[0m\u001b[0mset_index\u001b[0m\u001b[1;33m(\u001b[0m\u001b[1;34m\"EmpID\"\u001b[0m\u001b[1;33m,\u001b[0m\u001b[0minplace\u001b[0m\u001b[1;33m=\u001b[0m\u001b[1;32mTrue\u001b[0m\u001b[1;33m)\u001b[0m\u001b[1;33m\u001b[0m\u001b[1;33m\u001b[0m\u001b[0m\n\u001b[0m",
      "\u001b[1;32mc:\\Users\\Abraham\\AppData\\Local\\Programs\\Python\\Python37\\lib\\site-packages\\pandas\\util\\_decorators.py\u001b[0m in \u001b[0;36mwrapper\u001b[1;34m(*args, **kwargs)\u001b[0m\n\u001b[0;32m    309\u001b[0m                     \u001b[0mstacklevel\u001b[0m\u001b[1;33m=\u001b[0m\u001b[0mstacklevel\u001b[0m\u001b[1;33m,\u001b[0m\u001b[1;33m\u001b[0m\u001b[1;33m\u001b[0m\u001b[0m\n\u001b[0;32m    310\u001b[0m                 )\n\u001b[1;32m--> 311\u001b[1;33m             \u001b[1;32mreturn\u001b[0m \u001b[0mfunc\u001b[0m\u001b[1;33m(\u001b[0m\u001b[1;33m*\u001b[0m\u001b[0margs\u001b[0m\u001b[1;33m,\u001b[0m \u001b[1;33m**\u001b[0m\u001b[0mkwargs\u001b[0m\u001b[1;33m)\u001b[0m\u001b[1;33m\u001b[0m\u001b[1;33m\u001b[0m\u001b[0m\n\u001b[0m\u001b[0;32m    312\u001b[0m \u001b[1;33m\u001b[0m\u001b[0m\n\u001b[0;32m    313\u001b[0m         \u001b[1;32mreturn\u001b[0m \u001b[0mwrapper\u001b[0m\u001b[1;33m\u001b[0m\u001b[1;33m\u001b[0m\u001b[0m\n",
      "\u001b[1;32mc:\\Users\\Abraham\\AppData\\Local\\Programs\\Python\\Python37\\lib\\site-packages\\pandas\\core\\frame.py\u001b[0m in \u001b[0;36mset_index\u001b[1;34m(self, keys, drop, append, inplace, verify_integrity)\u001b[0m\n\u001b[0;32m   5449\u001b[0m \u001b[1;33m\u001b[0m\u001b[0m\n\u001b[0;32m   5450\u001b[0m         \u001b[1;32mif\u001b[0m \u001b[0mmissing\u001b[0m\u001b[1;33m:\u001b[0m\u001b[1;33m\u001b[0m\u001b[1;33m\u001b[0m\u001b[0m\n\u001b[1;32m-> 5451\u001b[1;33m             \u001b[1;32mraise\u001b[0m \u001b[0mKeyError\u001b[0m\u001b[1;33m(\u001b[0m\u001b[1;34mf\"None of {missing} are in the columns\"\u001b[0m\u001b[1;33m)\u001b[0m\u001b[1;33m\u001b[0m\u001b[1;33m\u001b[0m\u001b[0m\n\u001b[0m\u001b[0;32m   5452\u001b[0m \u001b[1;33m\u001b[0m\u001b[0m\n\u001b[0;32m   5453\u001b[0m         \u001b[1;32mif\u001b[0m \u001b[0minplace\u001b[0m\u001b[1;33m:\u001b[0m\u001b[1;33m\u001b[0m\u001b[1;33m\u001b[0m\u001b[0m\n",
      "\u001b[1;31mKeyError\u001b[0m: \"None of ['EmpID'] are in the columns\""
     ]
    }
   ],
   "source": [
    "datahr.set_index(\"EmpID\",inplace=True)"
   ]
  },
  {
   "cell_type": "code",
   "execution_count": 12,
   "metadata": {},
   "outputs": [
    {
     "name": "stdout",
     "output_type": "stream",
     "text": [
      "<class 'pandas.core.frame.DataFrame'>\n",
      "Index: 1473 entries, RM297 to RM1210\n",
      "Data columns (total 38 columns):\n",
      " #   Column                    Non-Null Count  Dtype  \n",
      "---  ------                    --------------  -----  \n",
      " 0   Age                       1473 non-null   int64  \n",
      " 1   AgeGroup                  1473 non-null   object \n",
      " 2   Attrition                 1473 non-null   object \n",
      " 3   BusinessTravel            1473 non-null   object \n",
      " 4   DailyRate                 1473 non-null   int64  \n",
      " 5   Department                1473 non-null   object \n",
      " 6   DistanceFromHome          1473 non-null   int64  \n",
      " 7   Education                 1473 non-null   int64  \n",
      " 8   EducationField            1473 non-null   object \n",
      " 9   EmployeeCount             1473 non-null   int64  \n",
      " 10  EmployeeNumber            1473 non-null   int64  \n",
      " 11  EnvironmentSatisfaction   1473 non-null   int64  \n",
      " 12  Gender                    1473 non-null   object \n",
      " 13  HourlyRate                1473 non-null   int64  \n",
      " 14  JobInvolvement            1473 non-null   int64  \n",
      " 15  JobLevel                  1473 non-null   int64  \n",
      " 16  JobRole                   1473 non-null   object \n",
      " 17  JobSatisfaction           1473 non-null   int64  \n",
      " 18  MaritalStatus             1473 non-null   object \n",
      " 19  MonthlyIncome             1473 non-null   int64  \n",
      " 20  SalarySlab                1473 non-null   object \n",
      " 21  MonthlyRate               1473 non-null   int64  \n",
      " 22  NumCompaniesWorked        1473 non-null   int64  \n",
      " 23  Over18                    1473 non-null   object \n",
      " 24  OverTime                  1473 non-null   object \n",
      " 25  PercentSalaryHike         1473 non-null   int64  \n",
      " 26  PerformanceRating         1473 non-null   int64  \n",
      " 27  RelationshipSatisfaction  1473 non-null   int64  \n",
      " 28  StandardHours             1473 non-null   int64  \n",
      " 29  StockOptionLevel          1473 non-null   int64  \n",
      " 30  TotalWorkingYears         1473 non-null   int64  \n",
      " 31  TrainingTimesLastYear     1473 non-null   int64  \n",
      " 32  WorkLifeBalance           1473 non-null   int64  \n",
      " 33  YearsAtCompany            1473 non-null   int64  \n",
      " 34  YearsInCurrentRole        1473 non-null   int64  \n",
      " 35  YearsSinceLastPromotion   1473 non-null   int64  \n",
      " 36  YearsWithCurrManager      1473 non-null   float64\n",
      " 37  left_company              1473 non-null   int64  \n",
      "dtypes: float64(1), int64(26), object(11)\n",
      "memory usage: 448.8+ KB\n"
     ]
    }
   ],
   "source": [
    "datahr.info()"
   ]
  },
  {
   "cell_type": "code",
   "execution_count": 13,
   "metadata": {},
   "outputs": [
    {
     "data": {
      "text/plain": [
       "Index(['Age', 'AgeGroup', 'Attrition', 'BusinessTravel', 'DailyRate',\n",
       "       'Department', 'DistanceFromHome', 'Education', 'EducationField',\n",
       "       'EmployeeCount', 'EmployeeNumber', 'EnvironmentSatisfaction', 'Gender',\n",
       "       'HourlyRate', 'JobInvolvement', 'JobLevel', 'JobRole',\n",
       "       'JobSatisfaction', 'MaritalStatus', 'MonthlyIncome', 'SalarySlab',\n",
       "       'MonthlyRate', 'NumCompaniesWorked', 'Over18', 'OverTime',\n",
       "       'PercentSalaryHike', 'PerformanceRating', 'RelationshipSatisfaction',\n",
       "       'StandardHours', 'StockOptionLevel', 'TotalWorkingYears',\n",
       "       'TrainingTimesLastYear', 'WorkLifeBalance', 'YearsAtCompany',\n",
       "       'YearsInCurrentRole', 'YearsSinceLastPromotion', 'YearsWithCurrManager',\n",
       "       'left_company'],\n",
       "      dtype='object')"
      ]
     },
     "execution_count": 13,
     "metadata": {},
     "output_type": "execute_result"
    }
   ],
   "source": [
    "datahr.columns"
   ]
  },
  {
   "cell_type": "code",
   "execution_count": 138,
   "metadata": {},
   "outputs": [
    {
     "data": {
      "text/html": [
       "<div>\n",
       "<style scoped>\n",
       "    .dataframe tbody tr th:only-of-type {\n",
       "        vertical-align: middle;\n",
       "    }\n",
       "\n",
       "    .dataframe tbody tr th {\n",
       "        vertical-align: top;\n",
       "    }\n",
       "\n",
       "    .dataframe thead th {\n",
       "        text-align: right;\n",
       "    }\n",
       "</style>\n",
       "<table border=\"1\" class=\"dataframe\">\n",
       "  <thead>\n",
       "    <tr style=\"text-align: right;\">\n",
       "      <th></th>\n",
       "      <th>EmployeeNumber</th>\n",
       "      <th>EnvironmentSatisfaction</th>\n",
       "      <th>Gender</th>\n",
       "      <th>HourlyRate</th>\n",
       "      <th>JobInvolvement</th>\n",
       "      <th>JobLevel</th>\n",
       "      <th>JobRole</th>\n",
       "      <th>JobSatisfaction</th>\n",
       "      <th>MaritalStatus</th>\n",
       "      <th>MonthlyIncome</th>\n",
       "      <th>SalarySlab</th>\n",
       "    </tr>\n",
       "    <tr>\n",
       "      <th>EmpID</th>\n",
       "      <th></th>\n",
       "      <th></th>\n",
       "      <th></th>\n",
       "      <th></th>\n",
       "      <th></th>\n",
       "      <th></th>\n",
       "      <th></th>\n",
       "      <th></th>\n",
       "      <th></th>\n",
       "      <th></th>\n",
       "      <th></th>\n",
       "    </tr>\n",
       "  </thead>\n",
       "  <tbody>\n",
       "    <tr>\n",
       "      <th>RM297</th>\n",
       "      <td>405</td>\n",
       "      <td>3</td>\n",
       "      <td>Male</td>\n",
       "      <td>54</td>\n",
       "      <td>3</td>\n",
       "      <td>1</td>\n",
       "      <td>Laboratory Technician</td>\n",
       "      <td>3</td>\n",
       "      <td>Single</td>\n",
       "      <td>1420</td>\n",
       "      <td>Upto 5k</td>\n",
       "    </tr>\n",
       "    <tr>\n",
       "      <th>RM302</th>\n",
       "      <td>411</td>\n",
       "      <td>4</td>\n",
       "      <td>Female</td>\n",
       "      <td>69</td>\n",
       "      <td>2</td>\n",
       "      <td>1</td>\n",
       "      <td>Sales Representative</td>\n",
       "      <td>3</td>\n",
       "      <td>Single</td>\n",
       "      <td>1200</td>\n",
       "      <td>Upto 5k</td>\n",
       "    </tr>\n",
       "    <tr>\n",
       "      <th>RM458</th>\n",
       "      <td>614</td>\n",
       "      <td>2</td>\n",
       "      <td>Male</td>\n",
       "      <td>69</td>\n",
       "      <td>3</td>\n",
       "      <td>1</td>\n",
       "      <td>Sales Representative</td>\n",
       "      <td>2</td>\n",
       "      <td>Single</td>\n",
       "      <td>1878</td>\n",
       "      <td>Upto 5k</td>\n",
       "    </tr>\n",
       "    <tr>\n",
       "      <th>RM728</th>\n",
       "      <td>1012</td>\n",
       "      <td>2</td>\n",
       "      <td>Male</td>\n",
       "      <td>73</td>\n",
       "      <td>3</td>\n",
       "      <td>1</td>\n",
       "      <td>Research Scientist</td>\n",
       "      <td>4</td>\n",
       "      <td>Single</td>\n",
       "      <td>1051</td>\n",
       "      <td>Upto 5k</td>\n",
       "    </tr>\n",
       "    <tr>\n",
       "      <th>RM829</th>\n",
       "      <td>1156</td>\n",
       "      <td>3</td>\n",
       "      <td>Male</td>\n",
       "      <td>80</td>\n",
       "      <td>3</td>\n",
       "      <td>1</td>\n",
       "      <td>Laboratory Technician</td>\n",
       "      <td>3</td>\n",
       "      <td>Single</td>\n",
       "      <td>1904</td>\n",
       "      <td>Upto 5k</td>\n",
       "    </tr>\n",
       "    <tr>\n",
       "      <th>...</th>\n",
       "      <td>...</td>\n",
       "      <td>...</td>\n",
       "      <td>...</td>\n",
       "      <td>...</td>\n",
       "      <td>...</td>\n",
       "      <td>...</td>\n",
       "      <td>...</td>\n",
       "      <td>...</td>\n",
       "      <td>...</td>\n",
       "      <td>...</td>\n",
       "      <td>...</td>\n",
       "    </tr>\n",
       "    <tr>\n",
       "      <th>RM412</th>\n",
       "      <td>549</td>\n",
       "      <td>1</td>\n",
       "      <td>Female</td>\n",
       "      <td>41</td>\n",
       "      <td>3</td>\n",
       "      <td>5</td>\n",
       "      <td>Manager</td>\n",
       "      <td>1</td>\n",
       "      <td>Married</td>\n",
       "      <td>19566</td>\n",
       "      <td>15k+</td>\n",
       "    </tr>\n",
       "    <tr>\n",
       "      <th>RM428</th>\n",
       "      <td>573</td>\n",
       "      <td>3</td>\n",
       "      <td>Female</td>\n",
       "      <td>80</td>\n",
       "      <td>2</td>\n",
       "      <td>3</td>\n",
       "      <td>Sales Executive</td>\n",
       "      <td>1</td>\n",
       "      <td>Married</td>\n",
       "      <td>10266</td>\n",
       "      <td>10k-15k</td>\n",
       "    </tr>\n",
       "    <tr>\n",
       "      <th>RM537</th>\n",
       "      <td>732</td>\n",
       "      <td>1</td>\n",
       "      <td>Male</td>\n",
       "      <td>84</td>\n",
       "      <td>3</td>\n",
       "      <td>2</td>\n",
       "      <td>Sales Executive</td>\n",
       "      <td>1</td>\n",
       "      <td>Single</td>\n",
       "      <td>5405</td>\n",
       "      <td>5k-10k</td>\n",
       "    </tr>\n",
       "    <tr>\n",
       "      <th>RM880</th>\n",
       "      <td>1233</td>\n",
       "      <td>2</td>\n",
       "      <td>Male</td>\n",
       "      <td>52</td>\n",
       "      <td>4</td>\n",
       "      <td>2</td>\n",
       "      <td>Sales Executive</td>\n",
       "      <td>4</td>\n",
       "      <td>Divorced</td>\n",
       "      <td>5220</td>\n",
       "      <td>5k-10k</td>\n",
       "    </tr>\n",
       "    <tr>\n",
       "      <th>RM1210</th>\n",
       "      <td>1697</td>\n",
       "      <td>3</td>\n",
       "      <td>Male</td>\n",
       "      <td>92</td>\n",
       "      <td>1</td>\n",
       "      <td>3</td>\n",
       "      <td>Healthcare Representative</td>\n",
       "      <td>4</td>\n",
       "      <td>Divorced</td>\n",
       "      <td>10883</td>\n",
       "      <td>10k-15k</td>\n",
       "    </tr>\n",
       "  </tbody>\n",
       "</table>\n",
       "<p>1473 rows × 11 columns</p>\n",
       "</div>"
      ],
      "text/plain": [
       "        EmployeeNumber  EnvironmentSatisfaction  Gender  HourlyRate  \\\n",
       "EmpID                                                                 \n",
       "RM297              405                        3    Male          54   \n",
       "RM302              411                        4  Female          69   \n",
       "RM458              614                        2    Male          69   \n",
       "RM728             1012                        2    Male          73   \n",
       "RM829             1156                        3    Male          80   \n",
       "...                ...                      ...     ...         ...   \n",
       "RM412              549                        1  Female          41   \n",
       "RM428              573                        3  Female          80   \n",
       "RM537              732                        1    Male          84   \n",
       "RM880             1233                        2    Male          52   \n",
       "RM1210            1697                        3    Male          92   \n",
       "\n",
       "        JobInvolvement  JobLevel                    JobRole  JobSatisfaction  \\\n",
       "EmpID                                                                          \n",
       "RM297                3         1      Laboratory Technician                3   \n",
       "RM302                2         1       Sales Representative                3   \n",
       "RM458                3         1       Sales Representative                2   \n",
       "RM728                3         1         Research Scientist                4   \n",
       "RM829                3         1      Laboratory Technician                3   \n",
       "...                ...       ...                        ...              ...   \n",
       "RM412                3         5                    Manager                1   \n",
       "RM428                2         3            Sales Executive                1   \n",
       "RM537                3         2            Sales Executive                1   \n",
       "RM880                4         2            Sales Executive                4   \n",
       "RM1210               1         3  Healthcare Representative                4   \n",
       "\n",
       "       MaritalStatus  MonthlyIncome SalarySlab  \n",
       "EmpID                                           \n",
       "RM297         Single           1420    Upto 5k  \n",
       "RM302         Single           1200    Upto 5k  \n",
       "RM458         Single           1878    Upto 5k  \n",
       "RM728         Single           1051    Upto 5k  \n",
       "RM829         Single           1904    Upto 5k  \n",
       "...              ...            ...        ...  \n",
       "RM412        Married          19566       15k+  \n",
       "RM428        Married          10266    10k-15k  \n",
       "RM537         Single           5405     5k-10k  \n",
       "RM880       Divorced           5220     5k-10k  \n",
       "RM1210      Divorced          10883    10k-15k  \n",
       "\n",
       "[1473 rows x 11 columns]"
      ]
     },
     "execution_count": 138,
     "metadata": {},
     "output_type": "execute_result"
    }
   ],
   "source": [
    "datahr.iloc[:, 10:21] "
   ]
  },
  {
   "cell_type": "markdown",
   "metadata": {},
   "source": [
    "## Let's check the attrition %"
   ]
  },
  {
   "cell_type": "code",
   "execution_count": 24,
   "metadata": {},
   "outputs": [
    {
     "data": {
      "text/plain": [
       "No     1236\n",
       "Yes     237\n",
       "Name: Attrition, dtype: int64"
      ]
     },
     "execution_count": 24,
     "metadata": {},
     "output_type": "execute_result"
    }
   ],
   "source": [
    "datahr[\"Attrition\"].value_counts()"
   ]
  },
  {
   "cell_type": "code",
   "execution_count": 23,
   "metadata": {},
   "outputs": [
    {
     "data": {
      "text/plain": [
       "No     0.839104\n",
       "Yes    0.160896\n",
       "Name: Attrition, dtype: float64"
      ]
     },
     "execution_count": 23,
     "metadata": {},
     "output_type": "execute_result"
    }
   ],
   "source": [
    "datahr[\"Attrition\"].value_counts(normalize=True)\n",
    "\n",
    "#16.0896 employees left, let's see why."
   ]
  },
  {
   "cell_type": "markdown",
   "metadata": {},
   "source": [
    "## Age vs Attrition "
   ]
  },
  {
   "cell_type": "code",
   "execution_count": 25,
   "metadata": {},
   "outputs": [],
   "source": [
    "#let's find out if Age (AgeGroup actually) is a significant contribution to the attrition"
   ]
  },
  {
   "cell_type": "code",
   "execution_count": 30,
   "metadata": {},
   "outputs": [
    {
     "data": {
      "image/png": "[encoded data removed]",
      "text/plain": [
       "<Figure size 640x480 with 1 Axes>"
      ]
     },
     "metadata": {},
     "output_type": "display_data"
    }
   ],
   "source": [
    "sns.countplot(x=\"AgeGroup\", hue=\"left_company\", data=datahr)\n",
    "plt.title (\"Agre group vs employees who left the company\")\n",
    "plt.xlabel(\"Age Group\")\n",
    "plt.ylabel(\"Employee count\")\n",
    "plt.legend(title=\"Left Company (0=No,1=Yes)\")\n",
    "plt.show()"
   ]
  },
  {
   "cell_type": "code",
   "execution_count": 45,
   "metadata": {},
   "outputs": [
    {
     "data": {
      "text/html": [
       "<div>\n",
       "<style scoped>\n",
       "    .dataframe tbody tr th:only-of-type {\n",
       "        vertical-align: middle;\n",
       "    }\n",
       "\n",
       "    .dataframe tbody tr th {\n",
       "        vertical-align: top;\n",
       "    }\n",
       "\n",
       "    .dataframe thead th {\n",
       "        text-align: right;\n",
       "    }\n",
       "</style>\n",
       "<table border=\"1\" class=\"dataframe\">\n",
       "  <thead>\n",
       "    <tr style=\"text-align: right;\">\n",
       "      <th></th>\n",
       "      <th>AgeGroup</th>\n",
       "      <th>left_company</th>\n",
       "      <th>percentage</th>\n",
       "    </tr>\n",
       "  </thead>\n",
       "  <tbody>\n",
       "    <tr>\n",
       "      <th>0</th>\n",
       "      <td>18-25</td>\n",
       "      <td>0</td>\n",
       "      <td>64.227642</td>\n",
       "    </tr>\n",
       "    <tr>\n",
       "      <th>1</th>\n",
       "      <td>18-25</td>\n",
       "      <td>1</td>\n",
       "      <td>35.772358</td>\n",
       "    </tr>\n",
       "    <tr>\n",
       "      <th>2</th>\n",
       "      <td>26-35</td>\n",
       "      <td>0</td>\n",
       "      <td>80.889621</td>\n",
       "    </tr>\n",
       "    <tr>\n",
       "      <th>3</th>\n",
       "      <td>26-35</td>\n",
       "      <td>1</td>\n",
       "      <td>19.110379</td>\n",
       "    </tr>\n",
       "    <tr>\n",
       "      <th>4</th>\n",
       "      <td>36-45</td>\n",
       "      <td>0</td>\n",
       "      <td>90.851064</td>\n",
       "    </tr>\n",
       "    <tr>\n",
       "      <th>5</th>\n",
       "      <td>36-45</td>\n",
       "      <td>1</td>\n",
       "      <td>9.148936</td>\n",
       "    </tr>\n",
       "    <tr>\n",
       "      <th>6</th>\n",
       "      <td>46-55</td>\n",
       "      <td>0</td>\n",
       "      <td>88.495575</td>\n",
       "    </tr>\n",
       "    <tr>\n",
       "      <th>7</th>\n",
       "      <td>46-55</td>\n",
       "      <td>1</td>\n",
       "      <td>11.504425</td>\n",
       "    </tr>\n",
       "    <tr>\n",
       "      <th>8</th>\n",
       "      <td>55+</td>\n",
       "      <td>0</td>\n",
       "      <td>82.978723</td>\n",
       "    </tr>\n",
       "    <tr>\n",
       "      <th>9</th>\n",
       "      <td>55+</td>\n",
       "      <td>1</td>\n",
       "      <td>17.021277</td>\n",
       "    </tr>\n",
       "  </tbody>\n",
       "</table>\n",
       "</div>"
      ],
      "text/plain": [
       "  AgeGroup  left_company  percentage\n",
       "0    18-25             0   64.227642\n",
       "1    18-25             1   35.772358\n",
       "2    26-35             0   80.889621\n",
       "3    26-35             1   19.110379\n",
       "4    36-45             0   90.851064\n",
       "5    36-45             1    9.148936\n",
       "6    46-55             0   88.495575\n",
       "7    46-55             1   11.504425\n",
       "8      55+             0   82.978723\n",
       "9      55+             1   17.021277"
      ]
     },
     "execution_count": 45,
     "metadata": {},
     "output_type": "execute_result"
    }
   ],
   "source": [
    "datahr_perage = datahr.groupby(\"AgeGroup\")[\"left_company\"].value_counts(normalize=True).mul(100).rename(\"percentage\").reset_index()\n",
    "datahr_perage"
   ]
  },
  {
   "cell_type": "code",
   "execution_count": 46,
   "metadata": {},
   "outputs": [
    {
     "data": {
      "image/png": "[encoded data removed]",
      "text/plain": [
       "<Figure size 640x480 with 1 Axes>"
      ]
     },
     "metadata": {},
     "output_type": "display_data"
    }
   ],
   "source": [
    "sns.barplot(x=\"AgeGroup\",y=\"percentage\", hue=\"left_company\",data=datahr_perage)\n",
    "plt.title(\"% employees per age left\")\n",
    "plt.xlabel(\"Age group\")\n",
    "plt.ylabel(\"Percentage of employees\")\n",
    "plt.legend(title=\"Lef Company (0=No,1=Yes)\")\n",
    "plt.show()\n",
    "\n"
   ]
  },
  {
   "cell_type": "markdown",
   "metadata": {},
   "source": [
    "<p>Data shows that employees in age range 18-25 are more likely to leave 35.77, followed by 26-35 (19%) and +55 (17%). But why?</p>"
   ]
  },
  {
   "cell_type": "markdown",
   "metadata": {},
   "source": [
    "## Business travel vs Attrition "
   ]
  },
  {
   "cell_type": "code",
   "execution_count": 53,
   "metadata": {},
   "outputs": [
    {
     "data": {
      "text/html": [
       "<div>\n",
       "<style scoped>\n",
       "    .dataframe tbody tr th:only-of-type {\n",
       "        vertical-align: middle;\n",
       "    }\n",
       "\n",
       "    .dataframe tbody tr th {\n",
       "        vertical-align: top;\n",
       "    }\n",
       "\n",
       "    .dataframe thead th {\n",
       "        text-align: right;\n",
       "    }\n",
       "</style>\n",
       "<table border=\"1\" class=\"dataframe\">\n",
       "  <thead>\n",
       "    <tr style=\"text-align: right;\">\n",
       "      <th></th>\n",
       "      <th>BusinessTravel</th>\n",
       "      <th>left_company</th>\n",
       "      <th>percentage</th>\n",
       "    </tr>\n",
       "  </thead>\n",
       "  <tbody>\n",
       "    <tr>\n",
       "      <th>0</th>\n",
       "      <td>Frequently</td>\n",
       "      <td>0</td>\n",
       "      <td>75.179856</td>\n",
       "    </tr>\n",
       "    <tr>\n",
       "      <th>1</th>\n",
       "      <td>Frequently</td>\n",
       "      <td>1</td>\n",
       "      <td>24.820144</td>\n",
       "    </tr>\n",
       "    <tr>\n",
       "      <th>2</th>\n",
       "      <td>No</td>\n",
       "      <td>0</td>\n",
       "      <td>92.000000</td>\n",
       "    </tr>\n",
       "    <tr>\n",
       "      <th>3</th>\n",
       "      <td>No</td>\n",
       "      <td>1</td>\n",
       "      <td>8.000000</td>\n",
       "    </tr>\n",
       "    <tr>\n",
       "      <th>4</th>\n",
       "      <td>Rarely</td>\n",
       "      <td>0</td>\n",
       "      <td>85.071770</td>\n",
       "    </tr>\n",
       "    <tr>\n",
       "      <th>5</th>\n",
       "      <td>Rarely</td>\n",
       "      <td>1</td>\n",
       "      <td>14.928230</td>\n",
       "    </tr>\n",
       "  </tbody>\n",
       "</table>\n",
       "</div>"
      ],
      "text/plain": [
       "  BusinessTravel  left_company  percentage\n",
       "0     Frequently             0   75.179856\n",
       "1     Frequently             1   24.820144\n",
       "2             No             0   92.000000\n",
       "3             No             1    8.000000\n",
       "4         Rarely             0   85.071770\n",
       "5         Rarely             1   14.928230"
      ]
     },
     "execution_count": 53,
     "metadata": {},
     "output_type": "execute_result"
    }
   ],
   "source": [
    "datahr_pertravel=datahr.groupby(\"BusinessTravel\")[\"left_company\"].value_counts(normalize=True).mul(100).rename(\"percentage\").reset_index()\n",
    "datahr_pertravel"
   ]
  },
  {
   "cell_type": "code",
   "execution_count": 82,
   "metadata": {},
   "outputs": [
    {
     "data": {
      "image/png": "[encoded data removed]",
      "text/plain": [
       "<Figure size 640x480 with 1 Axes>"
      ]
     },
     "metadata": {},
     "output_type": "display_data"
    }
   ],
   "source": [
    "sns.barplot(x=\"BusinessTravel\",y=\"percentage\",hue=\"left_company\",data=datahr_pertravel)\n",
    "plt.title(\"Business Travel vs Employees\")\n",
    "plt.xlabel(\"Travel frequence\")\n",
    "plt.ylabel(\"Percentage\")\n",
    "plt.legend(title=\"Left Company(0=No,1=Yes)\")\n",
    "plt.show()"
   ]
  },
  {
   "cell_type": "markdown",
   "metadata": {},
   "source": [
    "<p> Results show that the more frequent the employees travel for business the more likely they are to leave the company. Do younger employees travel more? Let's find out </p>"
   ]
  },
  {
   "cell_type": "code",
   "execution_count": 58,
   "metadata": {},
   "outputs": [
    {
     "data": {
      "text/html": [
       "<div>\n",
       "<style scoped>\n",
       "    .dataframe tbody tr th:only-of-type {\n",
       "        vertical-align: middle;\n",
       "    }\n",
       "\n",
       "    .dataframe tbody tr th {\n",
       "        vertical-align: top;\n",
       "    }\n",
       "\n",
       "    .dataframe thead th {\n",
       "        text-align: right;\n",
       "    }\n",
       "</style>\n",
       "<table border=\"1\" class=\"dataframe\">\n",
       "  <thead>\n",
       "    <tr style=\"text-align: right;\">\n",
       "      <th></th>\n",
       "      <th>AgeGroup</th>\n",
       "      <th>BusinessTravel</th>\n",
       "      <th>percentage</th>\n",
       "    </tr>\n",
       "  </thead>\n",
       "  <tbody>\n",
       "    <tr>\n",
       "      <th>0</th>\n",
       "      <td>18-25</td>\n",
       "      <td>Rarely</td>\n",
       "      <td>75.609756</td>\n",
       "    </tr>\n",
       "    <tr>\n",
       "      <th>1</th>\n",
       "      <td>18-25</td>\n",
       "      <td>Frequently</td>\n",
       "      <td>13.821138</td>\n",
       "    </tr>\n",
       "    <tr>\n",
       "      <th>2</th>\n",
       "      <td>18-25</td>\n",
       "      <td>No</td>\n",
       "      <td>10.569106</td>\n",
       "    </tr>\n",
       "    <tr>\n",
       "      <th>3</th>\n",
       "      <td>26-35</td>\n",
       "      <td>Rarely</td>\n",
       "      <td>69.357496</td>\n",
       "    </tr>\n",
       "    <tr>\n",
       "      <th>4</th>\n",
       "      <td>26-35</td>\n",
       "      <td>Frequently</td>\n",
       "      <td>21.087315</td>\n",
       "    </tr>\n",
       "    <tr>\n",
       "      <th>5</th>\n",
       "      <td>26-35</td>\n",
       "      <td>No</td>\n",
       "      <td>9.555189</td>\n",
       "    </tr>\n",
       "    <tr>\n",
       "      <th>6</th>\n",
       "      <td>36-45</td>\n",
       "      <td>Rarely</td>\n",
       "      <td>68.723404</td>\n",
       "    </tr>\n",
       "    <tr>\n",
       "      <th>7</th>\n",
       "      <td>36-45</td>\n",
       "      <td>Frequently</td>\n",
       "      <td>18.936170</td>\n",
       "    </tr>\n",
       "    <tr>\n",
       "      <th>8</th>\n",
       "      <td>36-45</td>\n",
       "      <td>No</td>\n",
       "      <td>12.340426</td>\n",
       "    </tr>\n",
       "    <tr>\n",
       "      <th>9</th>\n",
       "      <td>46-55</td>\n",
       "      <td>Rarely</td>\n",
       "      <td>75.663717</td>\n",
       "    </tr>\n",
       "    <tr>\n",
       "      <th>10</th>\n",
       "      <td>46-55</td>\n",
       "      <td>Frequently</td>\n",
       "      <td>16.814159</td>\n",
       "    </tr>\n",
       "    <tr>\n",
       "      <th>11</th>\n",
       "      <td>46-55</td>\n",
       "      <td>No</td>\n",
       "      <td>7.522124</td>\n",
       "    </tr>\n",
       "    <tr>\n",
       "      <th>12</th>\n",
       "      <td>55+</td>\n",
       "      <td>Rarely</td>\n",
       "      <td>78.723404</td>\n",
       "    </tr>\n",
       "    <tr>\n",
       "      <th>13</th>\n",
       "      <td>55+</td>\n",
       "      <td>Frequently</td>\n",
       "      <td>12.765957</td>\n",
       "    </tr>\n",
       "    <tr>\n",
       "      <th>14</th>\n",
       "      <td>55+</td>\n",
       "      <td>No</td>\n",
       "      <td>8.510638</td>\n",
       "    </tr>\n",
       "  </tbody>\n",
       "</table>\n",
       "</div>"
      ],
      "text/plain": [
       "   AgeGroup BusinessTravel  percentage\n",
       "0     18-25         Rarely   75.609756\n",
       "1     18-25     Frequently   13.821138\n",
       "2     18-25             No   10.569106\n",
       "3     26-35         Rarely   69.357496\n",
       "4     26-35     Frequently   21.087315\n",
       "5     26-35             No    9.555189\n",
       "6     36-45         Rarely   68.723404\n",
       "7     36-45     Frequently   18.936170\n",
       "8     36-45             No   12.340426\n",
       "9     46-55         Rarely   75.663717\n",
       "10    46-55     Frequently   16.814159\n",
       "11    46-55             No    7.522124\n",
       "12      55+         Rarely   78.723404\n",
       "13      55+     Frequently   12.765957\n",
       "14      55+             No    8.510638"
      ]
     },
     "execution_count": 58,
     "metadata": {},
     "output_type": "execute_result"
    }
   ],
   "source": [
    "hrtravelperage=datahr.groupby(\"AgeGroup\")[\"BusinessTravel\"].value_counts(normalize=True).mul(100).rename(\"percentage\").reset_index()\n",
    "hrtravelperage"
   ]
  },
  {
   "cell_type": "code",
   "execution_count": 63,
   "metadata": {},
   "outputs": [
    {
     "data": {
      "text/html": [
       "<div>\n",
       "<style scoped>\n",
       "    .dataframe tbody tr th:only-of-type {\n",
       "        vertical-align: middle;\n",
       "    }\n",
       "\n",
       "    .dataframe tbody tr th {\n",
       "        vertical-align: top;\n",
       "    }\n",
       "\n",
       "    .dataframe thead th {\n",
       "        text-align: right;\n",
       "    }\n",
       "</style>\n",
       "<table border=\"1\" class=\"dataframe\">\n",
       "  <thead>\n",
       "    <tr style=\"text-align: right;\">\n",
       "      <th></th>\n",
       "      <th>AgeGroup</th>\n",
       "      <th>BusinessTravel</th>\n",
       "      <th>percentage</th>\n",
       "    </tr>\n",
       "  </thead>\n",
       "  <tbody>\n",
       "    <tr>\n",
       "      <th>4</th>\n",
       "      <td>26-35</td>\n",
       "      <td>Frequently</td>\n",
       "      <td>21.087315</td>\n",
       "    </tr>\n",
       "    <tr>\n",
       "      <th>7</th>\n",
       "      <td>36-45</td>\n",
       "      <td>Frequently</td>\n",
       "      <td>18.936170</td>\n",
       "    </tr>\n",
       "    <tr>\n",
       "      <th>10</th>\n",
       "      <td>46-55</td>\n",
       "      <td>Frequently</td>\n",
       "      <td>16.814159</td>\n",
       "    </tr>\n",
       "    <tr>\n",
       "      <th>1</th>\n",
       "      <td>18-25</td>\n",
       "      <td>Frequently</td>\n",
       "      <td>13.821138</td>\n",
       "    </tr>\n",
       "    <tr>\n",
       "      <th>13</th>\n",
       "      <td>55+</td>\n",
       "      <td>Frequently</td>\n",
       "      <td>12.765957</td>\n",
       "    </tr>\n",
       "  </tbody>\n",
       "</table>\n",
       "</div>"
      ],
      "text/plain": [
       "   AgeGroup BusinessTravel  percentage\n",
       "4     26-35     Frequently   21.087315\n",
       "7     36-45     Frequently   18.936170\n",
       "10    46-55     Frequently   16.814159\n",
       "1     18-25     Frequently   13.821138\n",
       "13      55+     Frequently   12.765957"
      ]
     },
     "execution_count": 63,
     "metadata": {},
     "output_type": "execute_result"
    }
   ],
   "source": [
    "hrtravelperagefrequent=hrtravelperage[hrtravelperage[\"BusinessTravel\"]==\"Frequently\"].sort_values(by=\"percentage\",ascending=False)\n",
    "hrtravelperagefrequent"
   ]
  },
  {
   "cell_type": "markdown",
   "metadata": {},
   "source": [
    "<p>Data shows that Age Group 18-25 is far from being the group that travels the most, having one of the lowest percentages in frequent business travel.</p>"
   ]
  },
  {
   "cell_type": "markdown",
   "metadata": {},
   "source": [
    "### DailyRate vs Attrition"
   ]
  },
  {
   "cell_type": "code",
   "execution_count": 69,
   "metadata": {},
   "outputs": [
    {
     "data": {
      "text/plain": [
       "count    1473.000000\n",
       "mean      802.659878\n",
       "std       403.245460\n",
       "min       102.000000\n",
       "25%       465.000000\n",
       "50%       802.000000\n",
       "75%      1157.000000\n",
       "max      1499.000000\n",
       "Name: DailyRate, dtype: float64"
      ]
     },
     "execution_count": 69,
     "metadata": {},
     "output_type": "execute_result"
    }
   ],
   "source": [
    "datahr[\"DailyRate\"].describe()"
   ]
  },
  {
   "cell_type": "code",
   "execution_count": 70,
   "metadata": {},
   "outputs": [],
   "source": [
    "#because the daily rate has too many different values and they all have a range between 102 and 1499, we decided to create a new column grouping daily rates in 4:\n",
    "def rategrouping(i):\n",
    "    if i <400:\n",
    "        return \"100-399\"\n",
    "    elif i>=400 and i<=800:\n",
    "        return \"400-799\"\n",
    "    elif i>=800 and i<=1200:\n",
    "        return \"800-1199\"\n",
    "    else:\n",
    "        return \"+1200\""
   ]
  },
  {
   "cell_type": "code",
   "execution_count": 71,
   "metadata": {},
   "outputs": [],
   "source": [
    "datahr[\"Dayrate group\"]=datahr[\"DailyRate\"].apply(rategrouping)"
   ]
  },
  {
   "cell_type": "code",
   "execution_count": 73,
   "metadata": {},
   "outputs": [
    {
     "data": {
      "text/plain": [
       "array(['100-399', '800-1199', '+1200', '400-799'], dtype=object)"
      ]
     },
     "execution_count": 73,
     "metadata": {},
     "output_type": "execute_result"
    }
   ],
   "source": [
    "datahr[\"Dayrate group\"].unique()"
   ]
  },
  {
   "cell_type": "code",
   "execution_count": 78,
   "metadata": {},
   "outputs": [
    {
     "data": {
      "text/html": [
       "<div>\n",
       "<style scoped>\n",
       "    .dataframe tbody tr th:only-of-type {\n",
       "        vertical-align: middle;\n",
       "    }\n",
       "\n",
       "    .dataframe tbody tr th {\n",
       "        vertical-align: top;\n",
       "    }\n",
       "\n",
       "    .dataframe thead th {\n",
       "        text-align: right;\n",
       "    }\n",
       "</style>\n",
       "<table border=\"1\" class=\"dataframe\">\n",
       "  <thead>\n",
       "    <tr style=\"text-align: right;\">\n",
       "      <th></th>\n",
       "      <th>Dayrate group</th>\n",
       "      <th>left_company</th>\n",
       "      <th>percentage</th>\n",
       "    </tr>\n",
       "  </thead>\n",
       "  <tbody>\n",
       "    <tr>\n",
       "      <th>0</th>\n",
       "      <td>+1200</td>\n",
       "      <td>0</td>\n",
       "      <td>86.645963</td>\n",
       "    </tr>\n",
       "    <tr>\n",
       "      <th>1</th>\n",
       "      <td>+1200</td>\n",
       "      <td>1</td>\n",
       "      <td>13.354037</td>\n",
       "    </tr>\n",
       "    <tr>\n",
       "      <th>2</th>\n",
       "      <td>100-399</td>\n",
       "      <td>0</td>\n",
       "      <td>80.333333</td>\n",
       "    </tr>\n",
       "    <tr>\n",
       "      <th>3</th>\n",
       "      <td>100-399</td>\n",
       "      <td>1</td>\n",
       "      <td>19.666667</td>\n",
       "    </tr>\n",
       "    <tr>\n",
       "      <th>4</th>\n",
       "      <td>400-799</td>\n",
       "      <td>0</td>\n",
       "      <td>82.949309</td>\n",
       "    </tr>\n",
       "    <tr>\n",
       "      <th>5</th>\n",
       "      <td>400-799</td>\n",
       "      <td>1</td>\n",
       "      <td>17.050691</td>\n",
       "    </tr>\n",
       "    <tr>\n",
       "      <th>6</th>\n",
       "      <td>800-1199</td>\n",
       "      <td>0</td>\n",
       "      <td>85.371703</td>\n",
       "    </tr>\n",
       "    <tr>\n",
       "      <th>7</th>\n",
       "      <td>800-1199</td>\n",
       "      <td>1</td>\n",
       "      <td>14.628297</td>\n",
       "    </tr>\n",
       "  </tbody>\n",
       "</table>\n",
       "</div>"
      ],
      "text/plain": [
       "  Dayrate group  left_company  percentage\n",
       "0         +1200             0   86.645963\n",
       "1         +1200             1   13.354037\n",
       "2       100-399             0   80.333333\n",
       "3       100-399             1   19.666667\n",
       "4       400-799             0   82.949309\n",
       "5       400-799             1   17.050691\n",
       "6      800-1199             0   85.371703\n",
       "7      800-1199             1   14.628297"
      ]
     },
     "execution_count": 78,
     "metadata": {},
     "output_type": "execute_result"
    }
   ],
   "source": [
    "hrdayrate=datahr.groupby(\"Dayrate group\")[\"left_company\"].value_counts(normalize=True).mul(100).rename(\"percentage\").reset_index()\n",
    "hrdayrate\n",
    "\n",
    "\n"
   ]
  },
  {
   "cell_type": "code",
   "execution_count": 81,
   "metadata": {},
   "outputs": [
    {
     "data": {
      "image/png": "[encoded data removed]",
      "text/plain": [
       "<Figure size 640x480 with 1 Axes>"
      ]
     },
     "metadata": {},
     "output_type": "display_data"
    }
   ],
   "source": [
    "sns.barplot(x=\"Dayrate group\", y=\"percentage\", hue=\"left_company\",data=hrdayrate)\n",
    "plt.title(\"Daily rate vs Employee attrition\")\n",
    "plt.xlabel(\"Daily rate grouped\")\n",
    "plt.ylabel(\"Percentage\")\n",
    "plt.legend(title=\"Left Company(0=No,1=Yes)\")\n",
    "plt.show()"
   ]
  },
  {
   "cell_type": "markdown",
   "metadata": {},
   "source": [
    "###  Department vs Attrition"
   ]
  },
  {
   "cell_type": "code",
   "execution_count": 88,
   "metadata": {},
   "outputs": [
    {
     "data": {
      "text/html": [
       "<div>\n",
       "<style scoped>\n",
       "    .dataframe tbody tr th:only-of-type {\n",
       "        vertical-align: middle;\n",
       "    }\n",
       "\n",
       "    .dataframe tbody tr th {\n",
       "        vertical-align: top;\n",
       "    }\n",
       "\n",
       "    .dataframe thead th {\n",
       "        text-align: right;\n",
       "    }\n",
       "</style>\n",
       "<table border=\"1\" class=\"dataframe\">\n",
       "  <thead>\n",
       "    <tr style=\"text-align: right;\">\n",
       "      <th></th>\n",
       "      <th>Department</th>\n",
       "      <th>left_company</th>\n",
       "      <th>percentage</th>\n",
       "    </tr>\n",
       "  </thead>\n",
       "  <tbody>\n",
       "    <tr>\n",
       "      <th>0</th>\n",
       "      <td>Human Resources</td>\n",
       "      <td>0</td>\n",
       "      <td>80.952381</td>\n",
       "    </tr>\n",
       "    <tr>\n",
       "      <th>1</th>\n",
       "      <td>Human Resources</td>\n",
       "      <td>1</td>\n",
       "      <td>19.047619</td>\n",
       "    </tr>\n",
       "    <tr>\n",
       "      <th>2</th>\n",
       "      <td>Research &amp; Development</td>\n",
       "      <td>0</td>\n",
       "      <td>86.188993</td>\n",
       "    </tr>\n",
       "    <tr>\n",
       "      <th>3</th>\n",
       "      <td>Research &amp; Development</td>\n",
       "      <td>1</td>\n",
       "      <td>13.811007</td>\n",
       "    </tr>\n",
       "    <tr>\n",
       "      <th>4</th>\n",
       "      <td>Sales</td>\n",
       "      <td>0</td>\n",
       "      <td>79.418345</td>\n",
       "    </tr>\n",
       "    <tr>\n",
       "      <th>5</th>\n",
       "      <td>Sales</td>\n",
       "      <td>1</td>\n",
       "      <td>20.581655</td>\n",
       "    </tr>\n",
       "  </tbody>\n",
       "</table>\n",
       "</div>"
      ],
      "text/plain": [
       "               Department  left_company  percentage\n",
       "0         Human Resources             0   80.952381\n",
       "1         Human Resources             1   19.047619\n",
       "2  Research & Development             0   86.188993\n",
       "3  Research & Development             1   13.811007\n",
       "4                   Sales             0   79.418345\n",
       "5                   Sales             1   20.581655"
      ]
     },
     "execution_count": 88,
     "metadata": {},
     "output_type": "execute_result"
    }
   ],
   "source": [
    "departmenthr=datahr.groupby(\"Department\")[\"left_company\"].value_counts(normalize=True).mul(100).rename(\"percentage\").reset_index()\n",
    "departmenthr"
   ]
  },
  {
   "cell_type": "code",
   "execution_count": 90,
   "metadata": {},
   "outputs": [
    {
     "data": {
      "image/png": "[encoded data removed]",
      "text/plain": [
       "<Figure size 640x480 with 1 Axes>"
      ]
     },
     "metadata": {},
     "output_type": "display_data"
    }
   ],
   "source": [
    "sns.barplot(x=\"Department\",y=\"percentage\",hue=\"left_company\",data=departmenthr)\n",
    "plt.title(\"Department vs Employees\")\n",
    "plt.xlabel(\"Department\")\n",
    "plt.ylabel(\"Percentage\")\n",
    "plt.legend(title=\"Employees attrition per department(0=No,1=Yes)\")\n",
    "plt.show()"
   ]
  },
  {
   "cell_type": "code",
   "execution_count": null,
   "metadata": {},
   "outputs": [],
   "source": [
    "sns.barplot(x=\"BusinessTravel\",y=\"percentage\",hue=\"left_company\",data=datahr_pertravel)\n",
    "plt.title(\"Business Travel vs Employees\")\n",
    "plt.xlabel(\"Percentage\")\n",
    "plt.ylabel(\"Travel frequence\")\n",
    "plt.legend(title=\"Left Company(0=No,1=Yes)\")\n",
    "plt.show()"
   ]
  },
  {
   "cell_type": "markdown",
   "metadata": {},
   "source": [
    "### Distance vs Attrition"
   ]
  },
  {
   "cell_type": "code",
   "execution_count": 110,
   "metadata": {},
   "outputs": [],
   "source": [
    "def distancegroup(i):\n",
    "    if i<11:\n",
    "        return \"1-10\"\n",
    "    elif i>=11 and i<21:\n",
    "        return \"11-20\"\n",
    "    else:\n",
    "        return \"21+\""
   ]
  },
  {
   "cell_type": "code",
   "execution_count": 111,
   "metadata": {},
   "outputs": [],
   "source": [
    "datahr[\"distance grouped\"]=datahr['DistanceFromHome'].apply(distancegroup)"
   ]
  },
  {
   "cell_type": "code",
   "execution_count": 114,
   "metadata": {},
   "outputs": [
    {
     "data": {
      "text/html": [
       "<div>\n",
       "<style scoped>\n",
       "    .dataframe tbody tr th:only-of-type {\n",
       "        vertical-align: middle;\n",
       "    }\n",
       "\n",
       "    .dataframe tbody tr th {\n",
       "        vertical-align: top;\n",
       "    }\n",
       "\n",
       "    .dataframe thead th {\n",
       "        text-align: right;\n",
       "    }\n",
       "</style>\n",
       "<table border=\"1\" class=\"dataframe\">\n",
       "  <thead>\n",
       "    <tr style=\"text-align: right;\">\n",
       "      <th></th>\n",
       "      <th>distance grouped</th>\n",
       "      <th>left_company</th>\n",
       "      <th>percentage</th>\n",
       "    </tr>\n",
       "  </thead>\n",
       "  <tbody>\n",
       "    <tr>\n",
       "      <th>0</th>\n",
       "      <td>1-10</td>\n",
       "      <td>0</td>\n",
       "      <td>85.992218</td>\n",
       "    </tr>\n",
       "    <tr>\n",
       "      <th>1</th>\n",
       "      <td>1-10</td>\n",
       "      <td>1</td>\n",
       "      <td>14.007782</td>\n",
       "    </tr>\n",
       "    <tr>\n",
       "      <th>2</th>\n",
       "      <td>11-20</td>\n",
       "      <td>0</td>\n",
       "      <td>80.000000</td>\n",
       "    </tr>\n",
       "    <tr>\n",
       "      <th>3</th>\n",
       "      <td>11-20</td>\n",
       "      <td>1</td>\n",
       "      <td>20.000000</td>\n",
       "    </tr>\n",
       "    <tr>\n",
       "      <th>4</th>\n",
       "      <td>21+</td>\n",
       "      <td>0</td>\n",
       "      <td>78.048780</td>\n",
       "    </tr>\n",
       "    <tr>\n",
       "      <th>5</th>\n",
       "      <td>21+</td>\n",
       "      <td>1</td>\n",
       "      <td>21.951220</td>\n",
       "    </tr>\n",
       "  </tbody>\n",
       "</table>\n",
       "</div>"
      ],
      "text/plain": [
       "  distance grouped  left_company  percentage\n",
       "0             1-10             0   85.992218\n",
       "1             1-10             1   14.007782\n",
       "2            11-20             0   80.000000\n",
       "3            11-20             1   20.000000\n",
       "4              21+             0   78.048780\n",
       "5              21+             1   21.951220"
      ]
     },
     "execution_count": 114,
     "metadata": {},
     "output_type": "execute_result"
    }
   ],
   "source": [
    "disthr=datahr.groupby('distance grouped')[\"left_company\"].value_counts(normalize=True).mul(100).rename(\"percentage\").reset_index()\n",
    "disthr"
   ]
  },
  {
   "cell_type": "code",
   "execution_count": 115,
   "metadata": {},
   "outputs": [
    {
     "data": {
      "image/png": "[encoded data removed]",
      "text/plain": [
       "<Figure size 640x480 with 1 Axes>"
      ]
     },
     "metadata": {},
     "output_type": "display_data"
    }
   ],
   "source": [
    "sns.lineplot(x=\"distance grouped\", y=\"percentage\", hue=\"left_company\", data=disthr)\n",
    "\n",
    "plt.title(\"Percentage of Employees Leaving or Staying by Distance from Home\")\n",
    "plt.xlabel(\"Distance From Home\")\n",
    "plt.ylabel(\"Percentage\")\n",
    "plt.show()\n"
   ]
  },
  {
   "cell_type": "markdown",
   "metadata": {},
   "source": [
    "<p>The data suggests that when the distance from home exceeds 10, the likelihood of leaving the company increases from 14% to 20%. However, the percentage shows little variation beyond 20, rising only slightly to 21.9%, compared to the larger increase in the 10–20 range.</p>"
   ]
  },
  {
   "cell_type": "markdown",
   "metadata": {},
   "source": [
    "### Eductation level vs Attrition"
   ]
  },
  {
   "cell_type": "code",
   "execution_count": 117,
   "metadata": {},
   "outputs": [
    {
     "data": {
      "text/plain": [
       "-0.03052613750095787"
      ]
     },
     "execution_count": 117,
     "metadata": {},
     "output_type": "execute_result"
    }
   ],
   "source": [
    "correlation_edu=datahr[\"Education\"].corr(datahr[\"left_company\"])\n",
    "correlation_edu"
   ]
  },
  {
   "cell_type": "markdown",
   "metadata": {},
   "source": [
    "<p>The results show that Education level has a weak impact</p>"
   ]
  },
  {
   "cell_type": "markdown",
   "metadata": {},
   "source": [
    "### (Other) Numerical variables"
   ]
  },
  {
   "cell_type": "code",
   "execution_count": 137,
   "metadata": {},
   "outputs": [
    {
     "data": {
      "text/plain": [
       "array([80], dtype=int64)"
      ]
     },
     "execution_count": 137,
     "metadata": {},
     "output_type": "execute_result"
    }
   ],
   "source": [
    "datahr[\"StandardHours\"].unique()\n",
    "#StandardHours,'EmployeeCount', 'EmployeeNumber' are discarded from analysis since they don't provide useful data \n"
   ]
  },
  {
   "cell_type": "code",
   "execution_count": 147,
   "metadata": {},
   "outputs": [
    {
     "name": "stdout",
     "output_type": "stream",
     "text": [
      "left_company                1.000000\n",
      "DistanceFromHome            0.077585\n",
      "NumCompaniesWorked          0.043469\n",
      "MonthlyRate                 0.014647\n",
      "PerformanceRating           0.003268\n",
      "HourlyRate                 -0.005593\n",
      "PercentSalaryHike          -0.013827\n",
      "YearsSinceLastPromotion    -0.032487\n",
      "RelationshipSatisfaction   -0.045763\n",
      "TrainingTimesLastYear      -0.059769\n",
      "WorkLifeBalance            -0.064221\n",
      "JobSatisfaction            -0.103276\n",
      "EnvironmentSatisfaction    -0.104022\n",
      "JobInvolvement             -0.129678\n",
      "YearsAtCompany             -0.134106\n",
      "StockOptionLevel           -0.136939\n",
      "YearsWithCurrManager       -0.157813\n",
      "Age                        -0.158775\n",
      "MonthlyIncome              -0.159458\n",
      "YearsInCurrentRole         -0.160302\n",
      "JobLevel                   -0.168926\n",
      "TotalWorkingYears          -0.170847\n",
      "Name: left_company, dtype: float64\n"
     ]
    }
   ],
   "source": [
    "## These variables are numerical so we will check their correlation with attrition. We included Age and distance from home, despite having performed an individual analysis so to get a deeper understanding of the data:\n",
    "numerical_variables= [\"Age\",'DistanceFromHome',\"EnvironmentSatisfaction\",'HourlyRate', 'JobInvolvement', 'JobLevel', 'JobRole',\n",
    "       'JobSatisfaction', 'MonthlyIncome', 'SalarySlab',\n",
    "       'MonthlyRate', 'NumCompaniesWorked', 'Over18', 'OverTime',\n",
    "       'PercentSalaryHike', 'PerformanceRating', 'RelationshipSatisfaction',\n",
    "        'StockOptionLevel', 'TotalWorkingYears',\n",
    "       'TrainingTimesLastYear', 'WorkLifeBalance', 'YearsAtCompany',\n",
    "       'YearsInCurrentRole', 'YearsSinceLastPromotion', 'YearsWithCurrManager',\"left_company\"]\n",
    "correlation_matrix=datahr[numerical_variables].corr()\n",
    "print(correlation_matrix[\"left_company\"].sort_values(ascending=False))\n",
    "\n"
   ]
  },
  {
   "cell_type": "markdown",
   "metadata": {},
   "source": [
    "<p>The correlation analysis shows that none of these variables have a strong impact on employees' decisions to leave the company. Although not significant, the data suggests that, among the variables we calculated correlations for, 'Distance from Home' and 'Number of Companies Worked' are the most relevant factors influencing employees to leave. However, the correlations are weak, indicating that while these variables may make employees more likely to leave, their overall impact is low.\n",
    "\n",
    "Distance from Home: 0.077585\n",
    "Number of Companies Worked: 0.043469\n",
    "Additionally, variables with negative correlations, such as age and monthly income, indicate that employees who are older or earn higher salaries are less likely to leave the company, which is consistent with expectations.</p>"
   ]
  },
  {
   "cell_type": "markdown",
   "metadata": {},
   "source": [
    "### EnvironmentSatisfaction vs Attrition\n"
   ]
  },
  {
   "cell_type": "code",
   "execution_count": 151,
   "metadata": {},
   "outputs": [],
   "source": [
    "Environmenthr=datahr.groupby(\"EnvironmentSatisfaction\")[\"left_company\"].value_counts(normalize=True).mul(100).rename(\"percentage\").reset_index()\n"
   ]
  },
  {
   "cell_type": "code",
   "execution_count": 146,
   "metadata": {},
   "outputs": [
    {
     "data": {
      "image/png": "[encoded data removed]",
      "text/plain": [
       "<Figure size 640x480 with 1 Axes>"
      ]
     },
     "metadata": {},
     "output_type": "display_data"
    }
   ],
   "source": [
    "sns.barplot(x=\"EnvironmentSatisfaction\", y=\"percentage\", hue=\"left_company\", data=Environmenthr)\n",
    "plt.title(\"Environment Satisfaction vs Attrition\")\n",
    "plt.xlabel(\"Environment Satisfaction\")\n",
    "plt.ylabel(\"Percentage\")\n",
    "plt.legend(title=\"Left the company (0=No,1=Yes)\")\n",
    "plt.show()\n",
    "\n"
   ]
  },
  {
   "cell_type": "code",
   "execution_count": 148,
   "metadata": {},
   "outputs": [
    {
     "data": {
      "text/html": [
       "<div>\n",
       "<style scoped>\n",
       "    .dataframe tbody tr th:only-of-type {\n",
       "        vertical-align: middle;\n",
       "    }\n",
       "\n",
       "    .dataframe tbody tr th {\n",
       "        vertical-align: top;\n",
       "    }\n",
       "\n",
       "    .dataframe thead th {\n",
       "        text-align: right;\n",
       "    }\n",
       "</style>\n",
       "<table border=\"1\" class=\"dataframe\">\n",
       "  <thead>\n",
       "    <tr style=\"text-align: right;\">\n",
       "      <th></th>\n",
       "      <th>EnvironmentSatisfaction</th>\n",
       "      <th>left_company</th>\n",
       "      <th>percentage</th>\n",
       "    </tr>\n",
       "  </thead>\n",
       "  <tbody>\n",
       "    <tr>\n",
       "      <th>0</th>\n",
       "      <td>1</td>\n",
       "      <td>0</td>\n",
       "      <td>74.647887</td>\n",
       "    </tr>\n",
       "    <tr>\n",
       "      <th>1</th>\n",
       "      <td>1</td>\n",
       "      <td>1</td>\n",
       "      <td>25.352113</td>\n",
       "    </tr>\n",
       "    <tr>\n",
       "      <th>2</th>\n",
       "      <td>2</td>\n",
       "      <td>0</td>\n",
       "      <td>85.017422</td>\n",
       "    </tr>\n",
       "    <tr>\n",
       "      <th>3</th>\n",
       "      <td>2</td>\n",
       "      <td>1</td>\n",
       "      <td>14.982578</td>\n",
       "    </tr>\n",
       "    <tr>\n",
       "      <th>4</th>\n",
       "      <td>3</td>\n",
       "      <td>0</td>\n",
       "      <td>86.343612</td>\n",
       "    </tr>\n",
       "    <tr>\n",
       "      <th>5</th>\n",
       "      <td>3</td>\n",
       "      <td>1</td>\n",
       "      <td>13.656388</td>\n",
       "    </tr>\n",
       "    <tr>\n",
       "      <th>6</th>\n",
       "      <td>4</td>\n",
       "      <td>0</td>\n",
       "      <td>86.607143</td>\n",
       "    </tr>\n",
       "    <tr>\n",
       "      <th>7</th>\n",
       "      <td>4</td>\n",
       "      <td>1</td>\n",
       "      <td>13.392857</td>\n",
       "    </tr>\n",
       "  </tbody>\n",
       "</table>\n",
       "</div>"
      ],
      "text/plain": [
       "   EnvironmentSatisfaction  left_company  percentage\n",
       "0                        1             0   74.647887\n",
       "1                        1             1   25.352113\n",
       "2                        2             0   85.017422\n",
       "3                        2             1   14.982578\n",
       "4                        3             0   86.343612\n",
       "5                        3             1   13.656388\n",
       "6                        4             0   86.607143\n",
       "7                        4             1   13.392857"
      ]
     },
     "execution_count": 148,
     "metadata": {},
     "output_type": "execute_result"
    }
   ],
   "source": [
    "Environmenthr"
   ]
  },
  {
   "cell_type": "markdown",
   "metadata": {},
   "source": [
    "<p>The graphic shows that employees with a lower satisfaction are significantly more prone to leave, however, the likeness to leave the company shows no remarkable differences for other levels of environment satisfaction. We already tested this through the correlation calculation, which had a value of -0.10, meaning that higher the satisfaction the lower the attribution rate  </p>"
   ]
  },
  {
   "cell_type": "markdown",
   "metadata": {},
   "source": [
    "### MaritalStatus vs Attrition\n"
   ]
  },
  {
   "cell_type": "code",
   "execution_count": 158,
   "metadata": {},
   "outputs": [
    {
     "data": {
      "text/html": [
       "<div>\n",
       "<style scoped>\n",
       "    .dataframe tbody tr th:only-of-type {\n",
       "        vertical-align: middle;\n",
       "    }\n",
       "\n",
       "    .dataframe tbody tr th {\n",
       "        vertical-align: top;\n",
       "    }\n",
       "\n",
       "    .dataframe thead th {\n",
       "        text-align: right;\n",
       "    }\n",
       "</style>\n",
       "<table border=\"1\" class=\"dataframe\">\n",
       "  <thead>\n",
       "    <tr style=\"text-align: right;\">\n",
       "      <th></th>\n",
       "      <th>MaritalStatus</th>\n",
       "      <th>left_company</th>\n",
       "      <th>percentage</th>\n",
       "    </tr>\n",
       "  </thead>\n",
       "  <tbody>\n",
       "    <tr>\n",
       "      <th>0</th>\n",
       "      <td>Divorced</td>\n",
       "      <td>0</td>\n",
       "      <td>89.908257</td>\n",
       "    </tr>\n",
       "    <tr>\n",
       "      <th>1</th>\n",
       "      <td>Divorced</td>\n",
       "      <td>1</td>\n",
       "      <td>10.091743</td>\n",
       "    </tr>\n",
       "    <tr>\n",
       "      <th>2</th>\n",
       "      <td>Married</td>\n",
       "      <td>0</td>\n",
       "      <td>87.555556</td>\n",
       "    </tr>\n",
       "    <tr>\n",
       "      <th>3</th>\n",
       "      <td>Married</td>\n",
       "      <td>1</td>\n",
       "      <td>12.444444</td>\n",
       "    </tr>\n",
       "    <tr>\n",
       "      <th>4</th>\n",
       "      <td>Single</td>\n",
       "      <td>0</td>\n",
       "      <td>74.522293</td>\n",
       "    </tr>\n",
       "    <tr>\n",
       "      <th>5</th>\n",
       "      <td>Single</td>\n",
       "      <td>1</td>\n",
       "      <td>25.477707</td>\n",
       "    </tr>\n",
       "  </tbody>\n",
       "</table>\n",
       "</div>"
      ],
      "text/plain": [
       "  MaritalStatus  left_company  percentage\n",
       "0      Divorced             0   89.908257\n",
       "1      Divorced             1   10.091743\n",
       "2       Married             0   87.555556\n",
       "3       Married             1   12.444444\n",
       "4        Single             0   74.522293\n",
       "5        Single             1   25.477707"
      ]
     },
     "execution_count": 158,
     "metadata": {},
     "output_type": "execute_result"
    }
   ],
   "source": [
    "married=datahr.groupby(\"MaritalStatus\")[\"left_company\"].value_counts(normalize=True).mul(100).rename(\"percentage\").reset_index()\n",
    "married"
   ]
  },
  {
   "cell_type": "code",
   "execution_count": 157,
   "metadata": {},
   "outputs": [
    {
     "data": {
      "text/html": [
       "<div>\n",
       "<style scoped>\n",
       "    .dataframe tbody tr th:only-of-type {\n",
       "        vertical-align: middle;\n",
       "    }\n",
       "\n",
       "    .dataframe tbody tr th {\n",
       "        vertical-align: top;\n",
       "    }\n",
       "\n",
       "    .dataframe thead th {\n",
       "        text-align: right;\n",
       "    }\n",
       "</style>\n",
       "<table border=\"1\" class=\"dataframe\">\n",
       "  <thead>\n",
       "    <tr style=\"text-align: right;\">\n",
       "      <th></th>\n",
       "      <th>AgeGroup</th>\n",
       "      <th>MaritalStatus</th>\n",
       "      <th>percentage</th>\n",
       "    </tr>\n",
       "  </thead>\n",
       "  <tbody>\n",
       "    <tr>\n",
       "      <th>0</th>\n",
       "      <td>18-25</td>\n",
       "      <td>Single</td>\n",
       "      <td>51.219512</td>\n",
       "    </tr>\n",
       "    <tr>\n",
       "      <th>1</th>\n",
       "      <td>18-25</td>\n",
       "      <td>Married</td>\n",
       "      <td>36.585366</td>\n",
       "    </tr>\n",
       "    <tr>\n",
       "      <th>2</th>\n",
       "      <td>18-25</td>\n",
       "      <td>Divorced</td>\n",
       "      <td>12.195122</td>\n",
       "    </tr>\n",
       "    <tr>\n",
       "      <th>3</th>\n",
       "      <td>26-35</td>\n",
       "      <td>Married</td>\n",
       "      <td>44.151565</td>\n",
       "    </tr>\n",
       "    <tr>\n",
       "      <th>4</th>\n",
       "      <td>26-35</td>\n",
       "      <td>Single</td>\n",
       "      <td>33.443163</td>\n",
       "    </tr>\n",
       "    <tr>\n",
       "      <th>5</th>\n",
       "      <td>26-35</td>\n",
       "      <td>Divorced</td>\n",
       "      <td>22.405272</td>\n",
       "    </tr>\n",
       "    <tr>\n",
       "      <th>6</th>\n",
       "      <td>36-45</td>\n",
       "      <td>Married</td>\n",
       "      <td>47.234043</td>\n",
       "    </tr>\n",
       "    <tr>\n",
       "      <th>7</th>\n",
       "      <td>36-45</td>\n",
       "      <td>Single</td>\n",
       "      <td>28.297872</td>\n",
       "    </tr>\n",
       "    <tr>\n",
       "      <th>8</th>\n",
       "      <td>36-45</td>\n",
       "      <td>Divorced</td>\n",
       "      <td>24.468085</td>\n",
       "    </tr>\n",
       "    <tr>\n",
       "      <th>9</th>\n",
       "      <td>46-55</td>\n",
       "      <td>Married</td>\n",
       "      <td>51.769912</td>\n",
       "    </tr>\n",
       "    <tr>\n",
       "      <th>10</th>\n",
       "      <td>46-55</td>\n",
       "      <td>Single</td>\n",
       "      <td>26.548673</td>\n",
       "    </tr>\n",
       "    <tr>\n",
       "      <th>11</th>\n",
       "      <td>46-55</td>\n",
       "      <td>Divorced</td>\n",
       "      <td>21.681416</td>\n",
       "    </tr>\n",
       "    <tr>\n",
       "      <th>12</th>\n",
       "      <td>55+</td>\n",
       "      <td>Married</td>\n",
       "      <td>48.936170</td>\n",
       "    </tr>\n",
       "    <tr>\n",
       "      <th>13</th>\n",
       "      <td>55+</td>\n",
       "      <td>Divorced</td>\n",
       "      <td>25.531915</td>\n",
       "    </tr>\n",
       "    <tr>\n",
       "      <th>14</th>\n",
       "      <td>55+</td>\n",
       "      <td>Single</td>\n",
       "      <td>25.531915</td>\n",
       "    </tr>\n",
       "  </tbody>\n",
       "</table>\n",
       "</div>"
      ],
      "text/plain": [
       "   AgeGroup MaritalStatus  percentage\n",
       "0     18-25        Single   51.219512\n",
       "1     18-25       Married   36.585366\n",
       "2     18-25      Divorced   12.195122\n",
       "3     26-35       Married   44.151565\n",
       "4     26-35        Single   33.443163\n",
       "5     26-35      Divorced   22.405272\n",
       "6     36-45       Married   47.234043\n",
       "7     36-45        Single   28.297872\n",
       "8     36-45      Divorced   24.468085\n",
       "9     46-55       Married   51.769912\n",
       "10    46-55        Single   26.548673\n",
       "11    46-55      Divorced   21.681416\n",
       "12      55+       Married   48.936170\n",
       "13      55+      Divorced   25.531915\n",
       "14      55+        Single   25.531915"
      ]
     },
     "execution_count": 157,
     "metadata": {},
     "output_type": "execute_result"
    }
   ],
   "source": [
    "married2=datahr.groupby(\"AgeGroup\")[\"MaritalStatus\"].value_counts().rename(\"percentage\").reset_index()\n",
    "married2"
   ]
  },
  {
   "cell_type": "markdown",
   "metadata": {},
   "source": [
    "<p>The data shows that single employees have a higher likelihood of leaving (25.48%) compared to married (12.44%) and divorced employees (10.09%). However, when we examine age groups, we see that single individuals are more concentrated in the younger age groups (18–25 and 26–35), where we also observe the highest percentages in these age groups (51.22% and 33.44%, respectively). Since younger age groups typically have higher turnover rates, the higher attrition among single employees could be more a reflection of their age distribution than of their marital status itself.</p>"
   ]
  },
  {
   "cell_type": "markdown",
   "metadata": {},
   "source": [
    "### EducationField vs Attrition"
   ]
  },
  {
   "cell_type": "code",
   "execution_count": 172,
   "metadata": {},
   "outputs": [
    {
     "data": {
      "text/html": [
       "<div>\n",
       "<style scoped>\n",
       "    .dataframe tbody tr th:only-of-type {\n",
       "        vertical-align: middle;\n",
       "    }\n",
       "\n",
       "    .dataframe tbody tr th {\n",
       "        vertical-align: top;\n",
       "    }\n",
       "\n",
       "    .dataframe thead th {\n",
       "        text-align: right;\n",
       "    }\n",
       "</style>\n",
       "<table border=\"1\" class=\"dataframe\">\n",
       "  <thead>\n",
       "    <tr style=\"text-align: right;\">\n",
       "      <th></th>\n",
       "      <th>EducationField</th>\n",
       "      <th>left_company</th>\n",
       "      <th>percentage</th>\n",
       "    </tr>\n",
       "  </thead>\n",
       "  <tbody>\n",
       "    <tr>\n",
       "      <th>0</th>\n",
       "      <td>Human Resources</td>\n",
       "      <td>0</td>\n",
       "      <td>74.074074</td>\n",
       "    </tr>\n",
       "    <tr>\n",
       "      <th>1</th>\n",
       "      <td>Human Resources</td>\n",
       "      <td>1</td>\n",
       "      <td>25.925926</td>\n",
       "    </tr>\n",
       "    <tr>\n",
       "      <th>2</th>\n",
       "      <td>Life Sciences</td>\n",
       "      <td>0</td>\n",
       "      <td>85.313531</td>\n",
       "    </tr>\n",
       "    <tr>\n",
       "      <th>3</th>\n",
       "      <td>Life Sciences</td>\n",
       "      <td>1</td>\n",
       "      <td>14.686469</td>\n",
       "    </tr>\n",
       "    <tr>\n",
       "      <th>4</th>\n",
       "      <td>Marketing</td>\n",
       "      <td>0</td>\n",
       "      <td>77.987421</td>\n",
       "    </tr>\n",
       "    <tr>\n",
       "      <th>5</th>\n",
       "      <td>Marketing</td>\n",
       "      <td>1</td>\n",
       "      <td>22.012579</td>\n",
       "    </tr>\n",
       "    <tr>\n",
       "      <th>6</th>\n",
       "      <td>Medical</td>\n",
       "      <td>0</td>\n",
       "      <td>86.480687</td>\n",
       "    </tr>\n",
       "    <tr>\n",
       "      <th>7</th>\n",
       "      <td>Medical</td>\n",
       "      <td>1</td>\n",
       "      <td>13.519313</td>\n",
       "    </tr>\n",
       "    <tr>\n",
       "      <th>8</th>\n",
       "      <td>Other</td>\n",
       "      <td>0</td>\n",
       "      <td>86.746988</td>\n",
       "    </tr>\n",
       "    <tr>\n",
       "      <th>9</th>\n",
       "      <td>Other</td>\n",
       "      <td>1</td>\n",
       "      <td>13.253012</td>\n",
       "    </tr>\n",
       "    <tr>\n",
       "      <th>10</th>\n",
       "      <td>Technical Degree</td>\n",
       "      <td>0</td>\n",
       "      <td>75.757576</td>\n",
       "    </tr>\n",
       "    <tr>\n",
       "      <th>11</th>\n",
       "      <td>Technical Degree</td>\n",
       "      <td>1</td>\n",
       "      <td>24.242424</td>\n",
       "    </tr>\n",
       "  </tbody>\n",
       "</table>\n",
       "</div>"
      ],
      "text/plain": [
       "      EducationField  left_company  percentage\n",
       "0    Human Resources             0   74.074074\n",
       "1    Human Resources             1   25.925926\n",
       "2      Life Sciences             0   85.313531\n",
       "3      Life Sciences             1   14.686469\n",
       "4          Marketing             0   77.987421\n",
       "5          Marketing             1   22.012579\n",
       "6            Medical             0   86.480687\n",
       "7            Medical             1   13.519313\n",
       "8              Other             0   86.746988\n",
       "9              Other             1   13.253012\n",
       "10  Technical Degree             0   75.757576\n",
       "11  Technical Degree             1   24.242424"
      ]
     },
     "execution_count": 172,
     "metadata": {},
     "output_type": "execute_result"
    }
   ],
   "source": [
    "edufielddata=datahr.groupby(\"EducationField\")[\"left_company\"].value_counts(normalize=True).mul(100).rename(\"percentage\").reset_index()\n",
    "edufielddata"
   ]
  },
  {
   "cell_type": "code",
   "execution_count": 173,
   "metadata": {},
   "outputs": [
    {
     "data": {
      "image/png": "[encoded data removed]",
      "text/plain": [
       "<Figure size 640x480 with 1 Axes>"
      ]
     },
     "metadata": {},
     "output_type": "display_data"
    }
   ],
   "source": [
    "sns.barplot(x=\"EducationField\", y=\"percentage\", hue=\"left_company\", data=edufielddata)\n",
    "plt.title(\"Education Field vs Attrition\")\n",
    "plt.xlabel(\"Education Field\")\n",
    "plt.ylabel(\"Percentage\")\n",
    "plt.legend(title=\"Left the company (0=No,1=Yes)\")\n",
    "plt.show()"
   ]
  },
  {
   "cell_type": "markdown",
   "metadata": {},
   "source": [
    "<p>The data shows that employees who have studied a degree in Human Resources, Marketing or a Technical degree are more likely to leave the company</p>"
   ]
  },
  {
   "cell_type": "markdown",
   "metadata": {},
   "source": [
    " ### Gender vs Attrition"
   ]
  },
  {
   "cell_type": "code",
   "execution_count": 161,
   "metadata": {},
   "outputs": [
    {
     "data": {
      "text/html": [
       "<div>\n",
       "<style scoped>\n",
       "    .dataframe tbody tr th:only-of-type {\n",
       "        vertical-align: middle;\n",
       "    }\n",
       "\n",
       "    .dataframe tbody tr th {\n",
       "        vertical-align: top;\n",
       "    }\n",
       "\n",
       "    .dataframe thead th {\n",
       "        text-align: right;\n",
       "    }\n",
       "</style>\n",
       "<table border=\"1\" class=\"dataframe\">\n",
       "  <thead>\n",
       "    <tr style=\"text-align: right;\">\n",
       "      <th></th>\n",
       "      <th>Gender</th>\n",
       "      <th>left_company</th>\n",
       "      <th>percentage</th>\n",
       "    </tr>\n",
       "  </thead>\n",
       "  <tbody>\n",
       "    <tr>\n",
       "      <th>0</th>\n",
       "      <td>Female</td>\n",
       "      <td>0</td>\n",
       "      <td>85.229202</td>\n",
       "    </tr>\n",
       "    <tr>\n",
       "      <th>1</th>\n",
       "      <td>Female</td>\n",
       "      <td>1</td>\n",
       "      <td>14.770798</td>\n",
       "    </tr>\n",
       "    <tr>\n",
       "      <th>2</th>\n",
       "      <td>Male</td>\n",
       "      <td>0</td>\n",
       "      <td>83.031674</td>\n",
       "    </tr>\n",
       "    <tr>\n",
       "      <th>3</th>\n",
       "      <td>Male</td>\n",
       "      <td>1</td>\n",
       "      <td>16.968326</td>\n",
       "    </tr>\n",
       "  </tbody>\n",
       "</table>\n",
       "</div>"
      ],
      "text/plain": [
       "   Gender  left_company  percentage\n",
       "0  Female             0   85.229202\n",
       "1  Female             1   14.770798\n",
       "2    Male             0   83.031674\n",
       "3    Male             1   16.968326"
      ]
     },
     "execution_count": 161,
     "metadata": {},
     "output_type": "execute_result"
    }
   ],
   "source": [
    "genderdata=datahr.groupby(\"Gender\")[\"left_company\"].value_counts(normalize=True).mul(100).rename(\"percentage\").reset_index()\n",
    "genderdata"
   ]
  },
  {
   "cell_type": "code",
   "execution_count": 171,
   "metadata": {},
   "outputs": [
    {
     "data": {
      "image/png": "[encoded data removed]",
      "text/plain": [
       "<Figure size 1200x600 with 2 Axes>"
      ]
     },
     "metadata": {},
     "output_type": "display_data"
    }
   ],
   "source": [
    "\n",
    "# data for each gender\n",
    "male_data = genderdata[genderdata[\"Gender\"] == \"Male\"]\n",
    "female_data = genderdata[genderdata[\"Gender\"] == \"Female\"]\n",
    "\n",
    "fig, axes = plt.subplots(1, 2, figsize=(12, 6))\n",
    "\n",
    "# Females\n",
    "axes[0].pie(female_data[\"percentage\"], labels=[\"Stayed\", \"Left\"], autopct=\"%1.1f%%\", colors=[\"lightblue\", \"salmon\"])\n",
    "axes[0].set_title(\"Attrition for Female Employees\")\n",
    "\n",
    "# Males\n",
    "axes[1].pie(male_data[\"percentage\"], labels=[\"Stayed\", \"Left\"], autopct=\"%1.1f%%\", colors=[\"lightblue\", \"salmon\"])\n",
    "axes[1].set_title(\"Attrition for Male Employees\")\n",
    "\n",
    "plt.suptitle(\"Attrition by Gender\")\n",
    "plt.show()"
   ]
  },
  {
   "cell_type": "markdown",
   "metadata": {},
   "source": [
    "<p>Male employees have a higher rate of attrition (17%vs14.8), however, given the small difference, gender does not appear to be a significant factor in determining wether an employee leaves the company.</p>"
   ]
  },
  {
   "cell_type": "code",
   "execution_count": 64,
   "metadata": {},
   "outputs": [
    {
     "data": {
      "text/plain": [
       "Index(['Age', 'AgeGroup', 'Attrition', 'BusinessTravel', 'DailyRate',\n",
       "       'Department', 'DistanceFromHome', 'Education', 'EducationField',\n",
       "       'EmployeeCount', 'EmployeeNumber', 'EnvironmentSatisfaction', 'Gender',\n",
       "       'HourlyRate', 'JobInvolvement', 'JobLevel', 'JobRole',\n",
       "       'JobSatisfaction', 'MaritalStatus', 'MonthlyIncome', 'SalarySlab',\n",
       "       'MonthlyRate', 'NumCompaniesWorked', 'Over18', 'OverTime',\n",
       "       'PercentSalaryHike', 'PerformanceRating', 'RelationshipSatisfaction',\n",
       "       'StandardHours', 'StockOptionLevel', 'TotalWorkingYears',\n",
       "       'TrainingTimesLastYear', 'WorkLifeBalance', 'YearsAtCompany',\n",
       "       'YearsInCurrentRole', 'YearsSinceLastPromotion', 'YearsWithCurrManager',\n",
       "       'left_company'],\n",
       "      dtype='object')"
      ]
     },
     "execution_count": 64,
     "metadata": {},
     "output_type": "execute_result"
    }
   ],
   "source": [
    "datahr.columns"
   ]
  },
  {
   "cell_type": "code",
   "execution_count": null,
   "metadata": {},
   "outputs": [],
   "source": [
    "list=['Age', 'AgeGroup', 'Attrition', 'BusinessTravel', 'DailyRate',\n",
    "       'Department', 'DistanceFromHome', 'Education', 'EducationField',\n",
    "       'EmployeeCount', 'EmployeeNumber', 'EnvironmentSatisfaction', 'Gender',\n",
    "       'HourlyRate', 'JobInvolvement', 'JobLevel', 'JobRole',\n",
    "       'JobSatisfaction', 'MaritalStatus', 'MonthlyIncome', 'SalarySlab',\n",
    "       'MonthlyRate', 'NumCompaniesWorked', 'Over18', 'OverTime',\n",
    "       'PercentSalaryHike', 'PerformanceRating', 'RelationshipSatisfaction',\n",
    "       'StandardHours', 'StockOptionLevel', 'TotalWorkingYears',\n",
    "       'TrainingTimesLastYear', 'WorkLifeBalance', 'YearsAtCompany',\n",
    "       'YearsInCurrentRole', 'YearsSinceLastPromotion', 'YearsWithCurrManager']"
   ]
  },
  {
   "cell_type": "markdown",
   "metadata": {},
   "source": [
    "<p>Individual results show that employees that leave the company belong to these subgroups:\n",
    "\n",
    "-Age group 18-25\n",
    "-High travel frequence\n",
    "-Lower daily rate\n",
    "-Sales and & HHRR  (20.5&19.0%)\n",
    "-Distance +10\n",
    "\n",
    "Non relevant variables for attrition:\n",
    "-Gender\n",
    "-Marital status\n",
    "\n",
    "\n",
    "</p>"
   ]
  },
  {
   "cell_type": "markdown",
   "metadata": {},
   "source": [
    "# Going even further: transforming all object variables into binary"
   ]
  }
 ],
 "metadata": {
  "kernelspec": {
   "display_name": "Python 3",
   "language": "python",
   "name": "python3"
  },
  "language_info": {
   "codemirror_mode": {
    "name": "ipython",
    "version": 3
   },
   "file_extension": ".py",
   "mimetype": "text/x-python",
   "name": "python",
   "nbconvert_exporter": "python",
   "pygments_lexer": "ipython3",
   "version": "3.7.4"
  }
 },
 "nbformat": 4,
 "nbformat_minor": 2
}
