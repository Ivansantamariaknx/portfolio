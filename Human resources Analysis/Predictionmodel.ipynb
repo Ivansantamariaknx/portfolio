{
 "cells": [
  {
   "cell_type": "code",
   "execution_count": null,
   "metadata": {},
   "outputs": [],
   "source": [
    "#before prediction check outliers, also this\n",
    "\n",
    "#https://www.kaggle.com/code/jayrdixit/hr-analytics-data\n",
    "#https://www.kaggle.com/code/fahadrehman07/salifort-motors-providing-data-driven-suggestions#Step-2.-Data-Exploration-(Initial-EDA-and-Data-Cleaning)"
   ]
  },
  {
   "cell_type": "code",
   "execution_count": null,
   "metadata": {},
   "outputs": [],
   "source": [
    "#for outliers:\n",
    "\n",
    "# Determine the number of rows containing outliers \n",
    "\n",
    "# Compute the 25th percentile value in `tenure`\n",
    "percentile25 = df1['tenure'].quantile(0.25)\n",
    "\n",
    "# Compute the 75th percentile value in `tenure`\n",
    "percentile75 = df1['tenure'].quantile(0.75)\n",
    "\n",
    "# Compute the interquartile range in `tenure`\n",
    "iqr = percentile75 - percentile25\n",
    "\n",
    "# Define the upper limit and lower limit for non-outlier values in `tenure`\n",
    "upper_limit = percentile75 + 1.5 * iqr\n",
    "lower_limit = percentile25 - 1.5 * iqr\n",
    "print(\"Lower limit:\", lower_limit)\n",
    "print(\"Upper limit:\", upper_limit)\n",
    "\n",
    "# Identify subset of data containing outliers in `tenure`\n",
    "outliers = df1[(df1['tenure'] > upper_limit) | (df1['tenure'] < lower_limit)]\n",
    "\n",
    "# Count how many rows in the data contain outliers in `tenure`\n",
    "print(\"Number of rows in the data containing outliers in `tenure`:\", len(outliers))"
   ]
  }
 ],
 "metadata": {
  "language_info": {
   "name": "python"
  }
 },
 "nbformat": 4,
 "nbformat_minor": 2
}
