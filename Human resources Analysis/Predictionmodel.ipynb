{
 "cells": [
  {
   "cell_type": "code",
   "execution_count": null,
   "metadata": {},
   "outputs": [],
   "source": [
    "#before prediction check outliers, also this\n",
    "\n",
    "#https://www.kaggle.com/code/jayrdixit/hr-analytics-data\n",
    "#https://www.kaggle.com/code/fahadrehman07/salifort-motors-providing-data-driven-suggestions#Step-2.-Data-Exploration-(Initial-EDA-and-Data-Cleaning)"
   ]
  }
 ],
 "metadata": {
  "language_info": {
   "name": "python"
  }
 },
 "nbformat": 4,
 "nbformat_minor": 2
}
