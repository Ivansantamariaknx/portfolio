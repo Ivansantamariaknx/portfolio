{
 "cells": [
  {
   "cell_type": "code",
   "execution_count": 1,
   "metadata": {},
   "outputs": [
    {
     "data": {
      "text/plain": [
       "'api base url: http://rest.nbaapi.com'"
      ]
     },
     "execution_count": 1,
     "metadata": {},
     "output_type": "execute_result"
    }
   ],
   "source": [
    "import requests\n",
    "import pandas as pd\n",
    "\"github:https://github.com/nprasad2077/nbaStats\"\n",
    "\n",
    "\"api base url: http://rest.nbaapi.com\""
   ]
  },
  {
   "cell_type": "code",
   "execution_count": 2,
   "metadata": {},
   "outputs": [],
   "source": [
    "url_playoffs_lebron=\"http://rest.nbaapi.com/api/PlayerDataTotalsPlayoffs/name/Lebron James\"\n",
    "url_playoffs_kobe=\"http://rest.nbaapi.com/api/PlayerDataTotalsPlayoffs/name/Kobe Bryant\"\n",
    "url_playoffs_jordan=\"http://rest.nbaapi.com/api/PlayerDataTotalsPlayoffs/name/Michael Jordan\""
   ]
  },
  {
   "cell_type": "code",
   "execution_count": 48,
   "metadata": {},
   "outputs": [
    {
     "name": "stdout",
     "output_type": "stream",
     "text": [
      "<Response [200]> <Response [200]> <Response [200]>\n"
     ]
    }
   ],
   "source": [
    "response4=requests.get(url_playoffs_lebron)\n",
    "response5=requests.get(url_playoffs_kobe)\n",
    "response6=requests.get(url_playoffs_jordan)\n",
    "print(response4,response5,response6)"
   ]
  },
  {
   "cell_type": "code",
   "execution_count": 49,
   "metadata": {},
   "outputs": [],
   "source": [
    "data_playoffs_lebron=response4.json()\n",
    "data_playoffs_kobe=response5.json()\n",
    "data_playoffs_jordan=response6.json()\n",
    "allplayoffs=data_playoffs_lebron + data_playoffs_kobe +data_playoffs_jordan"
   ]
  },
  {
   "cell_type": "code",
   "execution_count": 69,
   "metadata": {},
   "outputs": [
    {
     "name": "stdout",
     "output_type": "stream",
     "text": [
      "<class 'pandas.core.frame.DataFrame'>\n",
      "RangeIndex: 37 entries, 0 to 36\n",
      "Data columns (total 32 columns):\n",
      " #   Column           Non-Null Count  Dtype  \n",
      "---  ------           --------------  -----  \n",
      " 0   id               37 non-null     int64  \n",
      " 1   playerName       37 non-null     object \n",
      " 2   position         37 non-null     object \n",
      " 3   age              37 non-null     int64  \n",
      " 4   games            37 non-null     int64  \n",
      " 5   gamesStarted     37 non-null     int64  \n",
      " 6   minutesPg        37 non-null     float64\n",
      " 7   fieldGoals       37 non-null     int64  \n",
      " 8   fieldAttempts    37 non-null     int64  \n",
      " 9   fieldPercent     37 non-null     float64\n",
      " 10  threeFg          37 non-null     int64  \n",
      " 11  threeAttempts    37 non-null     int64  \n",
      " 12  threePercent     37 non-null     float64\n",
      " 13  twoFg            37 non-null     int64  \n",
      " 14  twoAttempts      37 non-null     int64  \n",
      " 15  twoPercent       37 non-null     float64\n",
      " 16  effectFgPercent  37 non-null     float64\n",
      " 17  ft               37 non-null     int64  \n",
      " 18  ftAttempts       37 non-null     int64  \n",
      " 19  ftPercent        37 non-null     float64\n",
      " 20  offensiveRb      37 non-null     int64  \n",
      " 21  defensiveRb      37 non-null     int64  \n",
      " 22  totalRb          37 non-null     int64  \n",
      " 23  assists          37 non-null     int64  \n",
      " 24  steals           37 non-null     int64  \n",
      " 25  blocks           37 non-null     int64  \n",
      " 26  turnovers        37 non-null     int64  \n",
      " 27  personalFouls    37 non-null     int64  \n",
      " 28  points           37 non-null     int64  \n",
      " 29  team             37 non-null     object \n",
      " 30  season           37 non-null     int64  \n",
      " 31  playerId         37 non-null     object \n",
      "dtypes: float64(6), int64(22), object(4)\n",
      "memory usage: 9.4+ KB\n"
     ]
    }
   ],
   "source": [
    "dfplayoffs=pd.DataFrame(allplayoffs)\n",
    "dfplayoffs.info()"
   ]
  },
  {
   "cell_type": "code",
   "execution_count": 70,
   "metadata": {},
   "outputs": [],
   "source": [
    "dfplayoffs. drop(['id','gamesStarted', 'minutesPg', 'effectFgPercent', 'offensiveRb','defensiveRb'],axis=1,inplace=True)"
   ]
  },
  {
   "cell_type": "code",
   "execution_count": 71,
   "metadata": {},
   "outputs": [],
   "source": [
    "dfplayoffs[\"fieldpts\"]=dfplayoffs['fieldAttempts']*dfplayoffs[\"fieldPercent\"]\n",
    "dfplayoffs[\"threepts\"]=dfplayoffs['threeAttempts']*dfplayoffs[\"threePercent\"]\n",
    "dfplayoffs[\"twopts\"]=dfplayoffs['twoAttempts']*dfplayoffs[\"twoPercent\"]\n",
    "dfplayoffs[\"ftpts\"]=dfplayoffs['ftAttempts']*dfplayoffs[\"ftPercent\"]"
   ]
  },
  {
   "cell_type": "markdown",
   "metadata": {},
   "source": [
    "## checks"
   ]
  },
  {
   "cell_type": "code",
   "execution_count": 72,
   "metadata": {},
   "outputs": [
    {
     "data": {
      "text/plain": [
       "17"
      ]
     },
     "execution_count": 72,
     "metadata": {},
     "output_type": "execute_result"
    }
   ],
   "source": [
    "lebron_check= dfplayoffs[dfplayoffs['playerName']=='LeBron James']\n",
    "lebron_check[\"season\"].value_counts().sum()"
   ]
  },
  {
   "cell_type": "code",
   "execution_count": 73,
   "metadata": {},
   "outputs": [
    {
     "data": {
      "text/plain": [
       "15"
      ]
     },
     "execution_count": 73,
     "metadata": {},
     "output_type": "execute_result"
    }
   ],
   "source": [
    "jordan_check= dfplayoffs[dfplayoffs['playerName']=='Kobe Bryant*']\n",
    "jordan_check[\"season\"].value_counts().sum()"
   ]
  },
  {
   "cell_type": "code",
   "execution_count": 74,
   "metadata": {},
   "outputs": [
    {
     "data": {
      "text/plain": [
       "1998    1\n",
       "1997    1\n",
       "1996    1\n",
       "1995    1\n",
       "1993    1\n",
       "Name: season, dtype: int64"
      ]
     },
     "execution_count": 74,
     "metadata": {},
     "output_type": "execute_result"
    }
   ],
   "source": [
    "jordan_check= dfplayoffs[dfplayoffs['playerName']=='Michael Jordan*']\n",
    "jordan_check[\"season\"].value_counts()\n",
    "#there's data missing from Michael Jordan"
   ]
  },
  {
   "cell_type": "markdown",
   "metadata": {},
   "source": [
    "## Scrapped data from ESPN"
   ]
  },
  {
   "cell_type": "code",
   "execution_count": 75,
   "metadata": {},
   "outputs": [],
   "source": [
    "#I scrapped the missing data from ESPN, see \"SCrapping folder (Selenium) to see the process\"\n",
    "scrapped_playoffs_jordan=pd.read_csv(r\"C:\\Users\\Abraham\\Desktop\\Solo\\Bootcamp\\portfolio\\Scrapping\\Selenium\\jordan_playoffs\")\n",
    "scrapped_playoffs_jordan.drop([\"Unnamed: 0\"],axis=1,inplace=True)\n",
    "scrapped_playoffs_jordan=scrapped_playoffs_jordan.iloc[:8]"
   ]
  },
  {
   "cell_type": "code",
   "execution_count": 76,
   "metadata": {},
   "outputs": [],
   "source": [
    "scrapped_playoffs_jordan['playerName']=\"Michael Jordan*\"\n",
    "scrapped_playoffs_jordan['position']=\"SG\"\n",
    "scrapped_playoffs_jordan.rename(columns={\n",
    "    'SEASON': 'season',\n",
    "    'TEAM': 'team',\n",
    "    'REB': 'totalRb',\n",
    "    'AST': 'assists',\n",
    "    'STL': 'steals',\n",
    "    'BLK': 'blocks',\n",
    "    '3P%': 'threePercent',\n",
    "    'PF': 'personalFouls',\n",
    "    'TO': 'turnovers',\n",
    "    'PTS': 'points',\n",
    "    'FG': 'fieldGoalsattempts&points',\n",
    "    'FG%': 'fieldPercent',\n",
    "    'FT': 'ftAttempts&points',  \n",
    "    'FT%': 'ftPercent',\n",
    "    '3PT': 'threeattempts&pts'\n",
    "    \n",
    "}, inplace=True)\n"
   ]
  },
  {
   "cell_type": "code",
   "execution_count": 77,
   "metadata": {},
   "outputs": [],
   "source": [
    "scrapped_playoffs_jordan[['threepts','threeAttempts']] = scrapped_playoffs_jordan['threeattempts&pts'].str.split('-', expand=True)\n",
    "scrapped_playoffs_jordan[['fieldpts','fieldGoals']]=scrapped_playoffs_jordan['fieldGoalsattempts&points'].str.split(\"-\",expand=True)\n",
    "scrapped_playoffs_jordan[['ftpts','ftAttempts']]=scrapped_playoffs_jordan['ftAttempts&points'].str.split(\"-\",expand=True)"
   ]
  },
  {
   "cell_type": "code",
   "execution_count": 78,
   "metadata": {},
   "outputs": [],
   "source": [
    "scrapped_playoffs_jordan[['threeAttempts', 'threepts', \n",
    "                         'fieldGoals', 'fieldpts', 'ftAttempts', 'ftpts']] = \\\n",
    "scrapped_playoffs_jordan[['threeAttempts', 'threepts', \n",
    "                         'fieldGoals', 'fieldpts', 'ftAttempts', 'ftpts']].astype(int)"
   ]
  },
  {
   "cell_type": "code",
   "execution_count": 79,
   "metadata": {},
   "outputs": [],
   "source": [
    "scrapped_playoffs_jordan['twopts']=scrapped_playoffs_jordan['fieldpts']-scrapped_playoffs_jordan['threepts']\n",
    "scrapped_playoffs_jordan['twoAttempts']=scrapped_playoffs_jordan['fieldGoals']-scrapped_playoffs_jordan['threeAttempts']"
   ]
  },
  {
   "cell_type": "code",
   "execution_count": 80,
   "metadata": {},
   "outputs": [],
   "source": [
    "scrapped_playoffs_jordan.drop([\"fieldGoalsattempts&points\",\"threeattempts&pts\",\"ftAttempts&points\",\"OR\",\"DR\"],axis=1,inplace=True)\n"
   ]
  },
  {
   "cell_type": "code",
   "execution_count": 81,
   "metadata": {},
   "outputs": [],
   "source": [
    "dfplayoffs.drop(['fieldAttempts', 'threeFg', 'twoFg', 'ft', 'playerId',\"twoPercent\"],axis=1,inplace=True)"
   ]
  },
  {
   "cell_type": "code",
   "execution_count": 82,
   "metadata": {},
   "outputs": [],
   "source": [
    "scrapped_playoffs_jordan[\"season\"]=scrapped_playoffs_jordan[\"season\"].astype(int)"
   ]
  },
  {
   "cell_type": "code",
   "execution_count": 93,
   "metadata": {},
   "outputs": [],
   "source": [
    "#Jordan's age is missing in ESPN's data, we know Jordan was born in 1964, so I calculated it:\n",
    "def Age(i):\n",
    "    \n",
    "    return i -1964\n",
    "\n",
    "\n",
    "scrapped_playoffs_jordan[\"age\"]=scrapped_playoffs_jordan[\"season\"].apply(Age)\n",
    "#Playoff games per season is missing, I found them in another website, let's add this:\n"
   ]
  },
  {
   "cell_type": "code",
   "execution_count": 94,
   "metadata": {},
   "outputs": [],
   "source": [
    "games=pd.read_csv(r\"C:\\Users\\Abraham\\Desktop\\Solo\\Bootcamp\\portfolio\\APIs\\API_sports\\datamichaeljordanplayoffs8592.csv\",sep=\";\")\n",
    "\n",
    "scrapped_playoffs_jordan=scrapped_playoffs_jordan.merge(games,on=\"season\",how=\"left\")"
   ]
  },
  {
   "cell_type": "code",
   "execution_count": 95,
   "metadata": {},
   "outputs": [
    {
     "data": {
      "text/plain": [
       "Index(['season', 'team', 'fieldPercent', 'threePercent', 'ftPercent',\n",
       "       'totalRb', 'assists', 'blocks', 'steals', 'personalFouls', 'turnovers',\n",
       "       'points', 'playerName', 'position', 'threepts', 'threeAttempts',\n",
       "       'fieldpts', 'fieldGoals', 'ftpts', 'ftAttempts', 'twopts',\n",
       "       'twoAttempts', 'age', 'games'],\n",
       "      dtype='object')"
      ]
     },
     "execution_count": 95,
     "metadata": {},
     "output_type": "execute_result"
    }
   ],
   "source": [
    "scrapped_playoffs_jordan.columns"
   ]
  },
  {
   "cell_type": "code",
   "execution_count": 96,
   "metadata": {},
   "outputs": [
    {
     "data": {
      "text/plain": [
       "Index(['playerName', 'position', 'age', 'games', 'fieldGoals', 'fieldPercent',\n",
       "       'threeAttempts', 'threePercent', 'twoAttempts', 'ftAttempts',\n",
       "       'ftPercent', 'totalRb', 'assists', 'steals', 'blocks', 'turnovers',\n",
       "       'personalFouls', 'points', 'team', 'season', 'fieldpts', 'threepts',\n",
       "       'twopts', 'ftpts'],\n",
       "      dtype='object')"
      ]
     },
     "execution_count": 96,
     "metadata": {},
     "output_type": "execute_result"
    }
   ],
   "source": [
    "dfplayoffs.columns"
   ]
  },
  {
   "cell_type": "code",
   "execution_count": 97,
   "metadata": {},
   "outputs": [
    {
     "name": "stdout",
     "output_type": "stream",
     "text": [
      "<class 'pandas.core.frame.DataFrame'>\n",
      "RangeIndex: 45 entries, 0 to 44\n",
      "Data columns (total 24 columns):\n",
      " #   Column         Non-Null Count  Dtype  \n",
      "---  ------         --------------  -----  \n",
      " 0   playerName     45 non-null     object \n",
      " 1   position       45 non-null     object \n",
      " 2   age            45 non-null     int64  \n",
      " 3   games          45 non-null     int64  \n",
      " 4   fieldGoals     45 non-null     int64  \n",
      " 5   fieldPercent   45 non-null     float64\n",
      " 6   threeAttempts  45 non-null     int64  \n",
      " 7   threePercent   45 non-null     float64\n",
      " 8   twoAttempts    45 non-null     int64  \n",
      " 9   ftAttempts     45 non-null     int64  \n",
      " 10  ftPercent      45 non-null     float64\n",
      " 11  totalRb        45 non-null     int64  \n",
      " 12  assists        45 non-null     int64  \n",
      " 13  steals         45 non-null     int64  \n",
      " 14  blocks         45 non-null     int64  \n",
      " 15  turnovers      45 non-null     int64  \n",
      " 16  personalFouls  45 non-null     int64  \n",
      " 17  points         45 non-null     int64  \n",
      " 18  team           45 non-null     object \n",
      " 19  season         45 non-null     int64  \n",
      " 20  fieldpts       45 non-null     float64\n",
      " 21  threepts       45 non-null     float64\n",
      " 22  twopts         45 non-null     float64\n",
      " 23  ftpts          45 non-null     float64\n",
      "dtypes: float64(7), int64(14), object(3)\n",
      "memory usage: 8.6+ KB\n"
     ]
    }
   ],
   "source": [
    "dfplayoffstotals = pd.concat([dfplayoffs, scrapped_playoffs_jordan], ignore_index=True)\n",
    "dfplayoffstotals.info()"
   ]
  },
  {
   "cell_type": "code",
   "execution_count": 135,
   "metadata": {},
   "outputs": [
    {
     "data": {
      "text/plain": [
       "array([2023, 2021, 2020, 2018, 2017, 2016, 2015, 2014, 2013, 2012, 2011,\n",
       "       2010, 2009, 2008, 2007, 2006, 2024, 2004, 2003, 2002, 2001, 2000,\n",
       "       1999, 1998, 1997, 1996, 1995, 1993, 1985, 1986, 1987, 1988, 1989,\n",
       "       1990, 1991, 1992], dtype=int64)"
      ]
     },
     "execution_count": 135,
     "metadata": {},
     "output_type": "execute_result"
    }
   ],
   "source": [
    "dfplayoffstotals[\"season\"].unique()"
   ]
  },
  {
   "cell_type": "code",
   "execution_count": 98,
   "metadata": {},
   "outputs": [],
   "source": [
    "dfplayoffstotals[\"playerName\"] = dfplayoffstotals[\"playerName\"].replace(\"Kobe Bryant*\", \"Kobe Bryant\")\n",
    "dfplayoffstotals[\"playerName\"]= dfplayoffstotals[\"playerName\"].replace(\"Michael Jordan*\",\"Michael Jordan\")"
   ]
  },
  {
   "cell_type": "code",
   "execution_count": 131,
   "metadata": {},
   "outputs": [],
   "source": [
    "#Data does not include the NBA champions, I will add this info\n",
    "\n",
    "teamchampion=pd.read_csv(r\"C:\\Users\\Abraham\\Desktop\\Solo\\Bootcamp\\portfolio\\APIs\\API_sports\\teamchampionperseason.csv\",sep=\";\",header=1)"
   ]
  },
  {
   "cell_type": "code",
   "execution_count": 139,
   "metadata": {},
   "outputs": [],
   "source": [
    "teamchampion.rename(columns={\"Year\":\"season\"},inplace=True)\n",
    "teamchampion.rename(columns={\"Champion\":\"team\"},inplace=True)"
   ]
  },
  {
   "cell_type": "code",
   "execution_count": 151,
   "metadata": {},
   "outputs": [],
   "source": [
    "teamchampion[\"team\"]= teamchampion[\"team\"].replace(\"Los Angeles Lakers\",\"LAL\") \\\n",
    "    .replace('Chicago Bulls',\"CHI\") \\\n",
    "    .replace('Cleveland Cavaliers',\"CLE\") \\\n",
    "    .replace(\"Miami Heat\",\"MIA\")\n",
    "\n"
   ]
  },
  {
   "cell_type": "code",
   "execution_count": 154,
   "metadata": {},
   "outputs": [
    {
     "name": "stderr",
     "output_type": "stream",
     "text": [
      "c:\\Users\\Abraham\\AppData\\Local\\Programs\\Python\\Python37\\lib\\site-packages\\ipykernel_launcher.py:2: SettingWithCopyWarning: \n",
      "A value is trying to be set on a copy of a slice from a DataFrame.\n",
      "Try using .loc[row_indexer,col_indexer] = value instead\n",
      "\n",
      "See the caveats in the documentation: https://pandas.pydata.org/pandas-docs/stable/user_guide/indexing.html#returning-a-view-versus-a-copy\n",
      "  \n"
     ]
    }
   ],
   "source": [
    "teamchampion2=teamchampion[[\"season\",\"team\"]]\n",
    "teamchampion2[\"rings\"]=1\n",
    "merged_data=pd.merge(dfplayoffstotals, teamchampion2, on=[\"season\",\"team\"],how=\"left\",indicator=True)"
   ]
  },
  {
   "cell_type": "code",
   "execution_count": 179,
   "metadata": {},
   "outputs": [],
   "source": [
    "merged_data[\"rings\"]=merged_data[\"rings\"].fillna(0)"
   ]
  },
  {
   "cell_type": "code",
   "execution_count": 188,
   "metadata": {},
   "outputs": [],
   "source": [
    "merged_data[\"rings\"]=merged_data[\"rings\"].astype(float)"
   ]
  },
  {
   "cell_type": "code",
   "execution_count": 189,
   "metadata": {},
   "outputs": [],
   "source": [
    "merged_data.to_csv(\"Nba playoffs season data\",sep=\";\",decimal=\",\",index=False)"
   ]
  },
  {
   "cell_type": "markdown",
   "metadata": {},
   "source": [
    "## Getting per game data"
   ]
  },
  {
   "cell_type": "code",
   "execution_count": 197,
   "metadata": {},
   "outputs": [
    {
     "data": {
      "text/plain": [
       "Index(['playerName', 'position', 'age', 'games', 'fieldGoals', 'fieldPercent',\n",
       "       'threeAttempts', 'threePercent', 'twoAttempts', 'ftAttempts',\n",
       "       'ftPercent', 'totalRb', 'assists', 'steals', 'blocks', 'turnovers',\n",
       "       'personalFouls', 'points', 'team', 'season', 'fieldpts', 'threepts',\n",
       "       'twopts', 'ftpts', 'rings', '_merge'],\n",
       "      dtype='object')"
      ]
     },
     "execution_count": 197,
     "metadata": {},
     "output_type": "execute_result"
    }
   ],
   "source": [
    "dfplayoffs_pergame=merged_data.copy()\n",
    "dfplayoffs_pergame.columns"
   ]
  },
  {
   "cell_type": "code",
   "execution_count": 198,
   "metadata": {},
   "outputs": [],
   "source": [
    "dfplayoffs_pergame[\"Pts per game\"]=dfplayoffs_pergame[\"points\"].div(dfplayoffs_pergame['games'].replace(0, 1), axis=0)\n",
    "dfplayoffs_pergame[\"totalRb per game\"]=dfplayoffs_pergame[\"totalRb\"].div(dfplayoffs_pergame['games'].replace(0, 1), axis=0)\n",
    "dfplayoffs_pergame[\"assists per game\"]=dfplayoffs_pergame[\"assists\"].div(dfplayoffs_pergame['games'].replace(0, 1), axis=0)\n",
    "dfplayoffs_pergame[\"steals per game\"]=dfplayoffs_pergame[\"steals\"].div(dfplayoffs_pergame['games'].replace(0, 1), axis=0)\n",
    "dfplayoffs_pergame[\"blocks per game\"]=dfplayoffs_pergame[\"blocks\"].div(dfplayoffs_pergame['games'].replace(0, 1), axis=0)\n",
    "dfplayoffs_pergame[\"turnovers per game\"]=dfplayoffs_pergame[\"turnovers\"].div(dfplayoffs_pergame['games'].replace(0, 1), axis=0)\n",
    "dfplayoffs_pergame[\"personalFouls per game\"]=dfplayoffs_pergame[\"personalFouls\"].div(dfplayoffs_pergame['games'].replace(0, 1), axis=0)\n",
    "dfplayoffs_pergame[\"fieldpts per game\"]=dfplayoffs_pergame[\"fieldpts\"].div(dfplayoffs_pergame['games'].replace(0, 1), axis=0)\n",
    "dfplayoffs_pergame[\"threepts per game\"]=dfplayoffs_pergame[\"threepts\"].div(dfplayoffs_pergame['games'].replace(0, 1), axis=0)\n",
    "dfplayoffs_pergame[\"twopts per game\"]=dfplayoffs_pergame[\"twopts\"].div(dfplayoffs_pergame['games'].replace(0, 1), axis=0)\n",
    "dfplayoffs_pergame[\"ftpts per game\"]=dfplayoffs_pergame[\"ftpts\"].div(dfplayoffs_pergame['games'].replace(0, 1), axis=0)"
   ]
  },
  {
   "cell_type": "code",
   "execution_count": 199,
   "metadata": {},
   "outputs": [],
   "source": [
    "dfplayoffs_pergame.drop(['totalRb', 'assists', 'steals', 'blocks', 'turnovers',\n",
    "       'personalFouls', 'points', 'fieldpts', 'threepts',\n",
    "       'twopts', 'ftpts','_merge'],axis=1,inplace=True)"
   ]
  },
  {
   "cell_type": "code",
   "execution_count": 200,
   "metadata": {},
   "outputs": [],
   "source": [
    "dfplayoffs_pergame.to_csv(\"NBA playoffs pergame stats\",sep=\";\",decimal=\",\",index=False)"
   ]
  },
  {
   "cell_type": "code",
   "execution_count": 202,
   "metadata": {},
   "outputs": [
    {
     "data": {
      "text/plain": [
       "Index(['playerName', 'position', 'age', 'games', 'fieldGoals', 'fieldPercent',\n",
       "       'threeAttempts', 'threePercent', 'twoAttempts', 'ftAttempts',\n",
       "       'ftPercent', 'team', 'season', 'rings', 'Pts per game',\n",
       "       'totalRb per game', 'assists per game', 'steals per game',\n",
       "       'blocks per game', 'turnovers per game', 'personalFouls per game',\n",
       "       'fieldpts per game', 'threepts per game', 'twopts per game',\n",
       "       'ftpts per game'],\n",
       "      dtype='object')"
      ]
     },
     "execution_count": 202,
     "metadata": {},
     "output_type": "execute_result"
    }
   ],
   "source": [
    "dfplayoffs_pergame.columns"
   ]
  }
 ],
 "metadata": {
  "kernelspec": {
   "display_name": "Python 3",
   "language": "python",
   "name": "python3"
  },
  "language_info": {
   "codemirror_mode": {
    "name": "ipython",
    "version": 3
   },
   "file_extension": ".py",
   "mimetype": "text/x-python",
   "name": "python",
   "nbconvert_exporter": "python",
   "pygments_lexer": "ipython3",
   "version": "3.7.4"
  }
 },
 "nbformat": 4,
 "nbformat_minor": 2
}
