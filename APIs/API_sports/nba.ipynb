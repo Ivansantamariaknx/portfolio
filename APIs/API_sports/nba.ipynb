{
 "cells": [
  {
   "cell_type": "code",
   "execution_count": 1,
   "metadata": {},
   "outputs": [
    {
     "data": {
      "text/plain": [
       "'api base url: http://rest.nbaapi.com'"
      ]
     },
     "execution_count": 1,
     "metadata": {},
     "output_type": "execute_result"
    }
   ],
   "source": [
    "import requests\n",
    "import pandas as pd\n",
    "\"github:https://github.com/nprasad2077/nbaStats\"\n",
    "\n",
    "\"api base url: http://rest.nbaapi.com\""
   ]
  },
  {
   "cell_type": "markdown",
   "metadata": {},
   "source": [
    "### Objective\n",
    "\n",
    "<p>Compare the stats of Kobe, Lebron, and Michael Jordan in both regular seasons and play offs</p>"
   ]
  },
  {
   "cell_type": "code",
   "execution_count": 2,
   "metadata": {},
   "outputs": [],
   "source": [
    "baseurl=\"http://rest.nbaapi.com\""
   ]
  },
  {
   "cell_type": "code",
   "execution_count": 3,
   "metadata": {},
   "outputs": [
    {
     "data": {
      "text/plain": [
       "<Response [200]>"
      ]
     },
     "execution_count": 3,
     "metadata": {},
     "output_type": "execute_result"
    }
   ],
   "source": [
    "response=requests.get(baseurl)\n",
    "response"
   ]
  },
  {
   "cell_type": "markdown",
   "metadata": {},
   "source": [
    "### Getting Lebron James' data"
   ]
  },
  {
   "cell_type": "markdown",
   "metadata": {},
   "source": [
    "##### Regular season"
   ]
  },
  {
   "cell_type": "code",
   "execution_count": 57,
   "metadata": {},
   "outputs": [],
   "source": [
    "url_james_regular=\"http://rest.nbaapi.com/api/PlayerDataTotals/name/Lebron James\"\n",
    "url_kobe_regular=\"http://rest.nbaapi.com/api/PlayerDataTotals/name/Kobe Bryant\"\n",
    "url_jordan_regular=\"http://rest.nbaapi.com/api/PlayerDataTotals/name/Michael Jordan\""
   ]
  },
  {
   "cell_type": "code",
   "execution_count": 58,
   "metadata": {},
   "outputs": [
    {
     "name": "stdout",
     "output_type": "stream",
     "text": [
      "<Response [200]> <Response [200]> <Response [200]>\n"
     ]
    }
   ],
   "source": [
    "response1=requests.get(url_james_regular)\n",
    "response2=requests.get(url_kobe_regular)\n",
    "response3=requests.get(url_jordan_regular)\n",
    "\n",
    "print(response1,response2,response3)"
   ]
  },
  {
   "cell_type": "code",
   "execution_count": 59,
   "metadata": {},
   "outputs": [],
   "source": [
    "data_lebron_regular=response1.json()\n",
    "data_kobe_regular=response2.json()\n",
    "data_jordan_regular=response3.json()\n",
    "all_regular= data_lebron_regular + data_kobe_regular + data_jordan_regular"
   ]
  },
  {
   "cell_type": "code",
   "execution_count": 60,
   "metadata": {},
   "outputs": [],
   "source": [
    "dfregular= pd.DataFrame(all_regular)\n"
   ]
  },
  {
   "cell_type": "code",
   "execution_count": 62,
   "metadata": {},
   "outputs": [],
   "source": [
    "dfregular.to_csv(\"Regular_seasons_data\")"
   ]
  },
  {
   "cell_type": "markdown",
   "metadata": {},
   "source": [
    "### Important checks"
   ]
  },
  {
   "cell_type": "markdown",
   "metadata": {},
   "source": [
    "<p> In order to ensure data is real I'll make 3 checks: First, that data from all 3 players is in the dataset. Second, that there's a maximum of 82 games in any of the seasons they played (because a regular season consists of sucha number of games). Third that data from all seasons is complete</p>"
   ]
  },
  {
   "cell_type": "markdown",
   "metadata": {},
   "source": [
    "##### Checking all 3 players are in our dataset:"
   ]
  },
  {
   "cell_type": "code",
   "execution_count": 42,
   "metadata": {},
   "outputs": [
    {
     "data": {
      "text/plain": [
       "array(['LeBron James', 'Kobe Bryant*', 'Michael Jordan*'], dtype=object)"
      ]
     },
     "execution_count": 42,
     "metadata": {},
     "output_type": "execute_result"
    }
   ],
   "source": [
    "dfregular['playerName'].unique()\n",
    "\n",
    "#Ok. All 3 players are in the dataset."
   ]
  },
  {
   "cell_type": "markdown",
   "metadata": {},
   "source": [
    "##### Checking regular season data set has a max of 82 games:"
   ]
  },
  {
   "cell_type": "code",
   "execution_count": 63,
   "metadata": {},
   "outputs": [
    {
     "data": {
      "text/html": [
       "<div>\n",
       "<style scoped>\n",
       "    .dataframe tbody tr th:only-of-type {\n",
       "        vertical-align: middle;\n",
       "    }\n",
       "\n",
       "    .dataframe tbody tr th {\n",
       "        vertical-align: top;\n",
       "    }\n",
       "\n",
       "    .dataframe thead th {\n",
       "        text-align: right;\n",
       "    }\n",
       "</style>\n",
       "<table border=\"1\" class=\"dataframe\">\n",
       "  <thead>\n",
       "    <tr style=\"text-align: right;\">\n",
       "      <th></th>\n",
       "      <th>id</th>\n",
       "      <th>age</th>\n",
       "      <th>games</th>\n",
       "      <th>gamesStarted</th>\n",
       "      <th>minutesPg</th>\n",
       "      <th>fieldGoals</th>\n",
       "      <th>fieldAttempts</th>\n",
       "      <th>fieldPercent</th>\n",
       "      <th>threeFg</th>\n",
       "      <th>threeAttempts</th>\n",
       "      <th>...</th>\n",
       "      <th>offensiveRb</th>\n",
       "      <th>defensiveRb</th>\n",
       "      <th>totalRb</th>\n",
       "      <th>assists</th>\n",
       "      <th>steals</th>\n",
       "      <th>blocks</th>\n",
       "      <th>turnovers</th>\n",
       "      <th>personalFouls</th>\n",
       "      <th>points</th>\n",
       "      <th>season</th>\n",
       "    </tr>\n",
       "  </thead>\n",
       "  <tbody>\n",
       "    <tr>\n",
       "      <th>count</th>\n",
       "      <td>49.000000</td>\n",
       "      <td>49.000000</td>\n",
       "      <td>49.000000</td>\n",
       "      <td>49.000000</td>\n",
       "      <td>49.000000</td>\n",
       "      <td>49.000000</td>\n",
       "      <td>49.000000</td>\n",
       "      <td>49.000000</td>\n",
       "      <td>49.000000</td>\n",
       "      <td>49.000000</td>\n",
       "      <td>...</td>\n",
       "      <td>49.000000</td>\n",
       "      <td>49.000000</td>\n",
       "      <td>49.000000</td>\n",
       "      <td>49.000000</td>\n",
       "      <td>49.000000</td>\n",
       "      <td>49.000000</td>\n",
       "      <td>49.000000</td>\n",
       "      <td>49.000000</td>\n",
       "      <td>49.000000</td>\n",
       "      <td>49.000000</td>\n",
       "    </tr>\n",
       "    <tr>\n",
       "      <th>mean</th>\n",
       "      <td>9832.224490</td>\n",
       "      <td>29.285714</td>\n",
       "      <td>68.551020</td>\n",
       "      <td>65.040816</td>\n",
       "      <td>2546.897959</td>\n",
       "      <td>653.224490</td>\n",
       "      <td>1369.040816</td>\n",
       "      <td>0.474000</td>\n",
       "      <td>95.877551</td>\n",
       "      <td>280.428571</td>\n",
       "      <td>...</td>\n",
       "      <td>80.244898</td>\n",
       "      <td>358.367347</td>\n",
       "      <td>438.612245</td>\n",
       "      <td>403.714286</td>\n",
       "      <td>105.571429</td>\n",
       "      <td>41.714286</td>\n",
       "      <td>214.102041</td>\n",
       "      <td>145.224490</td>\n",
       "      <td>1802.265306</td>\n",
       "      <td>2008.836735</td>\n",
       "    </tr>\n",
       "    <tr>\n",
       "      <th>std</th>\n",
       "      <td>4731.928973</td>\n",
       "      <td>6.177918</td>\n",
       "      <td>16.837534</td>\n",
       "      <td>21.122617</td>\n",
       "      <td>737.408984</td>\n",
       "      <td>214.718446</td>\n",
       "      <td>432.223031</td>\n",
       "      <td>0.045394</td>\n",
       "      <td>43.434641</td>\n",
       "      <td>120.489107</td>\n",
       "      <td>...</td>\n",
       "      <td>31.060110</td>\n",
       "      <td>122.921671</td>\n",
       "      <td>142.066712</td>\n",
       "      <td>154.227511</td>\n",
       "      <td>42.074339</td>\n",
       "      <td>19.934267</td>\n",
       "      <td>63.090294</td>\n",
       "      <td>51.663279</td>\n",
       "      <td>592.069984</td>\n",
       "      <td>8.304986</td>\n",
       "    </tr>\n",
       "    <tr>\n",
       "      <th>min</th>\n",
       "      <td>307.000000</td>\n",
       "      <td>18.000000</td>\n",
       "      <td>6.000000</td>\n",
       "      <td>1.000000</td>\n",
       "      <td>177.000000</td>\n",
       "      <td>31.000000</td>\n",
       "      <td>73.000000</td>\n",
       "      <td>0.358000</td>\n",
       "      <td>3.000000</td>\n",
       "      <td>16.000000</td>\n",
       "      <td>...</td>\n",
       "      <td>2.000000</td>\n",
       "      <td>24.000000</td>\n",
       "      <td>26.000000</td>\n",
       "      <td>38.000000</td>\n",
       "      <td>7.000000</td>\n",
       "      <td>1.000000</td>\n",
       "      <td>34.000000</td>\n",
       "      <td>9.000000</td>\n",
       "      <td>83.000000</td>\n",
       "      <td>1993.000000</td>\n",
       "    </tr>\n",
       "    <tr>\n",
       "      <th>25%</th>\n",
       "      <td>6340.000000</td>\n",
       "      <td>24.000000</td>\n",
       "      <td>65.000000</td>\n",
       "      <td>58.000000</td>\n",
       "      <td>2093.000000</td>\n",
       "      <td>558.000000</td>\n",
       "      <td>1183.000000</td>\n",
       "      <td>0.450000</td>\n",
       "      <td>63.000000</td>\n",
       "      <td>216.000000</td>\n",
       "      <td>...</td>\n",
       "      <td>63.000000</td>\n",
       "      <td>297.000000</td>\n",
       "      <td>391.000000</td>\n",
       "      <td>330.000000</td>\n",
       "      <td>74.000000</td>\n",
       "      <td>26.000000</td>\n",
       "      <td>173.000000</td>\n",
       "      <td>115.000000</td>\n",
       "      <td>1557.000000</td>\n",
       "      <td>2003.000000</td>\n",
       "    </tr>\n",
       "    <tr>\n",
       "      <th>50%</th>\n",
       "      <td>9838.000000</td>\n",
       "      <td>30.000000</td>\n",
       "      <td>76.000000</td>\n",
       "      <td>74.000000</td>\n",
       "      <td>2794.000000</td>\n",
       "      <td>716.000000</td>\n",
       "      <td>1416.000000</td>\n",
       "      <td>0.469000</td>\n",
       "      <td>108.000000</td>\n",
       "      <td>301.000000</td>\n",
       "      <td>...</td>\n",
       "      <td>80.000000</td>\n",
       "      <td>367.000000</td>\n",
       "      <td>457.000000</td>\n",
       "      <td>398.000000</td>\n",
       "      <td>112.000000</td>\n",
       "      <td>40.000000</td>\n",
       "      <td>223.000000</td>\n",
       "      <td>149.000000</td>\n",
       "      <td>1938.000000</td>\n",
       "      <td>2009.000000</td>\n",
       "    </tr>\n",
       "    <tr>\n",
       "      <th>75%</th>\n",
       "      <td>13137.000000</td>\n",
       "      <td>34.000000</td>\n",
       "      <td>80.000000</td>\n",
       "      <td>79.000000</td>\n",
       "      <td>3063.000000</td>\n",
       "      <td>789.000000</td>\n",
       "      <td>1639.000000</td>\n",
       "      <td>0.503000</td>\n",
       "      <td>127.000000</td>\n",
       "      <td>377.000000</td>\n",
       "      <td>...</td>\n",
       "      <td>103.000000</td>\n",
       "      <td>454.000000</td>\n",
       "      <td>533.000000</td>\n",
       "      <td>511.000000</td>\n",
       "      <td>125.000000</td>\n",
       "      <td>53.000000</td>\n",
       "      <td>260.000000</td>\n",
       "      <td>180.000000</td>\n",
       "      <td>2250.000000</td>\n",
       "      <td>2015.000000</td>\n",
       "    </tr>\n",
       "    <tr>\n",
       "      <th>max</th>\n",
       "      <td>18731.000000</td>\n",
       "      <td>40.000000</td>\n",
       "      <td>82.000000</td>\n",
       "      <td>82.000000</td>\n",
       "      <td>3401.000000</td>\n",
       "      <td>992.000000</td>\n",
       "      <td>2173.000000</td>\n",
       "      <td>0.567000</td>\n",
       "      <td>180.000000</td>\n",
       "      <td>518.000000</td>\n",
       "      <td>...</td>\n",
       "      <td>148.000000</td>\n",
       "      <td>612.000000</td>\n",
       "      <td>709.000000</td>\n",
       "      <td>747.000000</td>\n",
       "      <td>221.000000</td>\n",
       "      <td>93.000000</td>\n",
       "      <td>347.000000</td>\n",
       "      <td>233.000000</td>\n",
       "      <td>2832.000000</td>\n",
       "      <td>2025.000000</td>\n",
       "    </tr>\n",
       "  </tbody>\n",
       "</table>\n",
       "<p>8 rows × 28 columns</p>\n",
       "</div>"
      ],
      "text/plain": [
       "                 id        age      games  gamesStarted    minutesPg  \\\n",
       "count     49.000000  49.000000  49.000000     49.000000    49.000000   \n",
       "mean    9832.224490  29.285714  68.551020     65.040816  2546.897959   \n",
       "std     4731.928973   6.177918  16.837534     21.122617   737.408984   \n",
       "min      307.000000  18.000000   6.000000      1.000000   177.000000   \n",
       "25%     6340.000000  24.000000  65.000000     58.000000  2093.000000   \n",
       "50%     9838.000000  30.000000  76.000000     74.000000  2794.000000   \n",
       "75%    13137.000000  34.000000  80.000000     79.000000  3063.000000   \n",
       "max    18731.000000  40.000000  82.000000     82.000000  3401.000000   \n",
       "\n",
       "       fieldGoals  fieldAttempts  fieldPercent     threeFg  threeAttempts  \\\n",
       "count   49.000000      49.000000     49.000000   49.000000      49.000000   \n",
       "mean   653.224490    1369.040816      0.474000   95.877551     280.428571   \n",
       "std    214.718446     432.223031      0.045394   43.434641     120.489107   \n",
       "min     31.000000      73.000000      0.358000    3.000000      16.000000   \n",
       "25%    558.000000    1183.000000      0.450000   63.000000     216.000000   \n",
       "50%    716.000000    1416.000000      0.469000  108.000000     301.000000   \n",
       "75%    789.000000    1639.000000      0.503000  127.000000     377.000000   \n",
       "max    992.000000    2173.000000      0.567000  180.000000     518.000000   \n",
       "\n",
       "       ...  offensiveRb  defensiveRb     totalRb     assists      steals  \\\n",
       "count  ...    49.000000    49.000000   49.000000   49.000000   49.000000   \n",
       "mean   ...    80.244898   358.367347  438.612245  403.714286  105.571429   \n",
       "std    ...    31.060110   122.921671  142.066712  154.227511   42.074339   \n",
       "min    ...     2.000000    24.000000   26.000000   38.000000    7.000000   \n",
       "25%    ...    63.000000   297.000000  391.000000  330.000000   74.000000   \n",
       "50%    ...    80.000000   367.000000  457.000000  398.000000  112.000000   \n",
       "75%    ...   103.000000   454.000000  533.000000  511.000000  125.000000   \n",
       "max    ...   148.000000   612.000000  709.000000  747.000000  221.000000   \n",
       "\n",
       "          blocks   turnovers  personalFouls       points       season  \n",
       "count  49.000000   49.000000      49.000000    49.000000    49.000000  \n",
       "mean   41.714286  214.102041     145.224490  1802.265306  2008.836735  \n",
       "std    19.934267   63.090294      51.663279   592.069984     8.304986  \n",
       "min     1.000000   34.000000       9.000000    83.000000  1993.000000  \n",
       "25%    26.000000  173.000000     115.000000  1557.000000  2003.000000  \n",
       "50%    40.000000  223.000000     149.000000  1938.000000  2009.000000  \n",
       "75%    53.000000  260.000000     180.000000  2250.000000  2015.000000  \n",
       "max    93.000000  347.000000     233.000000  2832.000000  2025.000000  \n",
       "\n",
       "[8 rows x 28 columns]"
      ]
     },
     "execution_count": 63,
     "metadata": {},
     "output_type": "execute_result"
    }
   ],
   "source": [
    "dfregular.describe()\n",
    "#Ok. Max games is 82 which is the maximum in a regular season."
   ]
  },
  {
   "cell_type": "markdown",
   "metadata": {},
   "source": [
    "##### Checking all seasons are in the dataset:"
   ]
  },
  {
   "cell_type": "markdown",
   "metadata": {},
   "source": [
    "<p>A quick check in the internet provides us the seasons each of these players have played:</p>\n",
    "<ul> <li>Lebron James: 22 seasons</li>\n",
    "<li>Kobe Bryant: 20 seasons</li>\n",
    "<li>Michael Jordan: 15 seasons</li>\n",
    "</ul>"
   ]
  },
  {
   "cell_type": "code",
   "execution_count": 86,
   "metadata": {},
   "outputs": [
    {
     "data": {
      "text/plain": [
       "22"
      ]
     },
     "execution_count": 86,
     "metadata": {},
     "output_type": "execute_result"
    }
   ],
   "source": [
    "lebron_check= dfregular[dfregular['playerName']=='LeBron James']\n",
    "lebron_check[\"season\"].value_counts().sum()\n",
    "#Ok"
   ]
  },
  {
   "cell_type": "code",
   "execution_count": 82,
   "metadata": {},
   "outputs": [
    {
     "data": {
      "text/plain": [
       "20"
      ]
     },
     "execution_count": 82,
     "metadata": {},
     "output_type": "execute_result"
    }
   ],
   "source": [
    "kobe_check= dfregular[dfregular['playerName']==\"Kobe Bryant*\"]\n",
    "kobe_check[\"season\"].value_counts().sum()\n",
    "#Ok"
   ]
  },
  {
   "cell_type": "code",
   "execution_count": 87,
   "metadata": {},
   "outputs": [
    {
     "data": {
      "text/plain": [
       "7"
      ]
     },
     "execution_count": 87,
     "metadata": {},
     "output_type": "execute_result"
    }
   ],
   "source": [
    "jordan_check= dfregular[dfregular['playerName']==\"Michael Jordan*\"]\n",
    "jordan_check[\"season\"].value_counts().sum()\n",
    "#WRONG! DATA IS MISSING!"
   ]
  },
  {
   "cell_type": "code",
   "execution_count": 88,
   "metadata": {},
   "outputs": [],
   "source": [
    "#data from here: https://www.espn.com/nba/player/stats/_/id/1035/type/nba/seasontype/3"
   ]
  },
  {
   "cell_type": "markdown",
   "metadata": {},
   "source": [
    "##### Playoffs "
   ]
  },
  {
   "cell_type": "code",
   "execution_count": 64,
   "metadata": {},
   "outputs": [],
   "source": [
    "url_playoffs_lebron=\"http://rest.nbaapi.com/api/PlayerDataTotalsPlayoffs/name/Lebron James\"\n",
    "url_playoffs_kobe=\"http://rest.nbaapi.com/api/PlayerDataTotalsPlayoffs/name/Kobe Bryant\"\n",
    "url_playoffs_jordan=\"http://rest.nbaapi.com/api/PlayerDataTotalsPlayoffs/name/Michael Jordan\""
   ]
  },
  {
   "cell_type": "code",
   "execution_count": 67,
   "metadata": {},
   "outputs": [
    {
     "name": "stdout",
     "output_type": "stream",
     "text": [
      "<Response [200]> <Response [200]> <Response [200]>\n"
     ]
    }
   ],
   "source": [
    "response4=requests.get(url_playoffs_lebron)\n",
    "response5=requests.get(url_playoffs_kobe)\n",
    "response6=requests.get(url_playoffs_jordan)\n",
    "print(response4,response5,response6)"
   ]
  },
  {
   "cell_type": "code",
   "execution_count": 68,
   "metadata": {},
   "outputs": [],
   "source": [
    "data_playoffs_lebron=response4.json()\n",
    "data_playoffs_kobe=response5.json()\n",
    "data_playoffs_jordan=response.json()\n",
    "allplayoffs=data_playoffs_lebron + data_playoffs_kobe +data_playoffs_jordan"
   ]
  },
  {
   "cell_type": "code",
   "execution_count": 69,
   "metadata": {},
   "outputs": [
    {
     "name": "stdout",
     "output_type": "stream",
     "text": [
      "<class 'pandas.core.frame.DataFrame'>\n",
      "RangeIndex: 54 entries, 0 to 53\n",
      "Data columns (total 53 columns):\n",
      " #   Column              Non-Null Count  Dtype  \n",
      "---  ------              --------------  -----  \n",
      " 0   id                  54 non-null     int64  \n",
      " 1   playerName          54 non-null     object \n",
      " 2   position            54 non-null     object \n",
      " 3   age                 54 non-null     int64  \n",
      " 4   games               54 non-null     int64  \n",
      " 5   gamesStarted        32 non-null     float64\n",
      " 6   minutesPg           32 non-null     float64\n",
      " 7   fieldGoals          32 non-null     float64\n",
      " 8   fieldAttempts       32 non-null     float64\n",
      " 9   fieldPercent        32 non-null     float64\n",
      " 10  threeFg             32 non-null     float64\n",
      " 11  threeAttempts       32 non-null     float64\n",
      " 12  threePercent        32 non-null     float64\n",
      " 13  twoFg               32 non-null     float64\n",
      " 14  twoAttempts         32 non-null     float64\n",
      " 15  twoPercent          32 non-null     float64\n",
      " 16  effectFgPercent     32 non-null     float64\n",
      " 17  ft                  32 non-null     float64\n",
      " 18  ftAttempts          32 non-null     float64\n",
      " 19  ftPercent           32 non-null     float64\n",
      " 20  offensiveRb         32 non-null     float64\n",
      " 21  defensiveRb         32 non-null     float64\n",
      " 22  totalRb             32 non-null     float64\n",
      " 23  assists             32 non-null     float64\n",
      " 24  steals              32 non-null     float64\n",
      " 25  blocks              32 non-null     float64\n",
      " 26  turnovers           32 non-null     float64\n",
      " 27  personalFouls       32 non-null     float64\n",
      " 28  points              32 non-null     float64\n",
      " 29  team                54 non-null     object \n",
      " 30  season              54 non-null     int64  \n",
      " 31  playerId            54 non-null     object \n",
      " 32  minutesPlayed       22 non-null     float64\n",
      " 33  per                 22 non-null     float64\n",
      " 34  tsPercent           22 non-null     float64\n",
      " 35  threePAR            22 non-null     float64\n",
      " 36  ftr                 22 non-null     float64\n",
      " 37  offensiveRBPercent  22 non-null     float64\n",
      " 38  defensiveRBPercent  22 non-null     float64\n",
      " 39  totalRBPercent      22 non-null     float64\n",
      " 40  assistPercent       22 non-null     float64\n",
      " 41  stealPercent        22 non-null     float64\n",
      " 42  blockPercent        22 non-null     float64\n",
      " 43  turnoverPercent     22 non-null     float64\n",
      " 44  usagePercent        22 non-null     float64\n",
      " 45  offensiveWS         22 non-null     float64\n",
      " 46  defensiveWS         22 non-null     float64\n",
      " 47  winShares           22 non-null     float64\n",
      " 48  winSharesPer        22 non-null     float64\n",
      " 49  offensiveBox        22 non-null     float64\n",
      " 50  defensiveBox        22 non-null     float64\n",
      " 51  box                 22 non-null     float64\n",
      " 52  vorp                22 non-null     float64\n",
      "dtypes: float64(45), int64(4), object(4)\n",
      "memory usage: 22.5+ KB\n"
     ]
    }
   ],
   "source": [
    "dfplayoffs=pd.DataFrame(allplayoffs)\n",
    "dfplayoffs.info()"
   ]
  },
  {
   "cell_type": "code",
   "execution_count": 70,
   "metadata": {},
   "outputs": [],
   "source": [
    "dfplayoffs.to_csv(\"playoffs_data\")"
   ]
  }
 ],
 "metadata": {
  "kernelspec": {
   "display_name": "Python 3",
   "language": "python",
   "name": "python3"
  },
  "language_info": {
   "codemirror_mode": {
    "name": "ipython",
    "version": 3
   },
   "file_extension": ".py",
   "mimetype": "text/x-python",
   "name": "python",
   "nbconvert_exporter": "python",
   "pygments_lexer": "ipython3",
   "version": "3.7.4"
  }
 },
 "nbformat": 4,
 "nbformat_minor": 2
}
