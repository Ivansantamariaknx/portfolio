{
 "cells": [
  {
   "cell_type": "code",
   "execution_count": 2,
   "metadata": {},
   "outputs": [
    {
     "data": {
      "text/plain": [
       "'api base url: http://rest.nbaapi.com'"
      ]
     },
     "execution_count": 2,
     "metadata": {},
     "output_type": "execute_result"
    }
   ],
   "source": [
    "import requests\n",
    "import pandas as pd\n",
    "\"github:https://github.com/nprasad2077/nbaStats\"\n",
    "\n",
    "\"api base url: http://rest.nbaapi.com\""
   ]
  },
  {
   "cell_type": "markdown",
   "metadata": {},
   "source": [
    "### Objective\n",
    "\n",
    "<p>Compare the stats of Kobe, Lebron, and Michael Jordan in both regular seasons and play offs. This file is for the regular season, I made a different one to use the api on the playofss stats</p>"
   ]
  },
  {
   "cell_type": "code",
   "execution_count": 3,
   "metadata": {},
   "outputs": [],
   "source": [
    "baseurl=\"http://rest.nbaapi.com\""
   ]
  },
  {
   "cell_type": "code",
   "execution_count": 4,
   "metadata": {},
   "outputs": [
    {
     "data": {
      "text/plain": [
       "<Response [200]>"
      ]
     },
     "execution_count": 4,
     "metadata": {},
     "output_type": "execute_result"
    }
   ],
   "source": [
    "response=requests.get(baseurl)\n",
    "response"
   ]
  },
  {
   "cell_type": "markdown",
   "metadata": {},
   "source": [
    "##### Regular season"
   ]
  },
  {
   "cell_type": "code",
   "execution_count": 5,
   "metadata": {},
   "outputs": [],
   "source": [
    "url_james_regular=\"http://rest.nbaapi.com/api/PlayerDataTotals/name/Lebron James\"\n",
    "url_kobe_regular=\"http://rest.nbaapi.com/api/PlayerDataTotals/name/Kobe Bryant\"\n",
    "url_jordan_regular=\"http://rest.nbaapi.com/api/PlayerDataTotals/name/Michael Jordan\""
   ]
  },
  {
   "cell_type": "code",
   "execution_count": 6,
   "metadata": {},
   "outputs": [
    {
     "name": "stdout",
     "output_type": "stream",
     "text": [
      "<Response [200]> <Response [200]> <Response [200]>\n"
     ]
    }
   ],
   "source": [
    "response1=requests.get(url_james_regular)\n",
    "response2=requests.get(url_kobe_regular)\n",
    "response3=requests.get(url_jordan_regular)\n",
    "\n",
    "print(response1,response2,response3)"
   ]
  },
  {
   "cell_type": "code",
   "execution_count": 7,
   "metadata": {},
   "outputs": [],
   "source": [
    "data_lebron_regular=response1.json()\n",
    "data_kobe_regular=response2.json()\n",
    "data_jordan_regular=response3.json()\n",
    "all_regular= data_lebron_regular + data_kobe_regular + data_jordan_regular"
   ]
  },
  {
   "cell_type": "code",
   "execution_count": 8,
   "metadata": {},
   "outputs": [],
   "source": [
    "dfregular= pd.DataFrame(all_regular)\n"
   ]
  },
  {
   "cell_type": "markdown",
   "metadata": {},
   "source": [
    "### Important checks"
   ]
  },
  {
   "cell_type": "markdown",
   "metadata": {},
   "source": [
    "<p> In order to ensure data is real I'll make 3 checks: First, that data from all 3 players is in the dataset. Second, that there's a maximum of 82 games in any of the seasons they played (because a regular season consists of sucha number of games). Third that data from all seasons is complete</p>"
   ]
  },
  {
   "cell_type": "markdown",
   "metadata": {},
   "source": [
    "##### Checking all 3 players are in our dataset:"
   ]
  },
  {
   "cell_type": "code",
   "execution_count": 9,
   "metadata": {},
   "outputs": [
    {
     "data": {
      "text/plain": [
       "array(['LeBron James', 'Kobe Bryant*', 'Michael Jordan*'], dtype=object)"
      ]
     },
     "execution_count": 9,
     "metadata": {},
     "output_type": "execute_result"
    }
   ],
   "source": [
    "dfregular['playerName'].unique()\n",
    "\n",
    "#Ok. All 3 players are in the dataset."
   ]
  },
  {
   "cell_type": "markdown",
   "metadata": {},
   "source": [
    "##### Checking regular season data set has a max of 82 games:"
   ]
  },
  {
   "cell_type": "code",
   "execution_count": 10,
   "metadata": {},
   "outputs": [
    {
     "data": {
      "text/html": [
       "<div>\n",
       "<style scoped>\n",
       "    .dataframe tbody tr th:only-of-type {\n",
       "        vertical-align: middle;\n",
       "    }\n",
       "\n",
       "    .dataframe tbody tr th {\n",
       "        vertical-align: top;\n",
       "    }\n",
       "\n",
       "    .dataframe thead th {\n",
       "        text-align: right;\n",
       "    }\n",
       "</style>\n",
       "<table border=\"1\" class=\"dataframe\">\n",
       "  <thead>\n",
       "    <tr style=\"text-align: right;\">\n",
       "      <th></th>\n",
       "      <th>id</th>\n",
       "      <th>age</th>\n",
       "      <th>games</th>\n",
       "      <th>gamesStarted</th>\n",
       "      <th>minutesPg</th>\n",
       "      <th>fieldGoals</th>\n",
       "      <th>fieldAttempts</th>\n",
       "      <th>fieldPercent</th>\n",
       "      <th>threeFg</th>\n",
       "      <th>threeAttempts</th>\n",
       "      <th>...</th>\n",
       "      <th>offensiveRb</th>\n",
       "      <th>defensiveRb</th>\n",
       "      <th>totalRb</th>\n",
       "      <th>assists</th>\n",
       "      <th>steals</th>\n",
       "      <th>blocks</th>\n",
       "      <th>turnovers</th>\n",
       "      <th>personalFouls</th>\n",
       "      <th>points</th>\n",
       "      <th>season</th>\n",
       "    </tr>\n",
       "  </thead>\n",
       "  <tbody>\n",
       "    <tr>\n",
       "      <th>count</th>\n",
       "      <td>49.000000</td>\n",
       "      <td>49.000000</td>\n",
       "      <td>49.000000</td>\n",
       "      <td>49.000000</td>\n",
       "      <td>49.000000</td>\n",
       "      <td>49.000000</td>\n",
       "      <td>49.000000</td>\n",
       "      <td>49.000000</td>\n",
       "      <td>49.000000</td>\n",
       "      <td>49.000000</td>\n",
       "      <td>...</td>\n",
       "      <td>49.000000</td>\n",
       "      <td>49.000000</td>\n",
       "      <td>49.000000</td>\n",
       "      <td>49.00000</td>\n",
       "      <td>49.000000</td>\n",
       "      <td>49.000000</td>\n",
       "      <td>49.000000</td>\n",
       "      <td>49.000000</td>\n",
       "      <td>49.000000</td>\n",
       "      <td>49.000000</td>\n",
       "    </tr>\n",
       "    <tr>\n",
       "      <th>mean</th>\n",
       "      <td>9832.224490</td>\n",
       "      <td>29.285714</td>\n",
       "      <td>68.755102</td>\n",
       "      <td>65.244898</td>\n",
       "      <td>2553.632653</td>\n",
       "      <td>655.285714</td>\n",
       "      <td>1372.938776</td>\n",
       "      <td>0.474061</td>\n",
       "      <td>96.306122</td>\n",
       "      <td>281.551020</td>\n",
       "      <td>...</td>\n",
       "      <td>80.408163</td>\n",
       "      <td>359.959184</td>\n",
       "      <td>440.367347</td>\n",
       "      <td>405.55102</td>\n",
       "      <td>105.734694</td>\n",
       "      <td>41.734694</td>\n",
       "      <td>214.897959</td>\n",
       "      <td>145.530612</td>\n",
       "      <td>1807.673469</td>\n",
       "      <td>2008.836735</td>\n",
       "    </tr>\n",
       "    <tr>\n",
       "      <th>std</th>\n",
       "      <td>4731.928973</td>\n",
       "      <td>6.177918</td>\n",
       "      <td>16.517075</td>\n",
       "      <td>20.903081</td>\n",
       "      <td>727.485129</td>\n",
       "      <td>212.187417</td>\n",
       "      <td>426.677591</td>\n",
       "      <td>0.045450</td>\n",
       "      <td>43.438752</td>\n",
       "      <td>120.132056</td>\n",
       "      <td>...</td>\n",
       "      <td>30.832152</td>\n",
       "      <td>122.003921</td>\n",
       "      <td>140.653637</td>\n",
       "      <td>154.00082</td>\n",
       "      <td>41.805490</td>\n",
       "      <td>19.915211</td>\n",
       "      <td>62.443056</td>\n",
       "      <td>51.153406</td>\n",
       "      <td>584.841517</td>\n",
       "      <td>8.304986</td>\n",
       "    </tr>\n",
       "    <tr>\n",
       "      <th>min</th>\n",
       "      <td>307.000000</td>\n",
       "      <td>18.000000</td>\n",
       "      <td>6.000000</td>\n",
       "      <td>1.000000</td>\n",
       "      <td>177.000000</td>\n",
       "      <td>31.000000</td>\n",
       "      <td>73.000000</td>\n",
       "      <td>0.358000</td>\n",
       "      <td>3.000000</td>\n",
       "      <td>16.000000</td>\n",
       "      <td>...</td>\n",
       "      <td>2.000000</td>\n",
       "      <td>24.000000</td>\n",
       "      <td>26.000000</td>\n",
       "      <td>38.00000</td>\n",
       "      <td>7.000000</td>\n",
       "      <td>1.000000</td>\n",
       "      <td>34.000000</td>\n",
       "      <td>9.000000</td>\n",
       "      <td>83.000000</td>\n",
       "      <td>1993.000000</td>\n",
       "    </tr>\n",
       "    <tr>\n",
       "      <th>25%</th>\n",
       "      <td>6340.000000</td>\n",
       "      <td>24.000000</td>\n",
       "      <td>65.000000</td>\n",
       "      <td>58.000000</td>\n",
       "      <td>2093.000000</td>\n",
       "      <td>558.000000</td>\n",
       "      <td>1183.000000</td>\n",
       "      <td>0.450000</td>\n",
       "      <td>63.000000</td>\n",
       "      <td>217.000000</td>\n",
       "      <td>...</td>\n",
       "      <td>63.000000</td>\n",
       "      <td>308.000000</td>\n",
       "      <td>391.000000</td>\n",
       "      <td>330.00000</td>\n",
       "      <td>74.000000</td>\n",
       "      <td>26.000000</td>\n",
       "      <td>178.000000</td>\n",
       "      <td>115.000000</td>\n",
       "      <td>1557.000000</td>\n",
       "      <td>2003.000000</td>\n",
       "    </tr>\n",
       "    <tr>\n",
       "      <th>50%</th>\n",
       "      <td>9838.000000</td>\n",
       "      <td>30.000000</td>\n",
       "      <td>76.000000</td>\n",
       "      <td>74.000000</td>\n",
       "      <td>2794.000000</td>\n",
       "      <td>716.000000</td>\n",
       "      <td>1416.000000</td>\n",
       "      <td>0.469000</td>\n",
       "      <td>108.000000</td>\n",
       "      <td>301.000000</td>\n",
       "      <td>...</td>\n",
       "      <td>80.000000</td>\n",
       "      <td>367.000000</td>\n",
       "      <td>457.000000</td>\n",
       "      <td>399.00000</td>\n",
       "      <td>112.000000</td>\n",
       "      <td>40.000000</td>\n",
       "      <td>223.000000</td>\n",
       "      <td>149.000000</td>\n",
       "      <td>1938.000000</td>\n",
       "      <td>2009.000000</td>\n",
       "    </tr>\n",
       "    <tr>\n",
       "      <th>75%</th>\n",
       "      <td>13137.000000</td>\n",
       "      <td>34.000000</td>\n",
       "      <td>80.000000</td>\n",
       "      <td>79.000000</td>\n",
       "      <td>3063.000000</td>\n",
       "      <td>789.000000</td>\n",
       "      <td>1639.000000</td>\n",
       "      <td>0.503000</td>\n",
       "      <td>127.000000</td>\n",
       "      <td>377.000000</td>\n",
       "      <td>...</td>\n",
       "      <td>103.000000</td>\n",
       "      <td>454.000000</td>\n",
       "      <td>533.000000</td>\n",
       "      <td>511.00000</td>\n",
       "      <td>125.000000</td>\n",
       "      <td>53.000000</td>\n",
       "      <td>260.000000</td>\n",
       "      <td>180.000000</td>\n",
       "      <td>2250.000000</td>\n",
       "      <td>2015.000000</td>\n",
       "    </tr>\n",
       "    <tr>\n",
       "      <th>max</th>\n",
       "      <td>18731.000000</td>\n",
       "      <td>40.000000</td>\n",
       "      <td>82.000000</td>\n",
       "      <td>82.000000</td>\n",
       "      <td>3401.000000</td>\n",
       "      <td>992.000000</td>\n",
       "      <td>2173.000000</td>\n",
       "      <td>0.567000</td>\n",
       "      <td>180.000000</td>\n",
       "      <td>518.000000</td>\n",
       "      <td>...</td>\n",
       "      <td>148.000000</td>\n",
       "      <td>612.000000</td>\n",
       "      <td>709.000000</td>\n",
       "      <td>747.00000</td>\n",
       "      <td>221.000000</td>\n",
       "      <td>93.000000</td>\n",
       "      <td>347.000000</td>\n",
       "      <td>233.000000</td>\n",
       "      <td>2832.000000</td>\n",
       "      <td>2025.000000</td>\n",
       "    </tr>\n",
       "  </tbody>\n",
       "</table>\n",
       "<p>8 rows × 28 columns</p>\n",
       "</div>"
      ],
      "text/plain": [
       "                 id        age      games  gamesStarted    minutesPg  \\\n",
       "count     49.000000  49.000000  49.000000     49.000000    49.000000   \n",
       "mean    9832.224490  29.285714  68.755102     65.244898  2553.632653   \n",
       "std     4731.928973   6.177918  16.517075     20.903081   727.485129   \n",
       "min      307.000000  18.000000   6.000000      1.000000   177.000000   \n",
       "25%     6340.000000  24.000000  65.000000     58.000000  2093.000000   \n",
       "50%     9838.000000  30.000000  76.000000     74.000000  2794.000000   \n",
       "75%    13137.000000  34.000000  80.000000     79.000000  3063.000000   \n",
       "max    18731.000000  40.000000  82.000000     82.000000  3401.000000   \n",
       "\n",
       "       fieldGoals  fieldAttempts  fieldPercent     threeFg  threeAttempts  \\\n",
       "count   49.000000      49.000000     49.000000   49.000000      49.000000   \n",
       "mean   655.285714    1372.938776      0.474061   96.306122     281.551020   \n",
       "std    212.187417     426.677591      0.045450   43.438752     120.132056   \n",
       "min     31.000000      73.000000      0.358000    3.000000      16.000000   \n",
       "25%    558.000000    1183.000000      0.450000   63.000000     217.000000   \n",
       "50%    716.000000    1416.000000      0.469000  108.000000     301.000000   \n",
       "75%    789.000000    1639.000000      0.503000  127.000000     377.000000   \n",
       "max    992.000000    2173.000000      0.567000  180.000000     518.000000   \n",
       "\n",
       "       ...  offensiveRb  defensiveRb     totalRb    assists      steals  \\\n",
       "count  ...    49.000000    49.000000   49.000000   49.00000   49.000000   \n",
       "mean   ...    80.408163   359.959184  440.367347  405.55102  105.734694   \n",
       "std    ...    30.832152   122.003921  140.653637  154.00082   41.805490   \n",
       "min    ...     2.000000    24.000000   26.000000   38.00000    7.000000   \n",
       "25%    ...    63.000000   308.000000  391.000000  330.00000   74.000000   \n",
       "50%    ...    80.000000   367.000000  457.000000  399.00000  112.000000   \n",
       "75%    ...   103.000000   454.000000  533.000000  511.00000  125.000000   \n",
       "max    ...   148.000000   612.000000  709.000000  747.00000  221.000000   \n",
       "\n",
       "          blocks   turnovers  personalFouls       points       season  \n",
       "count  49.000000   49.000000      49.000000    49.000000    49.000000  \n",
       "mean   41.734694  214.897959     145.530612  1807.673469  2008.836735  \n",
       "std    19.915211   62.443056      51.153406   584.841517     8.304986  \n",
       "min     1.000000   34.000000       9.000000    83.000000  1993.000000  \n",
       "25%    26.000000  178.000000     115.000000  1557.000000  2003.000000  \n",
       "50%    40.000000  223.000000     149.000000  1938.000000  2009.000000  \n",
       "75%    53.000000  260.000000     180.000000  2250.000000  2015.000000  \n",
       "max    93.000000  347.000000     233.000000  2832.000000  2025.000000  \n",
       "\n",
       "[8 rows x 28 columns]"
      ]
     },
     "execution_count": 10,
     "metadata": {},
     "output_type": "execute_result"
    }
   ],
   "source": [
    "dfregular.describe()\n",
    "#Ok. Max games is 82 which is the maximum in a regular season."
   ]
  },
  {
   "cell_type": "code",
   "execution_count": 11,
   "metadata": {},
   "outputs": [
    {
     "data": {
      "text/plain": [
       "Index(['id', 'playerName', 'position', 'age', 'games', 'gamesStarted',\n",
       "       'minutesPg', 'fieldGoals', 'fieldAttempts', 'fieldPercent', 'threeFg',\n",
       "       'threeAttempts', 'threePercent', 'twoFg', 'twoAttempts', 'twoPercent',\n",
       "       'effectFgPercent', 'ft', 'ftAttempts', 'ftPercent', 'offensiveRb',\n",
       "       'defensiveRb', 'totalRb', 'assists', 'steals', 'blocks', 'turnovers',\n",
       "       'personalFouls', 'points', 'team', 'season', 'playerId'],\n",
       "      dtype='object')"
      ]
     },
     "execution_count": 11,
     "metadata": {},
     "output_type": "execute_result"
    }
   ],
   "source": [
    "dfregular.columns"
   ]
  },
  {
   "cell_type": "code",
   "execution_count": 12,
   "metadata": {},
   "outputs": [],
   "source": [
    "dfregular. drop(['id','gamesStarted', 'minutesPg', 'effectFgPercent', 'offensiveRb','defensiveRb'],axis=1,inplace=True)"
   ]
  },
  {
   "cell_type": "code",
   "execution_count": 13,
   "metadata": {},
   "outputs": [],
   "source": [
    "#Data does not include the points, but we can easily calculate them:\n",
    "dfregular[\"fieldpts\"]=dfregular['fieldAttempts']*dfregular[\"fieldPercent\"]\n",
    "dfregular[\"threepts\"]=dfregular['threeAttempts']*dfregular[\"threePercent\"]\n",
    "dfregular[\"twopts\"]=dfregular['twoAttempts']*dfregular[\"twoPercent\"]\n",
    "dfregular[\"ftpts\"]=dfregular['ftAttempts']*dfregular[\"ftPercent\"]\n"
   ]
  },
  {
   "cell_type": "markdown",
   "metadata": {},
   "source": [
    "##### Checking all seasons are in the dataset:"
   ]
  },
  {
   "cell_type": "markdown",
   "metadata": {},
   "source": [
    "<p>A quick check in the internet provides us the seasons each of these players have played:</p>\n",
    "<ul> <li>Lebron James: 22 seasons</li>\n",
    "<li>Kobe Bryant: 20 seasons</li>\n",
    "<li>Michael Jordan: 15 seasons</li>\n",
    "</ul>"
   ]
  },
  {
   "cell_type": "code",
   "execution_count": 14,
   "metadata": {},
   "outputs": [
    {
     "data": {
      "text/plain": [
       "22"
      ]
     },
     "execution_count": 14,
     "metadata": {},
     "output_type": "execute_result"
    }
   ],
   "source": [
    "lebron_check= dfregular[dfregular['playerName']=='LeBron James']\n",
    "lebron_check[\"season\"].value_counts().sum()\n",
    "#Ok"
   ]
  },
  {
   "cell_type": "code",
   "execution_count": 15,
   "metadata": {},
   "outputs": [
    {
     "data": {
      "text/plain": [
       "20"
      ]
     },
     "execution_count": 15,
     "metadata": {},
     "output_type": "execute_result"
    }
   ],
   "source": [
    "kobe_check= dfregular[dfregular['playerName']==\"Kobe Bryant*\"]\n",
    "kobe_check[\"season\"].value_counts().sum()\n",
    "#Ok"
   ]
  },
  {
   "cell_type": "code",
   "execution_count": 16,
   "metadata": {},
   "outputs": [
    {
     "data": {
      "text/plain": [
       "7"
      ]
     },
     "execution_count": 16,
     "metadata": {},
     "output_type": "execute_result"
    }
   ],
   "source": [
    "jordan_check= dfregular[dfregular['playerName']==\"Michael Jordan*\"]\n",
    "jordan_check[\"season\"].value_counts().sum()\n",
    "#WRONG! DATA IS MISSING!\n",
    "#missing seasons 85-92\n",
    "#Season 94 is not missing, he played baseball instead"
   ]
  },
  {
   "cell_type": "markdown",
   "metadata": {},
   "source": [
    "## Scrapped data from ESPN (Regular Season: Michael Jordan)"
   ]
  },
  {
   "cell_type": "code",
   "execution_count": 17,
   "metadata": {},
   "outputs": [],
   "source": [
    "#I scrapped the missing data from ESPN, see \"SCrapping folder (Selenium) to see the process\"\n",
    "scrapped_regular_jordan=pd.read_csv(r\"C:\\Users\\Abraham\\Desktop\\Solo\\Bootcamp\\portfolio\\Scrapping\\Selenium\\jordan_regular\")\n",
    "scrapped_regular_jordan.drop([\"Unnamed: 0\"],axis=1,inplace=True)\n",
    "scrapped_regular_jordan=scrapped_regular_jordan.iloc[:8]"
   ]
  },
  {
   "cell_type": "code",
   "execution_count": 18,
   "metadata": {},
   "outputs": [],
   "source": [
    "scrapped_regular_jordan['playerName']=\"Michael Jordan*\"\n",
    "scrapped_regular_jordan['position']=\"SG\"\n"
   ]
  },
  {
   "cell_type": "code",
   "execution_count": 19,
   "metadata": {},
   "outputs": [],
   "source": [
    "scrapped_regular_jordan.rename(columns={\n",
    "    'SEASON': 'season',\n",
    "    'TEAM': 'team',\n",
    "    'REB': 'totalRb',\n",
    "    'AST': 'assists',\n",
    "    'STL': 'steals',\n",
    "    'BLK': 'blocks',\n",
    "    '3P%': 'threePercent',\n",
    "    'PF': 'personalFouls',\n",
    "    'TO': 'turnovers',\n",
    "    'PTS': 'points',\n",
    "    'FG': 'fieldGoalsattempts&points',\n",
    "    'FG%': 'fieldPercent',\n",
    "    'FT': 'ftAttempts&points',  \n",
    "    'FT%': 'ftPercent',\n",
    "    '3PT': 'threeattempts&pts'\n",
    "    \n",
    "}, inplace=True)\n",
    "\n"
   ]
  },
  {
   "cell_type": "code",
   "execution_count": 20,
   "metadata": {},
   "outputs": [],
   "source": [
    "scrapped_regular_jordan[['threepts','threeAttempts']] = scrapped_regular_jordan['threeattempts&pts'].str.split('-', expand=True)\n",
    "scrapped_regular_jordan[['fieldpts','fieldGoals']]=scrapped_regular_jordan['fieldGoalsattempts&points'].str.split(\"-\",expand=True)\n",
    "scrapped_regular_jordan[['ftpts','ftAttempts']]=scrapped_regular_jordan['ftAttempts&points'].str.split(\"-\",expand=True)\n"
   ]
  },
  {
   "cell_type": "code",
   "execution_count": 21,
   "metadata": {},
   "outputs": [],
   "source": [
    "scrapped_regular_jordan[['threeAttempts', 'threepts', \n",
    "                         'fieldGoals', 'fieldpts', 'ftAttempts', 'ftpts']] = \\\n",
    "scrapped_regular_jordan[['threeAttempts', 'threepts', \n",
    "                         'fieldGoals', 'fieldpts', 'ftAttempts', 'ftpts']].astype(int)\n",
    "\n"
   ]
  },
  {
   "cell_type": "code",
   "execution_count": 22,
   "metadata": {},
   "outputs": [
    {
     "data": {
      "text/html": [
       "<div>\n",
       "<style scoped>\n",
       "    .dataframe tbody tr th:only-of-type {\n",
       "        vertical-align: middle;\n",
       "    }\n",
       "\n",
       "    .dataframe tbody tr th {\n",
       "        vertical-align: top;\n",
       "    }\n",
       "\n",
       "    .dataframe thead th {\n",
       "        text-align: right;\n",
       "    }\n",
       "</style>\n",
       "<table border=\"1\" class=\"dataframe\">\n",
       "  <thead>\n",
       "    <tr style=\"text-align: right;\">\n",
       "      <th></th>\n",
       "      <th>season</th>\n",
       "      <th>team</th>\n",
       "      <th>fieldGoalsattempts&amp;points</th>\n",
       "      <th>fieldPercent</th>\n",
       "      <th>threeattempts&amp;pts</th>\n",
       "      <th>threePercent</th>\n",
       "      <th>ftAttempts&amp;points</th>\n",
       "      <th>ftPercent</th>\n",
       "      <th>OR</th>\n",
       "      <th>DR</th>\n",
       "      <th>...</th>\n",
       "      <th>turnovers</th>\n",
       "      <th>points</th>\n",
       "      <th>playerName</th>\n",
       "      <th>position</th>\n",
       "      <th>threepts</th>\n",
       "      <th>threeAttempts</th>\n",
       "      <th>fieldpts</th>\n",
       "      <th>fieldGoals</th>\n",
       "      <th>ftpts</th>\n",
       "      <th>ftAttempts</th>\n",
       "    </tr>\n",
       "  </thead>\n",
       "  <tbody>\n",
       "    <tr>\n",
       "      <th>0</th>\n",
       "      <td>1985</td>\n",
       "      <td>CHI</td>\n",
       "      <td>837-1625</td>\n",
       "      <td>51.5</td>\n",
       "      <td>9-52</td>\n",
       "      <td>17.3</td>\n",
       "      <td>630-746</td>\n",
       "      <td>84.4</td>\n",
       "      <td>167</td>\n",
       "      <td>367</td>\n",
       "      <td>...</td>\n",
       "      <td>291</td>\n",
       "      <td>2313</td>\n",
       "      <td>Michael Jordan*</td>\n",
       "      <td>SG</td>\n",
       "      <td>9</td>\n",
       "      <td>52</td>\n",
       "      <td>837</td>\n",
       "      <td>1625</td>\n",
       "      <td>630</td>\n",
       "      <td>746</td>\n",
       "    </tr>\n",
       "    <tr>\n",
       "      <th>1</th>\n",
       "      <td>1986</td>\n",
       "      <td>CHI</td>\n",
       "      <td>150-328</td>\n",
       "      <td>45.7</td>\n",
       "      <td>3-18</td>\n",
       "      <td>16.7</td>\n",
       "      <td>105-125</td>\n",
       "      <td>84.0</td>\n",
       "      <td>23</td>\n",
       "      <td>41</td>\n",
       "      <td>...</td>\n",
       "      <td>45</td>\n",
       "      <td>408</td>\n",
       "      <td>Michael Jordan*</td>\n",
       "      <td>SG</td>\n",
       "      <td>3</td>\n",
       "      <td>18</td>\n",
       "      <td>150</td>\n",
       "      <td>328</td>\n",
       "      <td>105</td>\n",
       "      <td>125</td>\n",
       "    </tr>\n",
       "    <tr>\n",
       "      <th>2</th>\n",
       "      <td>1987</td>\n",
       "      <td>CHI</td>\n",
       "      <td>1098-2279</td>\n",
       "      <td>48.2</td>\n",
       "      <td>12-66</td>\n",
       "      <td>18.2</td>\n",
       "      <td>833-972</td>\n",
       "      <td>85.7</td>\n",
       "      <td>166</td>\n",
       "      <td>264</td>\n",
       "      <td>...</td>\n",
       "      <td>272</td>\n",
       "      <td>3041</td>\n",
       "      <td>Michael Jordan*</td>\n",
       "      <td>SG</td>\n",
       "      <td>12</td>\n",
       "      <td>66</td>\n",
       "      <td>1098</td>\n",
       "      <td>2279</td>\n",
       "      <td>833</td>\n",
       "      <td>972</td>\n",
       "    </tr>\n",
       "    <tr>\n",
       "      <th>3</th>\n",
       "      <td>1988</td>\n",
       "      <td>CHI</td>\n",
       "      <td>1069-1998</td>\n",
       "      <td>53.5</td>\n",
       "      <td>7-53</td>\n",
       "      <td>13.2</td>\n",
       "      <td>723-860</td>\n",
       "      <td>84.1</td>\n",
       "      <td>139</td>\n",
       "      <td>310</td>\n",
       "      <td>...</td>\n",
       "      <td>252</td>\n",
       "      <td>2868</td>\n",
       "      <td>Michael Jordan*</td>\n",
       "      <td>SG</td>\n",
       "      <td>7</td>\n",
       "      <td>53</td>\n",
       "      <td>1069</td>\n",
       "      <td>1998</td>\n",
       "      <td>723</td>\n",
       "      <td>860</td>\n",
       "    </tr>\n",
       "    <tr>\n",
       "      <th>4</th>\n",
       "      <td>1989</td>\n",
       "      <td>CHI</td>\n",
       "      <td>966-1795</td>\n",
       "      <td>53.8</td>\n",
       "      <td>27-98</td>\n",
       "      <td>27.6</td>\n",
       "      <td>674-793</td>\n",
       "      <td>85.0</td>\n",
       "      <td>149</td>\n",
       "      <td>503</td>\n",
       "      <td>...</td>\n",
       "      <td>290</td>\n",
       "      <td>2633</td>\n",
       "      <td>Michael Jordan*</td>\n",
       "      <td>SG</td>\n",
       "      <td>27</td>\n",
       "      <td>98</td>\n",
       "      <td>966</td>\n",
       "      <td>1795</td>\n",
       "      <td>674</td>\n",
       "      <td>793</td>\n",
       "    </tr>\n",
       "    <tr>\n",
       "      <th>5</th>\n",
       "      <td>1990</td>\n",
       "      <td>CHI</td>\n",
       "      <td>1034-1964</td>\n",
       "      <td>52.6</td>\n",
       "      <td>92-245</td>\n",
       "      <td>37.6</td>\n",
       "      <td>593-699</td>\n",
       "      <td>84.8</td>\n",
       "      <td>143</td>\n",
       "      <td>422</td>\n",
       "      <td>...</td>\n",
       "      <td>247</td>\n",
       "      <td>2753</td>\n",
       "      <td>Michael Jordan*</td>\n",
       "      <td>SG</td>\n",
       "      <td>92</td>\n",
       "      <td>245</td>\n",
       "      <td>1034</td>\n",
       "      <td>1964</td>\n",
       "      <td>593</td>\n",
       "      <td>699</td>\n",
       "    </tr>\n",
       "    <tr>\n",
       "      <th>6</th>\n",
       "      <td>1991</td>\n",
       "      <td>CHI</td>\n",
       "      <td>990-1837</td>\n",
       "      <td>53.9</td>\n",
       "      <td>29-93</td>\n",
       "      <td>31.2</td>\n",
       "      <td>571-671</td>\n",
       "      <td>85.1</td>\n",
       "      <td>118</td>\n",
       "      <td>374</td>\n",
       "      <td>...</td>\n",
       "      <td>202</td>\n",
       "      <td>2580</td>\n",
       "      <td>Michael Jordan*</td>\n",
       "      <td>SG</td>\n",
       "      <td>29</td>\n",
       "      <td>93</td>\n",
       "      <td>990</td>\n",
       "      <td>1837</td>\n",
       "      <td>571</td>\n",
       "      <td>671</td>\n",
       "    </tr>\n",
       "    <tr>\n",
       "      <th>7</th>\n",
       "      <td>1992</td>\n",
       "      <td>CHI</td>\n",
       "      <td>943-1818</td>\n",
       "      <td>51.9</td>\n",
       "      <td>27-100</td>\n",
       "      <td>27.0</td>\n",
       "      <td>491-590</td>\n",
       "      <td>83.2</td>\n",
       "      <td>91</td>\n",
       "      <td>420</td>\n",
       "      <td>...</td>\n",
       "      <td>200</td>\n",
       "      <td>2404</td>\n",
       "      <td>Michael Jordan*</td>\n",
       "      <td>SG</td>\n",
       "      <td>27</td>\n",
       "      <td>100</td>\n",
       "      <td>943</td>\n",
       "      <td>1818</td>\n",
       "      <td>491</td>\n",
       "      <td>590</td>\n",
       "    </tr>\n",
       "  </tbody>\n",
       "</table>\n",
       "<p>8 rows × 25 columns</p>\n",
       "</div>"
      ],
      "text/plain": [
       "  season team fieldGoalsattempts&points  fieldPercent threeattempts&pts  \\\n",
       "0   1985  CHI                  837-1625          51.5              9-52   \n",
       "1   1986  CHI                   150-328          45.7              3-18   \n",
       "2   1987  CHI                 1098-2279          48.2             12-66   \n",
       "3   1988  CHI                 1069-1998          53.5              7-53   \n",
       "4   1989  CHI                  966-1795          53.8             27-98   \n",
       "5   1990  CHI                 1034-1964          52.6            92-245   \n",
       "6   1991  CHI                  990-1837          53.9             29-93   \n",
       "7   1992  CHI                  943-1818          51.9            27-100   \n",
       "\n",
       "   threePercent ftAttempts&points  ftPercent   OR   DR  ...  turnovers  \\\n",
       "0          17.3           630-746       84.4  167  367  ...        291   \n",
       "1          16.7           105-125       84.0   23   41  ...         45   \n",
       "2          18.2           833-972       85.7  166  264  ...        272   \n",
       "3          13.2           723-860       84.1  139  310  ...        252   \n",
       "4          27.6           674-793       85.0  149  503  ...        290   \n",
       "5          37.6           593-699       84.8  143  422  ...        247   \n",
       "6          31.2           571-671       85.1  118  374  ...        202   \n",
       "7          27.0           491-590       83.2   91  420  ...        200   \n",
       "\n",
       "   points       playerName  position  threepts  threeAttempts  fieldpts  \\\n",
       "0    2313  Michael Jordan*        SG         9             52       837   \n",
       "1     408  Michael Jordan*        SG         3             18       150   \n",
       "2    3041  Michael Jordan*        SG        12             66      1098   \n",
       "3    2868  Michael Jordan*        SG         7             53      1069   \n",
       "4    2633  Michael Jordan*        SG        27             98       966   \n",
       "5    2753  Michael Jordan*        SG        92            245      1034   \n",
       "6    2580  Michael Jordan*        SG        29             93       990   \n",
       "7    2404  Michael Jordan*        SG        27            100       943   \n",
       "\n",
       "  fieldGoals ftpts  ftAttempts  \n",
       "0       1625   630         746  \n",
       "1        328   105         125  \n",
       "2       2279   833         972  \n",
       "3       1998   723         860  \n",
       "4       1795   674         793  \n",
       "5       1964   593         699  \n",
       "6       1837   571         671  \n",
       "7       1818   491         590  \n",
       "\n",
       "[8 rows x 25 columns]"
      ]
     },
     "execution_count": 22,
     "metadata": {},
     "output_type": "execute_result"
    }
   ],
   "source": [
    "scrapped_regular_jordan"
   ]
  },
  {
   "cell_type": "code",
   "execution_count": 23,
   "metadata": {},
   "outputs": [],
   "source": [
    "scrapped_regular_jordan['twopts']=scrapped_regular_jordan['fieldpts']-scrapped_regular_jordan['threepts']\n",
    "scrapped_regular_jordan['twoAttempts']=scrapped_regular_jordan['fieldGoals']-scrapped_regular_jordan['threeAttempts']"
   ]
  },
  {
   "cell_type": "code",
   "execution_count": 24,
   "metadata": {},
   "outputs": [],
   "source": [
    "scrapped_regular_jordan.drop([\"fieldGoalsattempts&points\",\"threeattempts&pts\",\"ftAttempts&points\",\"OR\",\"DR\"],axis=1,inplace=True)"
   ]
  },
  {
   "cell_type": "code",
   "execution_count": 25,
   "metadata": {},
   "outputs": [],
   "source": [
    "dfregular.drop(['fieldAttempts', 'threeFg', 'twoFg', 'ft', 'playerId',\"twoPercent\"],axis=1,inplace=True)"
   ]
  },
  {
   "cell_type": "code",
   "execution_count": 26,
   "metadata": {},
   "outputs": [
    {
     "data": {
      "text/plain": [
       "Index(['season', 'team', 'fieldPercent', 'threePercent', 'ftPercent',\n",
       "       'totalRb', 'assists', 'blocks', 'steals', 'personalFouls', 'turnovers',\n",
       "       'points', 'playerName', 'position', 'threepts', 'threeAttempts',\n",
       "       'fieldpts', 'fieldGoals', 'ftpts', 'ftAttempts', 'twopts',\n",
       "       'twoAttempts'],\n",
       "      dtype='object')"
      ]
     },
     "execution_count": 26,
     "metadata": {},
     "output_type": "execute_result"
    }
   ],
   "source": [
    "scrapped_regular_jordan.columns"
   ]
  },
  {
   "cell_type": "code",
   "execution_count": 27,
   "metadata": {},
   "outputs": [],
   "source": [
    "scrapped_regular_jordan[\"season\"]=scrapped_regular_jordan[\"season\"].astype(int)"
   ]
  },
  {
   "cell_type": "code",
   "execution_count": 28,
   "metadata": {},
   "outputs": [],
   "source": [
    "#Jordan's age is missing in ESPN's data, we know Jordan was born in 1964, so I calculated it:\n",
    "def Age(i):\n",
    "    \n",
    "    return i -1964\n",
    "\n",
    "\n",
    "scrapped_regular_jordan[\"age\"]=scrapped_regular_jordan[\"season\"].apply(Age)\n"
   ]
  },
  {
   "cell_type": "code",
   "execution_count": 29,
   "metadata": {},
   "outputs": [],
   "source": [
    "#Games per season is missing, I found them in another website, let's add this:\n",
    "games=pd.read_csv(r\"C:\\Users\\Abraham\\Desktop\\Solo\\Bootcamp\\portfolio\\APIs\\API_sports\\datamichaeljordan8592.csv\",sep=\";\")\n",
    "\n",
    "scrapped_regular_jordan=scrapped_regular_jordan.merge(games,on=\"season\",how=\"left\")\n",
    "\n"
   ]
  },
  {
   "cell_type": "code",
   "execution_count": 30,
   "metadata": {},
   "outputs": [
    {
     "name": "stdout",
     "output_type": "stream",
     "text": [
      "<class 'pandas.core.frame.DataFrame'>\n",
      "RangeIndex: 57 entries, 0 to 56\n",
      "Data columns (total 24 columns):\n",
      " #   Column         Non-Null Count  Dtype  \n",
      "---  ------         --------------  -----  \n",
      " 0   playerName     57 non-null     object \n",
      " 1   position       57 non-null     object \n",
      " 2   age            57 non-null     int64  \n",
      " 3   games          57 non-null     int64  \n",
      " 4   fieldGoals     57 non-null     int64  \n",
      " 5   fieldPercent   57 non-null     float64\n",
      " 6   threeAttempts  57 non-null     int64  \n",
      " 7   threePercent   57 non-null     float64\n",
      " 8   twoAttempts    57 non-null     int64  \n",
      " 9   ftAttempts     57 non-null     int64  \n",
      " 10  ftPercent      57 non-null     float64\n",
      " 11  totalRb        57 non-null     int64  \n",
      " 12  assists        57 non-null     int64  \n",
      " 13  steals         57 non-null     int64  \n",
      " 14  blocks         57 non-null     int64  \n",
      " 15  turnovers      57 non-null     int64  \n",
      " 16  personalFouls  57 non-null     int64  \n",
      " 17  points         57 non-null     int64  \n",
      " 18  team           57 non-null     object \n",
      " 19  season         57 non-null     int64  \n",
      " 20  fieldpts       57 non-null     float64\n",
      " 21  threepts       57 non-null     float64\n",
      " 22  twopts         57 non-null     float64\n",
      " 23  ftpts          57 non-null     float64\n",
      "dtypes: float64(7), int64(14), object(3)\n",
      "memory usage: 10.8+ KB\n"
     ]
    }
   ],
   "source": [
    "dfregulartotals = pd.concat([dfregular, scrapped_regular_jordan], ignore_index=True)\n",
    "dfregulartotals.info()"
   ]
  },
  {
   "cell_type": "code",
   "execution_count": 31,
   "metadata": {},
   "outputs": [],
   "source": [
    "dfregulartotals[\"playerName\"] = dfregulartotals[\"playerName\"].replace(\"Kobe Bryant*\", \"Kobe Bryant\")\n",
    "dfregulartotals[\"playerName\"]= dfregulartotals[\"playerName\"].replace(\"Michael Jordan*\",\"Michael Jordan\")\n"
   ]
  },
  {
   "cell_type": "code",
   "execution_count": 32,
   "metadata": {},
   "outputs": [],
   "source": [
    "#Data is complete and ready to use\n",
    "dfregulartotals.to_csv(\"Nba regular season data\")"
   ]
  },
  {
   "cell_type": "markdown",
   "metadata": {},
   "source": [
    "### Per game stats"
   ]
  },
  {
   "cell_type": "code",
   "execution_count": 33,
   "metadata": {},
   "outputs": [],
   "source": [
    "dfregular_pergame= dfregulartotals.copy()"
   ]
  },
  {
   "cell_type": "code",
   "execution_count": 37,
   "metadata": {},
   "outputs": [
    {
     "data": {
      "text/plain": [
       "Index(['playerName', 'position', 'age', 'games', 'fieldGoals', 'fieldPercent',\n",
       "       'threeAttempts', 'threePercent', 'twoAttempts', 'ftAttempts',\n",
       "       'ftPercent', 'totalRb', 'assists', 'steals', 'blocks', 'turnovers',\n",
       "       'personalFouls', 'points', 'team', 'season', 'fieldpts', 'threepts',\n",
       "       'twopts', 'ftpts', 'pts per game'],\n",
       "      dtype='object')"
      ]
     },
     "execution_count": 37,
     "metadata": {},
     "output_type": "execute_result"
    }
   ],
   "source": [
    "dfregular_pergame.columns"
   ]
  },
  {
   "cell_type": "code",
   "execution_count": 38,
   "metadata": {},
   "outputs": [],
   "source": [
    "dfregular_pergame[\"pts per game\"]=dfregular_pergame['points']/fregular_pergame['games']\n",
    "dfregular_pergame[\"totalRb per game\"]=dfregular_pergame[\"totalRb\"].div(dfregular_pergame['games'].replace(0, 1), axis=0)\n",
    "dfregular_pergame[\"assists per game\"]=dfregular_pergame[\"assists\"].div(dfregular_pergame['games'].replace(0, 1), axis=0)\n",
    "dfregular_pergame[\"steals per game\"]=dfregular_pergame[\"steals\"].div(dfregular_pergame['games'].replace(0, 1), axis=0)\n",
    "dfregular_pergame[\"blocks per game\"]=dfregular_pergame[\"blocks\"].div(dfregular_pergame['games'].replace(0, 1), axis=0)"
   ]
  },
  {
   "cell_type": "code",
   "execution_count": 39,
   "metadata": {},
   "outputs": [],
   "source": [
    "dfregular_pergame.to_csv(\"nba regular per game\",sep=\";\",decimal=\",\",index=False)"
   ]
  }
 ],
 "metadata": {
  "kernelspec": {
   "display_name": "Python 3",
   "language": "python",
   "name": "python3"
  },
  "language_info": {
   "codemirror_mode": {
    "name": "ipython",
    "version": 3
   },
   "file_extension": ".py",
   "mimetype": "text/x-python",
   "name": "python",
   "nbconvert_exporter": "python",
   "pygments_lexer": "ipython3",
   "version": "3.7.4"
  }
 },
 "nbformat": 4,
 "nbformat_minor": 2
}
