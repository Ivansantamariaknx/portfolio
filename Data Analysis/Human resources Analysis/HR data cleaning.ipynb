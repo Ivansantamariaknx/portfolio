{
 "cells": [
  {
   "cell_type": "code",
   "execution_count": 152,
   "metadata": {},
   "outputs": [],
   "source": [
    "import pandas as pd\n",
    "import numpy as np\n",
    "import seaborn as sns\n",
    "import matplotlib.pyplot as plt"
   ]
  },
  {
   "cell_type": "code",
   "execution_count": 153,
   "metadata": {},
   "outputs": [],
   "source": [
    "hr_raw=pd.read_csv(r\"C:\\Users\\Abraham\\Desktop\\Solo\\Bootcamp\\portfolio\\Human resources Analysis\\Raw\\HR_Analytics.csv\")"
   ]
  },
  {
   "cell_type": "markdown",
   "metadata": {},
   "source": [
    "# Purpose of the analysis:"
   ]
  },
  {
   "cell_type": "markdown",
   "metadata": {},
   "source": [
    "##### In this Power BI Dashboard, we used data from HR analytics to help an organization improve employee performance and retention (reduce attrition) by creating an HR Analytics Dashboard."
   ]
  },
  {
   "cell_type": "code",
   "execution_count": 154,
   "metadata": {},
   "outputs": [
    {
     "data": {
      "text/plain": [
       "\"Variable\\tDescription\\nsatisfaction_level\\tEmployee-reported job satisfaction level [0–1]\\t\\nlast_evaluation\\tScore of employee's last performance review [0–1]\\t\\nnumber_project\\tNumber of projects employee contributes to\\t\\naverage_monthly_hours\\tAverage number of hours employee worked per month\\t\\ntime_spend_company\\tHow long the employee has been with the company (years)\\nWork_accident\\tWhether or not the employee experienced an accident while at work\\nleft\\tWhether or not the employee left the company\\npromotion_last_5years\\tWhether or not the employee was promoted in the last 5 years\\nDepartment\\tThe employee's department\\nsalary\\tThe employee's salary (U.S. dollars)\""
      ]
     },
     "execution_count": 154,
     "metadata": {},
     "output_type": "execute_result"
    }
   ],
   "source": [
    "\"\"\"Variable\tDescription\n",
    "satisfaction_level\tEmployee-reported job satisfaction level [0–1]\t\n",
    "last_evaluation\tScore of employee's last performance review [0–1]\t\n",
    "number_project\tNumber of projects employee contributes to\t\n",
    "average_monthly_hours\tAverage number of hours employee worked per month\t\n",
    "time_spend_company\tHow long the employee has been with the company (years)\n",
    "Work_accident\tWhether or not the employee experienced an accident while at work\n",
    "left\tWhether or not the employee left the company\n",
    "promotion_last_5years\tWhether or not the employee was promoted in the last 5 years\n",
    "Department\tThe employee's department\n",
    "salary\tThe employee's salary (U.S. dollars)\"\"\""
   ]
  },
  {
   "cell_type": "markdown",
   "metadata": {},
   "source": [
    "#####  They have the following question: what’s likely to make the employee leave the company?"
   ]
  },
  {
   "cell_type": "markdown",
   "metadata": {},
   "source": [
    "#####  Your goals in this project are to analyze the data collected by the HR department and to build a model that predicts whether or not an employee will leave the company.\n",
    "\n",
    "#####  If you can predict employees likely to quit, it might be possible to identify factors that contribute to their leaving. Because it is time-consuming and expensive to find, interview, and hire new employees, increasing employee retention will be beneficial to the company."
   ]
  },
  {
   "cell_type": "markdown",
   "metadata": {},
   "source": [
    "## Data basic check"
   ]
  },
  {
   "cell_type": "code",
   "execution_count": 155,
   "metadata": {},
   "outputs": [
    {
     "data": {
      "text/html": [
       "<div>\n",
       "<style scoped>\n",
       "    .dataframe tbody tr th:only-of-type {\n",
       "        vertical-align: middle;\n",
       "    }\n",
       "\n",
       "    .dataframe tbody tr th {\n",
       "        vertical-align: top;\n",
       "    }\n",
       "\n",
       "    .dataframe thead th {\n",
       "        text-align: right;\n",
       "    }\n",
       "</style>\n",
       "<table border=\"1\" class=\"dataframe\">\n",
       "  <thead>\n",
       "    <tr style=\"text-align: right;\">\n",
       "      <th></th>\n",
       "      <th>EmpID</th>\n",
       "      <th>Age</th>\n",
       "      <th>AgeGroup</th>\n",
       "      <th>Attrition</th>\n",
       "      <th>BusinessTravel</th>\n",
       "      <th>DailyRate</th>\n",
       "      <th>Department</th>\n",
       "      <th>DistanceFromHome</th>\n",
       "      <th>Education</th>\n",
       "      <th>EducationField</th>\n",
       "      <th>...</th>\n",
       "      <th>RelationshipSatisfaction</th>\n",
       "      <th>StandardHours</th>\n",
       "      <th>StockOptionLevel</th>\n",
       "      <th>TotalWorkingYears</th>\n",
       "      <th>TrainingTimesLastYear</th>\n",
       "      <th>WorkLifeBalance</th>\n",
       "      <th>YearsAtCompany</th>\n",
       "      <th>YearsInCurrentRole</th>\n",
       "      <th>YearsSinceLastPromotion</th>\n",
       "      <th>YearsWithCurrManager</th>\n",
       "    </tr>\n",
       "  </thead>\n",
       "  <tbody>\n",
       "    <tr>\n",
       "      <th>0</th>\n",
       "      <td>RM297</td>\n",
       "      <td>18</td>\n",
       "      <td>18-25</td>\n",
       "      <td>Yes</td>\n",
       "      <td>Travel_Rarely</td>\n",
       "      <td>230</td>\n",
       "      <td>Research &amp; Development</td>\n",
       "      <td>3</td>\n",
       "      <td>3</td>\n",
       "      <td>Life Sciences</td>\n",
       "      <td>...</td>\n",
       "      <td>3</td>\n",
       "      <td>80</td>\n",
       "      <td>0</td>\n",
       "      <td>0</td>\n",
       "      <td>2</td>\n",
       "      <td>3</td>\n",
       "      <td>0</td>\n",
       "      <td>0</td>\n",
       "      <td>0</td>\n",
       "      <td>0.0</td>\n",
       "    </tr>\n",
       "    <tr>\n",
       "      <th>1</th>\n",
       "      <td>RM302</td>\n",
       "      <td>18</td>\n",
       "      <td>18-25</td>\n",
       "      <td>No</td>\n",
       "      <td>Travel_Rarely</td>\n",
       "      <td>812</td>\n",
       "      <td>Sales</td>\n",
       "      <td>10</td>\n",
       "      <td>3</td>\n",
       "      <td>Medical</td>\n",
       "      <td>...</td>\n",
       "      <td>1</td>\n",
       "      <td>80</td>\n",
       "      <td>0</td>\n",
       "      <td>0</td>\n",
       "      <td>2</td>\n",
       "      <td>3</td>\n",
       "      <td>0</td>\n",
       "      <td>0</td>\n",
       "      <td>0</td>\n",
       "      <td>0.0</td>\n",
       "    </tr>\n",
       "    <tr>\n",
       "      <th>2</th>\n",
       "      <td>RM458</td>\n",
       "      <td>18</td>\n",
       "      <td>18-25</td>\n",
       "      <td>Yes</td>\n",
       "      <td>Travel_Frequently</td>\n",
       "      <td>1306</td>\n",
       "      <td>Sales</td>\n",
       "      <td>5</td>\n",
       "      <td>3</td>\n",
       "      <td>Marketing</td>\n",
       "      <td>...</td>\n",
       "      <td>4</td>\n",
       "      <td>80</td>\n",
       "      <td>0</td>\n",
       "      <td>0</td>\n",
       "      <td>3</td>\n",
       "      <td>3</td>\n",
       "      <td>0</td>\n",
       "      <td>0</td>\n",
       "      <td>0</td>\n",
       "      <td>0.0</td>\n",
       "    </tr>\n",
       "  </tbody>\n",
       "</table>\n",
       "<p>3 rows × 38 columns</p>\n",
       "</div>"
      ],
      "text/plain": [
       "   EmpID  Age AgeGroup Attrition     BusinessTravel  DailyRate  \\\n",
       "0  RM297   18    18-25       Yes      Travel_Rarely        230   \n",
       "1  RM302   18    18-25        No      Travel_Rarely        812   \n",
       "2  RM458   18    18-25       Yes  Travel_Frequently       1306   \n",
       "\n",
       "               Department  DistanceFromHome  Education EducationField  ...  \\\n",
       "0  Research & Development                 3          3  Life Sciences  ...   \n",
       "1                   Sales                10          3        Medical  ...   \n",
       "2                   Sales                 5          3      Marketing  ...   \n",
       "\n",
       "   RelationshipSatisfaction  StandardHours  StockOptionLevel  \\\n",
       "0                         3             80                 0   \n",
       "1                         1             80                 0   \n",
       "2                         4             80                 0   \n",
       "\n",
       "  TotalWorkingYears  TrainingTimesLastYear  WorkLifeBalance  YearsAtCompany  \\\n",
       "0                 0                      2                3               0   \n",
       "1                 0                      2                3               0   \n",
       "2                 0                      3                3               0   \n",
       "\n",
       "  YearsInCurrentRole  YearsSinceLastPromotion YearsWithCurrManager  \n",
       "0                  0                        0                  0.0  \n",
       "1                  0                        0                  0.0  \n",
       "2                  0                        0                  0.0  \n",
       "\n",
       "[3 rows x 38 columns]"
      ]
     },
     "execution_count": 155,
     "metadata": {},
     "output_type": "execute_result"
    }
   ],
   "source": [
    "hr_raw.head(3)"
   ]
  },
  {
   "cell_type": "code",
   "execution_count": 156,
   "metadata": {},
   "outputs": [
    {
     "name": "stdout",
     "output_type": "stream",
     "text": [
      "<class 'pandas.core.frame.DataFrame'>\n",
      "RangeIndex: 1480 entries, 0 to 1479\n",
      "Data columns (total 38 columns):\n",
      " #   Column                    Non-Null Count  Dtype  \n",
      "---  ------                    --------------  -----  \n",
      " 0   EmpID                     1480 non-null   object \n",
      " 1   Age                       1480 non-null   int64  \n",
      " 2   AgeGroup                  1480 non-null   object \n",
      " 3   Attrition                 1480 non-null   object \n",
      " 4   BusinessTravel            1480 non-null   object \n",
      " 5   DailyRate                 1480 non-null   int64  \n",
      " 6   Department                1480 non-null   object \n",
      " 7   DistanceFromHome          1480 non-null   int64  \n",
      " 8   Education                 1480 non-null   int64  \n",
      " 9   EducationField            1480 non-null   object \n",
      " 10  EmployeeCount             1480 non-null   int64  \n",
      " 11  EmployeeNumber            1480 non-null   int64  \n",
      " 12  EnvironmentSatisfaction   1480 non-null   int64  \n",
      " 13  Gender                    1480 non-null   object \n",
      " 14  HourlyRate                1480 non-null   int64  \n",
      " 15  JobInvolvement            1480 non-null   int64  \n",
      " 16  JobLevel                  1480 non-null   int64  \n",
      " 17  JobRole                   1480 non-null   object \n",
      " 18  JobSatisfaction           1480 non-null   int64  \n",
      " 19  MaritalStatus             1480 non-null   object \n",
      " 20  MonthlyIncome             1480 non-null   int64  \n",
      " 21  SalarySlab                1480 non-null   object \n",
      " 22  MonthlyRate               1480 non-null   int64  \n",
      " 23  NumCompaniesWorked        1480 non-null   int64  \n",
      " 24  Over18                    1480 non-null   object \n",
      " 25  OverTime                  1480 non-null   object \n",
      " 26  PercentSalaryHike         1480 non-null   int64  \n",
      " 27  PerformanceRating         1480 non-null   int64  \n",
      " 28  RelationshipSatisfaction  1480 non-null   int64  \n",
      " 29  StandardHours             1480 non-null   int64  \n",
      " 30  StockOptionLevel          1480 non-null   int64  \n",
      " 31  TotalWorkingYears         1480 non-null   int64  \n",
      " 32  TrainingTimesLastYear     1480 non-null   int64  \n",
      " 33  WorkLifeBalance           1480 non-null   int64  \n",
      " 34  YearsAtCompany            1480 non-null   int64  \n",
      " 35  YearsInCurrentRole        1480 non-null   int64  \n",
      " 36  YearsSinceLastPromotion   1480 non-null   int64  \n",
      " 37  YearsWithCurrManager      1423 non-null   float64\n",
      "dtypes: float64(1), int64(25), object(12)\n",
      "memory usage: 439.5+ KB\n"
     ]
    }
   ],
   "source": [
    "hr_raw.info()"
   ]
  },
  {
   "cell_type": "markdown",
   "metadata": {},
   "source": [
    "### Missing data(Null values check)"
   ]
  },
  {
   "cell_type": "code",
   "execution_count": 157,
   "metadata": {},
   "outputs": [
    {
     "data": {
      "text/plain": [
       "EmpID                        0\n",
       "Age                          0\n",
       "AgeGroup                     0\n",
       "Attrition                    0\n",
       "BusinessTravel               0\n",
       "DailyRate                    0\n",
       "Department                   0\n",
       "DistanceFromHome             0\n",
       "Education                    0\n",
       "EducationField               0\n",
       "EmployeeCount                0\n",
       "EmployeeNumber               0\n",
       "EnvironmentSatisfaction      0\n",
       "Gender                       0\n",
       "HourlyRate                   0\n",
       "JobInvolvement               0\n",
       "JobLevel                     0\n",
       "JobRole                      0\n",
       "JobSatisfaction              0\n",
       "MaritalStatus                0\n",
       "MonthlyIncome                0\n",
       "SalarySlab                   0\n",
       "MonthlyRate                  0\n",
       "NumCompaniesWorked           0\n",
       "Over18                       0\n",
       "OverTime                     0\n",
       "PercentSalaryHike            0\n",
       "PerformanceRating            0\n",
       "RelationshipSatisfaction     0\n",
       "StandardHours                0\n",
       "StockOptionLevel             0\n",
       "TotalWorkingYears            0\n",
       "TrainingTimesLastYear        0\n",
       "WorkLifeBalance              0\n",
       "YearsAtCompany               0\n",
       "YearsInCurrentRole           0\n",
       "YearsSinceLastPromotion      0\n",
       "YearsWithCurrManager        57\n",
       "dtype: int64"
      ]
     },
     "execution_count": 157,
     "metadata": {},
     "output_type": "execute_result"
    }
   ],
   "source": [
    "#Checking null values\n",
    "hr_raw.isna().sum()"
   ]
  },
  {
   "cell_type": "code",
   "execution_count": 158,
   "metadata": {},
   "outputs": [],
   "source": [
    "#Because there's many columns, it is difficult to know the ones that have Nan values, we'll get them with this formula:\n",
    "columns_with_na = []  # Initialize an empty list to store column names with NA\n",
    "for col in hr_raw.columns:  # Iterate through all columns in the DataFrame\n",
    "    if hr_raw[col].isna().sum() != 0:  # Check if there are any NaN values in the column\n",
    "        columns_with_na.append(col)  #\n",
    "\n"
   ]
  },
  {
   "cell_type": "code",
   "execution_count": 159,
   "metadata": {},
   "outputs": [
    {
     "data": {
      "text/plain": [
       "['YearsWithCurrManager']"
      ]
     },
     "execution_count": 159,
     "metadata": {},
     "output_type": "execute_result"
    }
   ],
   "source": [
    "#We just assessed that ['YearsWithCurrManager'] is the only variable with Nan values\n",
    "columns_with_na"
   ]
  },
  {
   "cell_type": "markdown",
   "metadata": {},
   "source": [
    "##### Fixing variables with Nan values (['YearsWithCurrManager'])"
   ]
  },
  {
   "cell_type": "code",
   "execution_count": 160,
   "metadata": {},
   "outputs": [],
   "source": [
    "hr_managercheck=hr_raw[[\"EmpID\",\"YearsAtCompany\",\"YearsWithCurrManager\"]]"
   ]
  },
  {
   "cell_type": "code",
   "execution_count": 161,
   "metadata": {},
   "outputs": [
    {
     "data": {
      "text/html": [
       "<div>\n",
       "<style scoped>\n",
       "    .dataframe tbody tr th:only-of-type {\n",
       "        vertical-align: middle;\n",
       "    }\n",
       "\n",
       "    .dataframe tbody tr th {\n",
       "        vertical-align: top;\n",
       "    }\n",
       "\n",
       "    .dataframe thead th {\n",
       "        text-align: right;\n",
       "    }\n",
       "</style>\n",
       "<table border=\"1\" class=\"dataframe\">\n",
       "  <thead>\n",
       "    <tr style=\"text-align: right;\">\n",
       "      <th></th>\n",
       "      <th>EmpID</th>\n",
       "      <th>YearsAtCompany</th>\n",
       "      <th>YearsWithCurrManager</th>\n",
       "    </tr>\n",
       "  </thead>\n",
       "  <tbody>\n",
       "    <tr>\n",
       "      <th>28</th>\n",
       "      <td>RM024</td>\n",
       "      <td>0</td>\n",
       "      <td>NaN</td>\n",
       "    </tr>\n",
       "    <tr>\n",
       "      <th>31</th>\n",
       "      <td>RM363</td>\n",
       "      <td>3</td>\n",
       "      <td>NaN</td>\n",
       "    </tr>\n",
       "    <tr>\n",
       "      <th>45</th>\n",
       "      <td>RM207</td>\n",
       "      <td>4</td>\n",
       "      <td>NaN</td>\n",
       "    </tr>\n",
       "    <tr>\n",
       "      <th>99</th>\n",
       "      <td>RM139</td>\n",
       "      <td>2</td>\n",
       "      <td>NaN</td>\n",
       "    </tr>\n",
       "    <tr>\n",
       "      <th>100</th>\n",
       "      <td>RM256</td>\n",
       "      <td>4</td>\n",
       "      <td>NaN</td>\n",
       "    </tr>\n",
       "    <tr>\n",
       "      <th>103</th>\n",
       "      <td>RM406</td>\n",
       "      <td>2</td>\n",
       "      <td>NaN</td>\n",
       "    </tr>\n",
       "    <tr>\n",
       "      <th>222</th>\n",
       "      <td>RM405</td>\n",
       "      <td>10</td>\n",
       "      <td>NaN</td>\n",
       "    </tr>\n",
       "    <tr>\n",
       "      <th>262</th>\n",
       "      <td>RM072</td>\n",
       "      <td>5</td>\n",
       "      <td>NaN</td>\n",
       "    </tr>\n",
       "    <tr>\n",
       "      <th>264</th>\n",
       "      <td>RM206</td>\n",
       "      <td>10</td>\n",
       "      <td>NaN</td>\n",
       "    </tr>\n",
       "    <tr>\n",
       "      <th>268</th>\n",
       "      <td>RM253</td>\n",
       "      <td>6</td>\n",
       "      <td>NaN</td>\n",
       "    </tr>\n",
       "    <tr>\n",
       "      <th>269</th>\n",
       "      <td>RM255</td>\n",
       "      <td>3</td>\n",
       "      <td>NaN</td>\n",
       "    </tr>\n",
       "    <tr>\n",
       "      <th>329</th>\n",
       "      <td>RM008</td>\n",
       "      <td>1</td>\n",
       "      <td>NaN</td>\n",
       "    </tr>\n",
       "    <tr>\n",
       "      <th>336</th>\n",
       "      <td>RM140</td>\n",
       "      <td>11</td>\n",
       "      <td>NaN</td>\n",
       "    </tr>\n",
       "    <tr>\n",
       "      <th>337</th>\n",
       "      <td>RM144</td>\n",
       "      <td>5</td>\n",
       "      <td>NaN</td>\n",
       "    </tr>\n",
       "    <tr>\n",
       "      <th>338</th>\n",
       "      <td>RM146</td>\n",
       "      <td>3</td>\n",
       "      <td>NaN</td>\n",
       "    </tr>\n",
       "    <tr>\n",
       "      <th>339</th>\n",
       "      <td>RM147</td>\n",
       "      <td>5</td>\n",
       "      <td>NaN</td>\n",
       "    </tr>\n",
       "    <tr>\n",
       "      <th>391</th>\n",
       "      <td>RM073</td>\n",
       "      <td>1</td>\n",
       "      <td>NaN</td>\n",
       "    </tr>\n",
       "    <tr>\n",
       "      <th>392</th>\n",
       "      <td>RM076</td>\n",
       "      <td>11</td>\n",
       "      <td>NaN</td>\n",
       "    </tr>\n",
       "    <tr>\n",
       "      <th>461</th>\n",
       "      <td>RM027</td>\n",
       "      <td>10</td>\n",
       "      <td>NaN</td>\n",
       "    </tr>\n",
       "    <tr>\n",
       "      <th>463</th>\n",
       "      <td>RM074</td>\n",
       "      <td>10</td>\n",
       "      <td>NaN</td>\n",
       "    </tr>\n",
       "    <tr>\n",
       "      <th>466</th>\n",
       "      <td>RM141</td>\n",
       "      <td>5</td>\n",
       "      <td>NaN</td>\n",
       "    </tr>\n",
       "    <tr>\n",
       "      <th>467</th>\n",
       "      <td>RM145</td>\n",
       "      <td>8</td>\n",
       "      <td>NaN</td>\n",
       "    </tr>\n",
       "    <tr>\n",
       "      <th>470</th>\n",
       "      <td>RM211</td>\n",
       "      <td>14</td>\n",
       "      <td>NaN</td>\n",
       "    </tr>\n",
       "    <tr>\n",
       "      <th>521</th>\n",
       "      <td>RM031</td>\n",
       "      <td>1</td>\n",
       "      <td>NaN</td>\n",
       "    </tr>\n",
       "    <tr>\n",
       "      <th>579</th>\n",
       "      <td>RM023</td>\n",
       "      <td>12</td>\n",
       "      <td>NaN</td>\n",
       "    </tr>\n",
       "    <tr>\n",
       "      <th>580</th>\n",
       "      <td>RM025</td>\n",
       "      <td>4</td>\n",
       "      <td>NaN</td>\n",
       "    </tr>\n",
       "    <tr>\n",
       "      <th>664</th>\n",
       "      <td>RM077</td>\n",
       "      <td>15</td>\n",
       "      <td>NaN</td>\n",
       "    </tr>\n",
       "    <tr>\n",
       "      <th>739</th>\n",
       "      <td>RM070</td>\n",
       "      <td>1</td>\n",
       "      <td>NaN</td>\n",
       "    </tr>\n",
       "    <tr>\n",
       "      <th>740</th>\n",
       "      <td>RM075</td>\n",
       "      <td>1</td>\n",
       "      <td>NaN</td>\n",
       "    </tr>\n",
       "    <tr>\n",
       "      <th>745</th>\n",
       "      <td>RM208</td>\n",
       "      <td>8</td>\n",
       "      <td>NaN</td>\n",
       "    </tr>\n",
       "    <tr>\n",
       "      <th>751</th>\n",
       "      <td>RM359</td>\n",
       "      <td>1</td>\n",
       "      <td>NaN</td>\n",
       "    </tr>\n",
       "    <tr>\n",
       "      <th>752</th>\n",
       "      <td>RM360</td>\n",
       "      <td>13</td>\n",
       "      <td>NaN</td>\n",
       "    </tr>\n",
       "    <tr>\n",
       "      <th>814</th>\n",
       "      <td>RM249</td>\n",
       "      <td>3</td>\n",
       "      <td>NaN</td>\n",
       "    </tr>\n",
       "    <tr>\n",
       "      <th>815</th>\n",
       "      <td>RM251</td>\n",
       "      <td>1</td>\n",
       "      <td>NaN</td>\n",
       "    </tr>\n",
       "    <tr>\n",
       "      <th>854</th>\n",
       "      <td>RM009</td>\n",
       "      <td>9</td>\n",
       "      <td>NaN</td>\n",
       "    </tr>\n",
       "    <tr>\n",
       "      <th>858</th>\n",
       "      <td>RM143</td>\n",
       "      <td>3</td>\n",
       "      <td>NaN</td>\n",
       "    </tr>\n",
       "    <tr>\n",
       "      <th>915</th>\n",
       "      <td>RM252</td>\n",
       "      <td>19</td>\n",
       "      <td>NaN</td>\n",
       "    </tr>\n",
       "    <tr>\n",
       "      <th>961</th>\n",
       "      <td>RM209</td>\n",
       "      <td>3</td>\n",
       "      <td>NaN</td>\n",
       "    </tr>\n",
       "    <tr>\n",
       "      <th>963</th>\n",
       "      <td>RM258</td>\n",
       "      <td>21</td>\n",
       "      <td>NaN</td>\n",
       "    </tr>\n",
       "    <tr>\n",
       "      <th>965</th>\n",
       "      <td>RM362</td>\n",
       "      <td>7</td>\n",
       "      <td>NaN</td>\n",
       "    </tr>\n",
       "    <tr>\n",
       "      <th>1025</th>\n",
       "      <td>RM404</td>\n",
       "      <td>10</td>\n",
       "      <td>NaN</td>\n",
       "    </tr>\n",
       "    <tr>\n",
       "      <th>1053</th>\n",
       "      <td>RM028</td>\n",
       "      <td>9</td>\n",
       "      <td>NaN</td>\n",
       "    </tr>\n",
       "    <tr>\n",
       "      <th>1056</th>\n",
       "      <td>RM254</td>\n",
       "      <td>3</td>\n",
       "      <td>NaN</td>\n",
       "    </tr>\n",
       "    <tr>\n",
       "      <th>1057</th>\n",
       "      <td>RM257</td>\n",
       "      <td>9</td>\n",
       "      <td>NaN</td>\n",
       "    </tr>\n",
       "    <tr>\n",
       "      <th>1131</th>\n",
       "      <td>RM029</td>\n",
       "      <td>22</td>\n",
       "      <td>NaN</td>\n",
       "    </tr>\n",
       "    <tr>\n",
       "      <th>1165</th>\n",
       "      <td>RM078</td>\n",
       "      <td>0</td>\n",
       "      <td>NaN</td>\n",
       "    </tr>\n",
       "    <tr>\n",
       "      <th>1166</th>\n",
       "      <td>RM142</td>\n",
       "      <td>6</td>\n",
       "      <td>NaN</td>\n",
       "    </tr>\n",
       "    <tr>\n",
       "      <th>1172</th>\n",
       "      <td>RM250</td>\n",
       "      <td>3</td>\n",
       "      <td>NaN</td>\n",
       "    </tr>\n",
       "    <tr>\n",
       "      <th>1176</th>\n",
       "      <td>RM408</td>\n",
       "      <td>2</td>\n",
       "      <td>NaN</td>\n",
       "    </tr>\n",
       "    <tr>\n",
       "      <th>1205</th>\n",
       "      <td>RM030</td>\n",
       "      <td>2</td>\n",
       "      <td>NaN</td>\n",
       "    </tr>\n",
       "    <tr>\n",
       "      <th>1211</th>\n",
       "      <td>RM210</td>\n",
       "      <td>4</td>\n",
       "      <td>NaN</td>\n",
       "    </tr>\n",
       "    <tr>\n",
       "      <th>1345</th>\n",
       "      <td>RM259</td>\n",
       "      <td>1</td>\n",
       "      <td>NaN</td>\n",
       "    </tr>\n",
       "    <tr>\n",
       "      <th>1360</th>\n",
       "      <td>RM407</td>\n",
       "      <td>5</td>\n",
       "      <td>NaN</td>\n",
       "    </tr>\n",
       "    <tr>\n",
       "      <th>1375</th>\n",
       "      <td>RM026</td>\n",
       "      <td>14</td>\n",
       "      <td>NaN</td>\n",
       "    </tr>\n",
       "    <tr>\n",
       "      <th>1448</th>\n",
       "      <td>RM361</td>\n",
       "      <td>3</td>\n",
       "      <td>NaN</td>\n",
       "    </tr>\n",
       "    <tr>\n",
       "      <th>1465</th>\n",
       "      <td>RM007</td>\n",
       "      <td>1</td>\n",
       "      <td>NaN</td>\n",
       "    </tr>\n",
       "    <tr>\n",
       "      <th>1467</th>\n",
       "      <td>RM071</td>\n",
       "      <td>4</td>\n",
       "      <td>NaN</td>\n",
       "    </tr>\n",
       "  </tbody>\n",
       "</table>\n",
       "</div>"
      ],
      "text/plain": [
       "      EmpID  YearsAtCompany  YearsWithCurrManager\n",
       "28    RM024               0                   NaN\n",
       "31    RM363               3                   NaN\n",
       "45    RM207               4                   NaN\n",
       "99    RM139               2                   NaN\n",
       "100   RM256               4                   NaN\n",
       "103   RM406               2                   NaN\n",
       "222   RM405              10                   NaN\n",
       "262   RM072               5                   NaN\n",
       "264   RM206              10                   NaN\n",
       "268   RM253               6                   NaN\n",
       "269   RM255               3                   NaN\n",
       "329   RM008               1                   NaN\n",
       "336   RM140              11                   NaN\n",
       "337   RM144               5                   NaN\n",
       "338   RM146               3                   NaN\n",
       "339   RM147               5                   NaN\n",
       "391   RM073               1                   NaN\n",
       "392   RM076              11                   NaN\n",
       "461   RM027              10                   NaN\n",
       "463   RM074              10                   NaN\n",
       "466   RM141               5                   NaN\n",
       "467   RM145               8                   NaN\n",
       "470   RM211              14                   NaN\n",
       "521   RM031               1                   NaN\n",
       "579   RM023              12                   NaN\n",
       "580   RM025               4                   NaN\n",
       "664   RM077              15                   NaN\n",
       "739   RM070               1                   NaN\n",
       "740   RM075               1                   NaN\n",
       "745   RM208               8                   NaN\n",
       "751   RM359               1                   NaN\n",
       "752   RM360              13                   NaN\n",
       "814   RM249               3                   NaN\n",
       "815   RM251               1                   NaN\n",
       "854   RM009               9                   NaN\n",
       "858   RM143               3                   NaN\n",
       "915   RM252              19                   NaN\n",
       "961   RM209               3                   NaN\n",
       "963   RM258              21                   NaN\n",
       "965   RM362               7                   NaN\n",
       "1025  RM404              10                   NaN\n",
       "1053  RM028               9                   NaN\n",
       "1056  RM254               3                   NaN\n",
       "1057  RM257               9                   NaN\n",
       "1131  RM029              22                   NaN\n",
       "1165  RM078               0                   NaN\n",
       "1166  RM142               6                   NaN\n",
       "1172  RM250               3                   NaN\n",
       "1176  RM408               2                   NaN\n",
       "1205  RM030               2                   NaN\n",
       "1211  RM210               4                   NaN\n",
       "1345  RM259               1                   NaN\n",
       "1360  RM407               5                   NaN\n",
       "1375  RM026              14                   NaN\n",
       "1448  RM361               3                   NaN\n",
       "1465  RM007               1                   NaN\n",
       "1467  RM071               4                   NaN"
      ]
     },
     "execution_count": 161,
     "metadata": {},
     "output_type": "execute_result"
    }
   ],
   "source": [
    "hr_managercheckna=hr_managercheck[hr_managercheck[\"YearsWithCurrManager\"].isna()]\n",
    "hr_managercheckna"
   ]
  },
  {
   "cell_type": "code",
   "execution_count": 162,
   "metadata": {},
   "outputs": [
    {
     "data": {
      "text/plain": [
       "count    1423.000000\n",
       "mean        4.118060\n",
       "std         3.555484\n",
       "min         0.000000\n",
       "25%         2.000000\n",
       "50%         3.000000\n",
       "75%         7.000000\n",
       "max        17.000000\n",
       "Name: YearsWithCurrManager, dtype: float64"
      ]
     },
     "execution_count": 162,
     "metadata": {},
     "output_type": "execute_result"
    }
   ],
   "source": [
    "hr_raw[\"YearsWithCurrManager\"].describe()"
   ]
  },
  {
   "cell_type": "code",
   "execution_count": 163,
   "metadata": {},
   "outputs": [],
   "source": [
    "#After checking the data related to YearsWithCurrManager we decided to choose the median to fill the values, because the max value is 17 and min is 0 (mean being 4) data suggests a few values are skewing the mean up. In this case, median provides a better reflection of a typical employee\n",
    "median_value=hr_raw[\"YearsWithCurrManager\"].median()\n",
    "hr_raw[\"YearsWithCurrManager\"]=hr_raw[\"YearsWithCurrManager\"].fillna(median_value)\n"
   ]
  },
  {
   "cell_type": "code",
   "execution_count": 164,
   "metadata": {},
   "outputs": [
    {
     "data": {
      "text/plain": [
       "EmpID                       0\n",
       "Age                         0\n",
       "AgeGroup                    0\n",
       "Attrition                   0\n",
       "BusinessTravel              0\n",
       "DailyRate                   0\n",
       "Department                  0\n",
       "DistanceFromHome            0\n",
       "Education                   0\n",
       "EducationField              0\n",
       "EmployeeCount               0\n",
       "EmployeeNumber              0\n",
       "EnvironmentSatisfaction     0\n",
       "Gender                      0\n",
       "HourlyRate                  0\n",
       "JobInvolvement              0\n",
       "JobLevel                    0\n",
       "JobRole                     0\n",
       "JobSatisfaction             0\n",
       "MaritalStatus               0\n",
       "MonthlyIncome               0\n",
       "SalarySlab                  0\n",
       "MonthlyRate                 0\n",
       "NumCompaniesWorked          0\n",
       "Over18                      0\n",
       "OverTime                    0\n",
       "PercentSalaryHike           0\n",
       "PerformanceRating           0\n",
       "RelationshipSatisfaction    0\n",
       "StandardHours               0\n",
       "StockOptionLevel            0\n",
       "TotalWorkingYears           0\n",
       "TrainingTimesLastYear       0\n",
       "WorkLifeBalance             0\n",
       "YearsAtCompany              0\n",
       "YearsInCurrentRole          0\n",
       "YearsSinceLastPromotion     0\n",
       "YearsWithCurrManager        0\n",
       "dtype: int64"
      ]
     },
     "execution_count": 164,
     "metadata": {},
     "output_type": "execute_result"
    }
   ],
   "source": [
    "#Let's check if all na values are fixed:\n",
    "hr_raw.isna().sum()"
   ]
  },
  {
   "cell_type": "markdown",
   "metadata": {},
   "source": [
    "### Redundant data (Duplicated rows check)"
   ]
  },
  {
   "cell_type": "code",
   "execution_count": 165,
   "metadata": {},
   "outputs": [
    {
     "data": {
      "text/plain": [
       "7"
      ]
     },
     "execution_count": 165,
     "metadata": {},
     "output_type": "execute_result"
    }
   ],
   "source": [
    "#checking if there's duplicated rows\n",
    "hr_raw.duplicated().sum()"
   ]
  },
  {
   "cell_type": "code",
   "execution_count": 166,
   "metadata": {},
   "outputs": [
    {
     "data": {
      "text/html": [
       "<div>\n",
       "<style scoped>\n",
       "    .dataframe tbody tr th:only-of-type {\n",
       "        vertical-align: middle;\n",
       "    }\n",
       "\n",
       "    .dataframe tbody tr th {\n",
       "        vertical-align: top;\n",
       "    }\n",
       "\n",
       "    .dataframe thead th {\n",
       "        text-align: right;\n",
       "    }\n",
       "</style>\n",
       "<table border=\"1\" class=\"dataframe\">\n",
       "  <thead>\n",
       "    <tr style=\"text-align: right;\">\n",
       "      <th></th>\n",
       "      <th>EmpID</th>\n",
       "      <th>Age</th>\n",
       "      <th>AgeGroup</th>\n",
       "      <th>Attrition</th>\n",
       "      <th>BusinessTravel</th>\n",
       "      <th>DailyRate</th>\n",
       "      <th>Department</th>\n",
       "      <th>DistanceFromHome</th>\n",
       "      <th>Education</th>\n",
       "      <th>EducationField</th>\n",
       "      <th>...</th>\n",
       "      <th>RelationshipSatisfaction</th>\n",
       "      <th>StandardHours</th>\n",
       "      <th>StockOptionLevel</th>\n",
       "      <th>TotalWorkingYears</th>\n",
       "      <th>TrainingTimesLastYear</th>\n",
       "      <th>WorkLifeBalance</th>\n",
       "      <th>YearsAtCompany</th>\n",
       "      <th>YearsInCurrentRole</th>\n",
       "      <th>YearsSinceLastPromotion</th>\n",
       "      <th>YearsWithCurrManager</th>\n",
       "    </tr>\n",
       "  </thead>\n",
       "  <tbody>\n",
       "    <tr>\n",
       "      <th>211</th>\n",
       "      <td>RM1468</td>\n",
       "      <td>27</td>\n",
       "      <td>26-35</td>\n",
       "      <td>No</td>\n",
       "      <td>Travel_Rarely</td>\n",
       "      <td>155</td>\n",
       "      <td>Research &amp; Development</td>\n",
       "      <td>4</td>\n",
       "      <td>3</td>\n",
       "      <td>Life Sciences</td>\n",
       "      <td>...</td>\n",
       "      <td>2</td>\n",
       "      <td>80</td>\n",
       "      <td>1</td>\n",
       "      <td>6</td>\n",
       "      <td>0</td>\n",
       "      <td>3</td>\n",
       "      <td>6</td>\n",
       "      <td>2</td>\n",
       "      <td>0</td>\n",
       "      <td>3.0</td>\n",
       "    </tr>\n",
       "    <tr>\n",
       "      <th>328</th>\n",
       "      <td>RM1461</td>\n",
       "      <td>29</td>\n",
       "      <td>26-35</td>\n",
       "      <td>No</td>\n",
       "      <td>Travel_Rarely</td>\n",
       "      <td>468</td>\n",
       "      <td>Research &amp; Development</td>\n",
       "      <td>28</td>\n",
       "      <td>4</td>\n",
       "      <td>Medical</td>\n",
       "      <td>...</td>\n",
       "      <td>2</td>\n",
       "      <td>80</td>\n",
       "      <td>0</td>\n",
       "      <td>5</td>\n",
       "      <td>3</td>\n",
       "      <td>1</td>\n",
       "      <td>5</td>\n",
       "      <td>4</td>\n",
       "      <td>0</td>\n",
       "      <td>4.0</td>\n",
       "    </tr>\n",
       "    <tr>\n",
       "      <th>458</th>\n",
       "      <td>RM1464</td>\n",
       "      <td>31</td>\n",
       "      <td>26-35</td>\n",
       "      <td>No</td>\n",
       "      <td>Non-Travel</td>\n",
       "      <td>325</td>\n",
       "      <td>Research &amp; Development</td>\n",
       "      <td>5</td>\n",
       "      <td>3</td>\n",
       "      <td>Medical</td>\n",
       "      <td>...</td>\n",
       "      <td>2</td>\n",
       "      <td>80</td>\n",
       "      <td>0</td>\n",
       "      <td>10</td>\n",
       "      <td>2</td>\n",
       "      <td>3</td>\n",
       "      <td>9</td>\n",
       "      <td>4</td>\n",
       "      <td>1</td>\n",
       "      <td>7.0</td>\n",
       "    </tr>\n",
       "    <tr>\n",
       "      <th>655</th>\n",
       "      <td>RM1470</td>\n",
       "      <td>34</td>\n",
       "      <td>26-35</td>\n",
       "      <td>No</td>\n",
       "      <td>TravelRarely</td>\n",
       "      <td>628</td>\n",
       "      <td>Research &amp; Development</td>\n",
       "      <td>8</td>\n",
       "      <td>3</td>\n",
       "      <td>Medical</td>\n",
       "      <td>...</td>\n",
       "      <td>1</td>\n",
       "      <td>80</td>\n",
       "      <td>0</td>\n",
       "      <td>6</td>\n",
       "      <td>3</td>\n",
       "      <td>4</td>\n",
       "      <td>4</td>\n",
       "      <td>3</td>\n",
       "      <td>1</td>\n",
       "      <td>2.0</td>\n",
       "    </tr>\n",
       "    <tr>\n",
       "      <th>954</th>\n",
       "      <td>RM1463</td>\n",
       "      <td>39</td>\n",
       "      <td>36-45</td>\n",
       "      <td>No</td>\n",
       "      <td>Travel_Rarely</td>\n",
       "      <td>722</td>\n",
       "      <td>Sales</td>\n",
       "      <td>24</td>\n",
       "      <td>1</td>\n",
       "      <td>Marketing</td>\n",
       "      <td>...</td>\n",
       "      <td>1</td>\n",
       "      <td>80</td>\n",
       "      <td>1</td>\n",
       "      <td>21</td>\n",
       "      <td>2</td>\n",
       "      <td>2</td>\n",
       "      <td>20</td>\n",
       "      <td>9</td>\n",
       "      <td>9</td>\n",
       "      <td>6.0</td>\n",
       "    </tr>\n",
       "    <tr>\n",
       "      <th>1305</th>\n",
       "      <td>RM1469</td>\n",
       "      <td>49</td>\n",
       "      <td>46-55</td>\n",
       "      <td>No</td>\n",
       "      <td>Travel_Frequently</td>\n",
       "      <td>1023</td>\n",
       "      <td>Sales</td>\n",
       "      <td>2</td>\n",
       "      <td>3</td>\n",
       "      <td>Medical</td>\n",
       "      <td>...</td>\n",
       "      <td>4</td>\n",
       "      <td>80</td>\n",
       "      <td>0</td>\n",
       "      <td>17</td>\n",
       "      <td>3</td>\n",
       "      <td>2</td>\n",
       "      <td>9</td>\n",
       "      <td>6</td>\n",
       "      <td>0</td>\n",
       "      <td>8.0</td>\n",
       "    </tr>\n",
       "    <tr>\n",
       "      <th>1336</th>\n",
       "      <td>RM1462</td>\n",
       "      <td>50</td>\n",
       "      <td>46-55</td>\n",
       "      <td>Yes</td>\n",
       "      <td>Travel_Rarely</td>\n",
       "      <td>410</td>\n",
       "      <td>Sales</td>\n",
       "      <td>28</td>\n",
       "      <td>3</td>\n",
       "      <td>Marketing</td>\n",
       "      <td>...</td>\n",
       "      <td>2</td>\n",
       "      <td>80</td>\n",
       "      <td>1</td>\n",
       "      <td>20</td>\n",
       "      <td>3</td>\n",
       "      <td>3</td>\n",
       "      <td>3</td>\n",
       "      <td>2</td>\n",
       "      <td>2</td>\n",
       "      <td>0.0</td>\n",
       "    </tr>\n",
       "  </tbody>\n",
       "</table>\n",
       "<p>7 rows × 38 columns</p>\n",
       "</div>"
      ],
      "text/plain": [
       "       EmpID  Age AgeGroup Attrition     BusinessTravel  DailyRate  \\\n",
       "211   RM1468   27    26-35        No      Travel_Rarely        155   \n",
       "328   RM1461   29    26-35        No      Travel_Rarely        468   \n",
       "458   RM1464   31    26-35        No         Non-Travel        325   \n",
       "655   RM1470   34    26-35        No       TravelRarely        628   \n",
       "954   RM1463   39    36-45        No      Travel_Rarely        722   \n",
       "1305  RM1469   49    46-55        No  Travel_Frequently       1023   \n",
       "1336  RM1462   50    46-55       Yes      Travel_Rarely        410   \n",
       "\n",
       "                  Department  DistanceFromHome  Education EducationField  ...  \\\n",
       "211   Research & Development                 4          3  Life Sciences  ...   \n",
       "328   Research & Development                28          4        Medical  ...   \n",
       "458   Research & Development                 5          3        Medical  ...   \n",
       "655   Research & Development                 8          3        Medical  ...   \n",
       "954                    Sales                24          1      Marketing  ...   \n",
       "1305                   Sales                 2          3        Medical  ...   \n",
       "1336                   Sales                28          3      Marketing  ...   \n",
       "\n",
       "      RelationshipSatisfaction  StandardHours  StockOptionLevel  \\\n",
       "211                          2             80                 1   \n",
       "328                          2             80                 0   \n",
       "458                          2             80                 0   \n",
       "655                          1             80                 0   \n",
       "954                          1             80                 1   \n",
       "1305                         4             80                 0   \n",
       "1336                         2             80                 1   \n",
       "\n",
       "     TotalWorkingYears  TrainingTimesLastYear  WorkLifeBalance  \\\n",
       "211                  6                      0                3   \n",
       "328                  5                      3                1   \n",
       "458                 10                      2                3   \n",
       "655                  6                      3                4   \n",
       "954                 21                      2                2   \n",
       "1305                17                      3                2   \n",
       "1336                20                      3                3   \n",
       "\n",
       "      YearsAtCompany YearsInCurrentRole  YearsSinceLastPromotion  \\\n",
       "211                6                  2                        0   \n",
       "328                5                  4                        0   \n",
       "458                9                  4                        1   \n",
       "655                4                  3                        1   \n",
       "954               20                  9                        9   \n",
       "1305               9                  6                        0   \n",
       "1336               3                  2                        2   \n",
       "\n",
       "     YearsWithCurrManager  \n",
       "211                   3.0  \n",
       "328                   4.0  \n",
       "458                   7.0  \n",
       "655                   2.0  \n",
       "954                   6.0  \n",
       "1305                  8.0  \n",
       "1336                  0.0  \n",
       "\n",
       "[7 rows x 38 columns]"
      ]
     },
     "execution_count": 166,
     "metadata": {},
     "output_type": "execute_result"
    }
   ],
   "source": [
    "#list of duplicated values\n",
    "hr_raw[hr_raw.duplicated()]\n"
   ]
  },
  {
   "cell_type": "code",
   "execution_count": 167,
   "metadata": {},
   "outputs": [
    {
     "data": {
      "text/html": [
       "<div>\n",
       "<style scoped>\n",
       "    .dataframe tbody tr th:only-of-type {\n",
       "        vertical-align: middle;\n",
       "    }\n",
       "\n",
       "    .dataframe tbody tr th {\n",
       "        vertical-align: top;\n",
       "    }\n",
       "\n",
       "    .dataframe thead th {\n",
       "        text-align: right;\n",
       "    }\n",
       "</style>\n",
       "<table border=\"1\" class=\"dataframe\">\n",
       "  <thead>\n",
       "    <tr style=\"text-align: right;\">\n",
       "      <th></th>\n",
       "      <th>EmpID</th>\n",
       "      <th>Age</th>\n",
       "      <th>AgeGroup</th>\n",
       "      <th>Attrition</th>\n",
       "      <th>BusinessTravel</th>\n",
       "      <th>DailyRate</th>\n",
       "      <th>Department</th>\n",
       "      <th>DistanceFromHome</th>\n",
       "      <th>Education</th>\n",
       "      <th>EducationField</th>\n",
       "      <th>...</th>\n",
       "      <th>RelationshipSatisfaction</th>\n",
       "      <th>StandardHours</th>\n",
       "      <th>StockOptionLevel</th>\n",
       "      <th>TotalWorkingYears</th>\n",
       "      <th>TrainingTimesLastYear</th>\n",
       "      <th>WorkLifeBalance</th>\n",
       "      <th>YearsAtCompany</th>\n",
       "      <th>YearsInCurrentRole</th>\n",
       "      <th>YearsSinceLastPromotion</th>\n",
       "      <th>YearsWithCurrManager</th>\n",
       "    </tr>\n",
       "  </thead>\n",
       "  <tbody>\n",
       "    <tr>\n",
       "      <th>210</th>\n",
       "      <td>RM1468</td>\n",
       "      <td>27</td>\n",
       "      <td>26-35</td>\n",
       "      <td>No</td>\n",
       "      <td>Travel_Rarely</td>\n",
       "      <td>155</td>\n",
       "      <td>Research &amp; Development</td>\n",
       "      <td>4</td>\n",
       "      <td>3</td>\n",
       "      <td>Life Sciences</td>\n",
       "      <td>...</td>\n",
       "      <td>2</td>\n",
       "      <td>80</td>\n",
       "      <td>1</td>\n",
       "      <td>6</td>\n",
       "      <td>0</td>\n",
       "      <td>3</td>\n",
       "      <td>6</td>\n",
       "      <td>2</td>\n",
       "      <td>0</td>\n",
       "      <td>3.0</td>\n",
       "    </tr>\n",
       "    <tr>\n",
       "      <th>211</th>\n",
       "      <td>RM1468</td>\n",
       "      <td>27</td>\n",
       "      <td>26-35</td>\n",
       "      <td>No</td>\n",
       "      <td>Travel_Rarely</td>\n",
       "      <td>155</td>\n",
       "      <td>Research &amp; Development</td>\n",
       "      <td>4</td>\n",
       "      <td>3</td>\n",
       "      <td>Life Sciences</td>\n",
       "      <td>...</td>\n",
       "      <td>2</td>\n",
       "      <td>80</td>\n",
       "      <td>1</td>\n",
       "      <td>6</td>\n",
       "      <td>0</td>\n",
       "      <td>3</td>\n",
       "      <td>6</td>\n",
       "      <td>2</td>\n",
       "      <td>0</td>\n",
       "      <td>3.0</td>\n",
       "    </tr>\n",
       "  </tbody>\n",
       "</table>\n",
       "<p>2 rows × 38 columns</p>\n",
       "</div>"
      ],
      "text/plain": [
       "      EmpID  Age AgeGroup Attrition BusinessTravel  DailyRate  \\\n",
       "210  RM1468   27    26-35        No  Travel_Rarely        155   \n",
       "211  RM1468   27    26-35        No  Travel_Rarely        155   \n",
       "\n",
       "                 Department  DistanceFromHome  Education EducationField  ...  \\\n",
       "210  Research & Development                 4          3  Life Sciences  ...   \n",
       "211  Research & Development                 4          3  Life Sciences  ...   \n",
       "\n",
       "     RelationshipSatisfaction  StandardHours  StockOptionLevel  \\\n",
       "210                         2             80                 1   \n",
       "211                         2             80                 1   \n",
       "\n",
       "    TotalWorkingYears  TrainingTimesLastYear  WorkLifeBalance  YearsAtCompany  \\\n",
       "210                 6                      0                3               6   \n",
       "211                 6                      0                3               6   \n",
       "\n",
       "    YearsInCurrentRole  YearsSinceLastPromotion YearsWithCurrManager  \n",
       "210                  2                        0                  3.0  \n",
       "211                  2                        0                  3.0  \n",
       "\n",
       "[2 rows x 38 columns]"
      ]
     },
     "execution_count": 167,
     "metadata": {},
     "output_type": "execute_result"
    }
   ],
   "source": [
    "#Checking a sample of duplicated data before deleting\n",
    "hr_raw.loc[hr_raw[\"EmpID\"]==\"RM1468\"]"
   ]
  },
  {
   "cell_type": "code",
   "execution_count": 168,
   "metadata": {},
   "outputs": [],
   "source": [
    "hr_raw.drop_duplicates(inplace=True)\n"
   ]
  },
  {
   "cell_type": "markdown",
   "metadata": {},
   "source": [
    "### Outliers"
   ]
  },
  {
   "cell_type": "code",
   "execution_count": 169,
   "metadata": {},
   "outputs": [
    {
     "data": {
      "text/plain": [
       "Index(['Age', 'DailyRate', 'DistanceFromHome', 'Education', 'EmployeeCount',\n",
       "       'EmployeeNumber', 'EnvironmentSatisfaction', 'HourlyRate',\n",
       "       'JobInvolvement', 'JobLevel', 'JobSatisfaction', 'MonthlyIncome',\n",
       "       'MonthlyRate', 'NumCompaniesWorked', 'PercentSalaryHike',\n",
       "       'PerformanceRating', 'RelationshipSatisfaction', 'StandardHours',\n",
       "       'StockOptionLevel', 'TotalWorkingYears', 'TrainingTimesLastYear',\n",
       "       'WorkLifeBalance', 'YearsAtCompany', 'YearsInCurrentRole',\n",
       "       'YearsSinceLastPromotion', 'YearsWithCurrManager'],\n",
       "      dtype='object')"
      ]
     },
     "execution_count": 169,
     "metadata": {},
     "output_type": "execute_result"
    }
   ],
   "source": [
    "from scipy import stats\n",
    "\n",
    "# Select only numerical columns\n",
    "numerical_cols = hr_raw.select_dtypes(include=['float64', 'int64'])\n",
    "\n",
    "numerical_cols.columns"
   ]
  },
  {
   "cell_type": "code",
   "execution_count": 170,
   "metadata": {},
   "outputs": [
    {
     "data": {
      "image/png": "[encoded data removed]",
      "text/plain": [
       "<Figure size 600x600 with 1 Axes>"
      ]
     },
     "metadata": {},
     "output_type": "display_data"
    }
   ],
   "source": [
    "plt.figure(figsize=(6,6))\n",
    "plt.title('Detecting outliers', fontsize=12)\n",
    "plt.xticks(fontsize=12)\n",
    "plt.yticks(fontsize=12)\n",
    "sns.boxplot(x=numerical_cols['Age'])\n",
    "plt.show()"
   ]
  },
  {
   "cell_type": "code",
   "execution_count": 171,
   "metadata": {},
   "outputs": [
    {
     "data": {
      "image/png": "[encoded data removed]",
      "text/plain": [
       "<Figure size 600x600 with 1 Axes>"
      ]
     },
     "metadata": {},
     "output_type": "display_data"
    }
   ],
   "source": [
    "plt.figure(figsize=(6,6))\n",
    "plt.title('Detecting outliers', fontsize=12)\n",
    "plt.xticks(fontsize=12)\n",
    "plt.yticks(fontsize=12)\n",
    "sns.boxplot(x=numerical_cols[\"DailyRate\"])\n",
    "plt.show()"
   ]
  },
  {
   "cell_type": "code",
   "execution_count": 172,
   "metadata": {},
   "outputs": [
    {
     "data": {
      "image/png": "[encoded data removed]",
      "text/plain": [
       "<Figure size 600x600 with 1 Axes>"
      ]
     },
     "metadata": {},
     "output_type": "display_data"
    }
   ],
   "source": [
    "plt.figure(figsize=(6,6))\n",
    "plt.title('Detecting outliers', fontsize=12)\n",
    "plt.xticks(fontsize=12)\n",
    "plt.yticks(fontsize=12)\n",
    "sns.boxplot(x=numerical_cols[\"HourlyRate\"])\n",
    "plt.show()"
   ]
  },
  {
   "cell_type": "code",
   "execution_count": 173,
   "metadata": {},
   "outputs": [
    {
     "data": {
      "image/png": "[encoded data removed]",
      "text/plain": [
       "<Figure size 600x600 with 1 Axes>"
      ]
     },
     "metadata": {},
     "output_type": "display_data"
    }
   ],
   "source": [
    "plt.figure(figsize=(6,6))\n",
    "plt.title('Detecting outliers', fontsize=12)\n",
    "plt.xticks(fontsize=12)\n",
    "plt.yticks(fontsize=12)\n",
    "sns.boxplot(x=numerical_cols['MonthlyIncome'])\n",
    "plt.show()"
   ]
  },
  {
   "cell_type": "code",
   "execution_count": 174,
   "metadata": {},
   "outputs": [
    {
     "data": {
      "image/png": "[encoded data removed]",
      "text/plain": [
       "<Figure size 600x600 with 1 Axes>"
      ]
     },
     "metadata": {},
     "output_type": "display_data"
    }
   ],
   "source": [
    "plt.figure(figsize=(6,6))\n",
    "plt.title('Detecting outliers', fontsize=12)\n",
    "plt.xticks(fontsize=12)\n",
    "plt.yticks(fontsize=12)\n",
    "sns.boxplot(x=numerical_cols['NumCompaniesWorked'])\n",
    "plt.show()"
   ]
  },
  {
   "cell_type": "code",
   "execution_count": 175,
   "metadata": {},
   "outputs": [
    {
     "data": {
      "image/png": "[encoded data removed]",
      "text/plain": [
       "<Figure size 600x600 with 1 Axes>"
      ]
     },
     "metadata": {},
     "output_type": "display_data"
    }
   ],
   "source": [
    "plt.figure(figsize=(6,6))\n",
    "plt.title('Detecting outliers', fontsize=12)\n",
    "plt.xticks(fontsize=12)\n",
    "plt.yticks(fontsize=12)\n",
    "sns.boxplot(x=numerical_cols['YearsSinceLastPromotion'])\n",
    "plt.show()"
   ]
  },
  {
   "cell_type": "code",
   "execution_count": 176,
   "metadata": {},
   "outputs": [
    {
     "data": {
      "image/png": "[encoded data removed]",
      "text/plain": [
       "<Figure size 600x600 with 1 Axes>"
      ]
     },
     "metadata": {},
     "output_type": "display_data"
    }
   ],
   "source": [
    "plt.figure(figsize=(6,6))\n",
    "plt.title('Detecting outliers', fontsize=12)\n",
    "plt.xticks(fontsize=12)\n",
    "plt.yticks(fontsize=12)\n",
    "sns.boxplot(x=numerical_cols['YearsInCurrentRole'])\n",
    "plt.show()"
   ]
  },
  {
   "cell_type": "code",
   "execution_count": 177,
   "metadata": {},
   "outputs": [
    {
     "data": {
      "image/png": "[encoded data removed]",
      "text/plain": [
       "<Figure size 600x600 with 1 Axes>"
      ]
     },
     "metadata": {},
     "output_type": "display_data"
    }
   ],
   "source": [
    "plt.figure(figsize=(6,6))\n",
    "plt.title('Detecting outliers', fontsize=12)\n",
    "plt.xticks(fontsize=12)\n",
    "plt.yticks(fontsize=12)\n",
    "sns.boxplot(x=numerical_cols['TotalWorkingYears'])\n",
    "plt.show()"
   ]
  },
  {
   "cell_type": "code",
   "execution_count": 178,
   "metadata": {},
   "outputs": [
    {
     "data": {
      "text/plain": [
       "('MonthlyIncome',\n",
       " 'NumCompaniesWorked',\n",
       " 'YearsSinceLastPromotion',\n",
       " 'YearsInCurrentRole')"
      ]
     },
     "execution_count": 178,
     "metadata": {},
     "output_type": "execute_result"
    }
   ],
   "source": [
    "#We'll collect all the outliers detected in a tuple so we can address them before ML\n",
    "outliers_detected=(\"MonthlyIncome\",'NumCompaniesWorked','YearsSinceLastPromotion','YearsInCurrentRole')\n",
    "outliers_detected"
   ]
  },
  {
   "cell_type": "markdown",
   "metadata": {},
   "source": [
    "## Data check"
   ]
  },
  {
   "cell_type": "code",
   "execution_count": 179,
   "metadata": {},
   "outputs": [
    {
     "data": {
      "text/plain": [
       "count    1473.000000\n",
       "mean       36.917176\n",
       "std         9.130690\n",
       "min        18.000000\n",
       "25%        30.000000\n",
       "50%        36.000000\n",
       "75%        43.000000\n",
       "max        60.000000\n",
       "Name: Age, dtype: float64"
      ]
     },
     "execution_count": 179,
     "metadata": {},
     "output_type": "execute_result"
    }
   ],
   "source": [
    "hr_raw[\"Age\"].describe()"
   ]
  },
  {
   "cell_type": "code",
   "execution_count": 180,
   "metadata": {},
   "outputs": [
    {
     "data": {
      "text/plain": [
       "\"By checking at the age column, we get an interesting overview of the workers' profile. \\nThe mean age value and 50th percentile provide a similar result (36), which suggest age data is symmetrically distributed (this indicates there are no extreme outliers pulling the mean in any direction).\\n\\nStandar deviation is 9,13, meaning most employees are aged between 27 and 45 years old.\\n\\n25th percentile 30: 25% of employees are 30 years old or under\\n50th percentile 36: median indicates 50% of employees are 36 or under\\n75th percentile: 75% of the employees are 43 or under\\nMax age is 60\\n\\n\""
      ]
     },
     "execution_count": 180,
     "metadata": {},
     "output_type": "execute_result"
    }
   ],
   "source": [
    "\"\"\"By checking at the age column, we get an interesting overview of the workers' profile. \n",
    "The mean age value and 50th percentile provide a similar result (36), which suggest age data is symmetrically distributed (this indicates there are no extreme outliers pulling the mean in any direction).\n",
    "\n",
    "Standar deviation is 9,13, meaning most employees are aged between 27 and 45 years old.\n",
    "\n",
    "25th percentile 30: 25% of employees are 30 years old or under\n",
    "50th percentile 36: median indicates 50% of employees are 36 or under\n",
    "75th percentile: 75% of the employees are 43 or under\n",
    "Max age is 60\n",
    "\n",
    "\"\"\""
   ]
  },
  {
   "cell_type": "markdown",
   "metadata": {},
   "source": [
    "## Data integrity check"
   ]
  },
  {
   "cell_type": "markdown",
   "metadata": {},
   "source": [
    "## Dropping columns with no different values"
   ]
  },
  {
   "cell_type": "markdown",
   "metadata": {},
   "source": [
    "### First we check the amount of values per column:"
   ]
  },
  {
   "cell_type": "code",
   "execution_count": 181,
   "metadata": {},
   "outputs": [
    {
     "data": {
      "text/plain": [
       "EmpID                       1470\n",
       "Age                           43\n",
       "AgeGroup                       5\n",
       "Attrition                      2\n",
       "BusinessTravel                 4\n",
       "DailyRate                    886\n",
       "Department                     3\n",
       "DistanceFromHome              29\n",
       "Education                      5\n",
       "EducationField                 6\n",
       "EmployeeCount                  1\n",
       "EmployeeNumber              1470\n",
       "EnvironmentSatisfaction        4\n",
       "Gender                         2\n",
       "HourlyRate                    71\n",
       "JobInvolvement                 4\n",
       "JobLevel                       5\n",
       "JobRole                        9\n",
       "JobSatisfaction                4\n",
       "MaritalStatus                  3\n",
       "MonthlyIncome               1349\n",
       "SalarySlab                     4\n",
       "MonthlyRate                 1427\n",
       "NumCompaniesWorked            10\n",
       "Over18                         1\n",
       "OverTime                       2\n",
       "PercentSalaryHike             15\n",
       "PerformanceRating              2\n",
       "RelationshipSatisfaction       4\n",
       "StandardHours                  1\n",
       "StockOptionLevel               4\n",
       "TotalWorkingYears             40\n",
       "TrainingTimesLastYear          7\n",
       "WorkLifeBalance                4\n",
       "YearsAtCompany                37\n",
       "YearsInCurrentRole            19\n",
       "YearsSinceLastPromotion       16\n",
       "YearsWithCurrManager          18\n",
       "dtype: int64"
      ]
     },
     "execution_count": 181,
     "metadata": {},
     "output_type": "execute_result"
    }
   ],
   "source": [
    "hr_raw.nunique()"
   ]
  },
  {
   "cell_type": "code",
   "execution_count": 182,
   "metadata": {},
   "outputs": [],
   "source": [
    "#Columns that have only one unique value are irrelevant to our analysis, so let's get rid of them:\n",
    "columns_to_drop= []\n",
    "columns=hr_raw.columns\n",
    "for col in columns:\n",
    "    if hr_raw[col].nunique()==1:\n",
    "          columns_to_drop.append(col)\n",
    "\n"
   ]
  },
  {
   "cell_type": "code",
   "execution_count": 183,
   "metadata": {},
   "outputs": [
    {
     "data": {
      "text/plain": [
       "\"We must drop the following columns since they add no value to our analysis\\n ['EmployeeCount', 'Over18', 'StandardHours']\""
      ]
     },
     "execution_count": 183,
     "metadata": {},
     "output_type": "execute_result"
    }
   ],
   "source": [
    "columns_to_drop\n",
    "\"\"\"We must drop the following columns since they add no value to our analysis\n",
    " ['EmployeeCount', 'Over18', 'StandardHours']\"\"\""
   ]
  },
  {
   "cell_type": "code",
   "execution_count": 184,
   "metadata": {},
   "outputs": [],
   "source": [
    "hr_raw=hr_raw.drop(columns=columns_to_drop)"
   ]
  },
  {
   "cell_type": "code",
   "execution_count": 185,
   "metadata": {},
   "outputs": [
    {
     "data": {
      "text/plain": [
       "Index(['EmpID', 'Age', 'AgeGroup', 'Attrition', 'BusinessTravel', 'DailyRate',\n",
       "       'Department', 'DistanceFromHome', 'Education', 'EducationField',\n",
       "       'EmployeeNumber', 'EnvironmentSatisfaction', 'Gender', 'HourlyRate',\n",
       "       'JobInvolvement', 'JobLevel', 'JobRole', 'JobSatisfaction',\n",
       "       'MaritalStatus', 'MonthlyIncome', 'SalarySlab', 'MonthlyRate',\n",
       "       'NumCompaniesWorked', 'OverTime', 'PercentSalaryHike',\n",
       "       'PerformanceRating', 'RelationshipSatisfaction', 'StockOptionLevel',\n",
       "       'TotalWorkingYears', 'TrainingTimesLastYear', 'WorkLifeBalance',\n",
       "       'YearsAtCompany', 'YearsInCurrentRole', 'YearsSinceLastPromotion',\n",
       "       'YearsWithCurrManager'],\n",
       "      dtype='object')"
      ]
     },
     "execution_count": 185,
     "metadata": {},
     "output_type": "execute_result"
    }
   ],
   "source": [
    "hr_raw.columns"
   ]
  },
  {
   "cell_type": "code",
   "execution_count": 186,
   "metadata": {},
   "outputs": [],
   "source": [
    "#we will also drop employee number since it's irrelevant to our analysis\n",
    "\n",
    "hr_raw=hr_raw.drop(\"EmployeeNumber\",axis=1)"
   ]
  },
  {
   "cell_type": "code",
   "execution_count": 187,
   "metadata": {},
   "outputs": [
    {
     "data": {
      "text/plain": [
       "Index(['EmpID', 'Age', 'AgeGroup', 'Attrition', 'BusinessTravel', 'DailyRate',\n",
       "       'Department', 'DistanceFromHome', 'Education', 'EducationField',\n",
       "       'EnvironmentSatisfaction', 'Gender', 'HourlyRate', 'JobInvolvement',\n",
       "       'JobLevel', 'JobRole', 'JobSatisfaction', 'MaritalStatus',\n",
       "       'MonthlyIncome', 'SalarySlab', 'MonthlyRate', 'NumCompaniesWorked',\n",
       "       'OverTime', 'PercentSalaryHike', 'PerformanceRating',\n",
       "       'RelationshipSatisfaction', 'StockOptionLevel', 'TotalWorkingYears',\n",
       "       'TrainingTimesLastYear', 'WorkLifeBalance', 'YearsAtCompany',\n",
       "       'YearsInCurrentRole', 'YearsSinceLastPromotion',\n",
       "       'YearsWithCurrManager'],\n",
       "      dtype='object')"
      ]
     },
     "execution_count": 187,
     "metadata": {},
     "output_type": "execute_result"
    }
   ],
   "source": [
    "hr_raw.columns"
   ]
  },
  {
   "cell_type": "markdown",
   "metadata": {},
   "source": [
    "### Checking values for the rest of columns"
   ]
  },
  {
   "cell_type": "code",
   "execution_count": 188,
   "metadata": {},
   "outputs": [
    {
     "data": {
      "text/plain": [
       "array([18, 19, 20, 21, 22, 23, 24, 25, 26, 27, 28, 29, 30, 31, 32, 33, 34,\n",
       "       35, 36, 37, 38, 39, 40, 41, 42, 43, 44, 45, 46, 47, 48, 49, 50, 51,\n",
       "       52, 53, 54, 55, 56, 57, 58, 59, 60], dtype=int64)"
      ]
     },
     "execution_count": 188,
     "metadata": {},
     "output_type": "execute_result"
    }
   ],
   "source": [
    "#We will check the unique values to make sure they make sense\n",
    "hr_raw[\"Age\"].unique()\n",
    "\n",
    "#Data is fine"
   ]
  },
  {
   "cell_type": "code",
   "execution_count": 189,
   "metadata": {},
   "outputs": [
    {
     "data": {
      "text/plain": [
       "array(['18-25', '26-35', '36-45', '46-55', '55+'], dtype=object)"
      ]
     },
     "execution_count": 189,
     "metadata": {},
     "output_type": "execute_result"
    }
   ],
   "source": [
    "hr_raw[\"AgeGroup\"].unique()\n",
    "#Data is fine"
   ]
  },
  {
   "cell_type": "code",
   "execution_count": 190,
   "metadata": {},
   "outputs": [
    {
     "data": {
      "text/plain": [
       "array(['Travel_Rarely', 'Travel_Frequently', 'Non-Travel', 'TravelRarely'],\n",
       "      dtype=object)"
      ]
     },
     "execution_count": 190,
     "metadata": {},
     "output_type": "execute_result"
    }
   ],
   "source": [
    "hr_raw[\"BusinessTravel\"].unique()\n",
    "#Issue: Similar data has been registered in two different ways Travel_Rarely TravelRarely. We will address this so to add up both values, also, we'll simplify the values by getting rid of the term \"Travel\" "
   ]
  },
  {
   "cell_type": "code",
   "execution_count": 191,
   "metadata": {},
   "outputs": [],
   "source": [
    "hr_raw2=hr_raw.copy()"
   ]
  },
  {
   "cell_type": "code",
   "execution_count": 192,
   "metadata": {},
   "outputs": [],
   "source": [
    "hr_raw[\"BusinessTravel\"]=hr_raw[\"BusinessTravel\"].replace(\"Travel_Rarely\",\"TravelRarely\")\n"
   ]
  },
  {
   "cell_type": "code",
   "execution_count": 193,
   "metadata": {},
   "outputs": [],
   "source": [
    "hr_raw[\"BusinessTravel\"] = hr_raw[\"BusinessTravel\"].str.replace(\"Travel\", \"\", regex=False) \\\n",
    "                                                    .str.replace(\"-\",\"\") \\\n",
    "                                                    .str.replace(\"_\",\"\") \\\n",
    "                                                    .str.replace(\"Non\",\"No\")\n",
    "\n",
    "\n",
    "                                                "
   ]
  },
  {
   "cell_type": "code",
   "execution_count": 194,
   "metadata": {},
   "outputs": [
    {
     "data": {
      "text/plain": [
       "array([ 230,  812, 1306,  287,  247, 1124,  544, 1431,  528, 1181,  602,\n",
       "        303,  489,  419,  645,  504,  265,  871,  959, 1362,  500,  129,\n",
       "       1097,  769,  805,  654, 1141,  727,  391,  996,  756,  895,  156,\n",
       "       1343, 1427, 1334,  984,  251,  546,  337,  501, 1123,  534,  594,\n",
       "       1256, 1136,  253, 1368,  604, 1230,  617,  217,  457, 1294,  581,\n",
       "        541, 1309,  885,  650,  310, 1243,  373,  507,  977, 1320,  427,\n",
       "        160,  571,  638,  673,  813, 1353, 1127, 1371, 1448,  535,  691,\n",
       "        823, 1287,  693, 1092, 1269, 1206,  477, 1476,  381,  830,  350,\n",
       "        567,  240,  506,  897,  771, 1280,  685,  675,  891,  688,  622,\n",
       "        810,  883,  180,  141,  583,  867, 1219, 1356,  599,  266,  882,\n",
       "       1372,  949,  383,  772,  309, 1382, 1357, 1443,  841, 1355, 1479,\n",
       "        496, 1449,  950,  933,  575, 1349,  426,  775,  471,  703,  991,\n",
       "       1146,  887, 1283, 1066,  342,  921,  192, 1330, 1384,  683,  652,\n",
       "        474,  786,  390,  920,  572,  482, 1096,  157, 1167,  591, 1240,\n",
       "        994, 1450, 1157,  894,  472, 1242, 1220, 1377,  210, 1130, 1469,\n",
       "        798, 1420, 1115, 1410,  608,  294,  975,  829,  269,  443,  618,\n",
       "       1134, 1055, 1277,  199, 1103, 1291,  793,  205,  135, 1302,  486,\n",
       "       1054, 1297,  728, 1131,  511, 1354, 1337,  954,  155,  103, 1434,\n",
       "        120,  440,  529, 1158, 1117,  304, 1300,  890,  760, 1169,  821,\n",
       "        995, 1144, 1366,  857, 1009, 1451,  773, 1485, 1179,  791,  193,\n",
       "        640,  736,  866, 1496,  289, 1423,  467, 1083,  329,  580, 1217,\n",
       "        280, 1172,  783, 1475, 1404,  153, 1389, 1328,  121,  992, 1413,\n",
       "        896,  665, 1247, 1210,  442,  318,  738,  144,  746,  986,  408,\n",
       "        232, 1176,  806, 1396, 1090,  657, 1252,  341, 1086,  906, 1107,\n",
       "        490,  718, 1401,  942, 1010, 1329,  694,  332,  115, 1246,  410,\n",
       "        224,  441,  598, 1370,  469, 1082,  428,  461,  590,  574,  726,\n",
       "        352,  459,  592,  136, 1378,  468, 1358,  125,  721,  852,  288,\n",
       "       1312,  438,  201, 1339,  111, 1005,  334, 1275,  570,  641,  202,\n",
       "        464,  317, 1400, 1398, 1116,  413,  448,  946, 1012,  231,  138,\n",
       "        109,  853, 1465,  879, 1138,  634,  855,  990,  330,  740, 1288,\n",
       "        241,  600,  979,  305,  945,  911,  670,  655,  249,  542,  140,\n",
       "       1327,  307, 1463,  444,  218,  106, 1232,  480, 1274,  828, 1365,\n",
       "        525, 1222,  154, 1188,  616,  335,  874, 1332, 1062,  587, 1060,\n",
       "        667,  182,  326, 1445,  523,  561,  715, 1112,  741,  163, 1003,\n",
       "       1079,  196, 1125,  359,  311,  976,  754, 1276,  697, 1154,  325,\n",
       "        548, 1093,  827, 1033,  689,  967, 1045,  515, 1311,  128,  588,\n",
       "       1018, 1474,  646,  929,  430,  859,  117,  300,  379,  374, 1184,\n",
       "        498, 1109,  862,  116, 1316, 1089,  499,  601,  495,  824, 1200,\n",
       "       1259,  585,  964,  371,  953, 1318,  414,  238, 1373,  267,  234,\n",
       "        801, 1392,  924,  750,  134,  931,  147,  465,  832,  553,  508,\n",
       "        922, 1216, 1296, 1076,  527,  213,  118,  586, 1075, 1198, 1069,\n",
       "        722, 1038, 1017,  970,  603,  536, 1111, 1099,  516,  589,  392,\n",
       "        530,  211, 1303, 1313, 1346,  699, 1065, 1153,  658, 1031,  629,\n",
       "        878,  470, 1381,  296,  988,  258,  254,  204, 1397, 1442,  167,\n",
       "        702,  216, 1333,  669,  131,  648,  943,  999,  285,  404,  560,\n",
       "        401, 1326,  790,  971, 1440,  479, 1351,  653,  678,  181, 1375,\n",
       "       1480,  735,  937, 1239,  704,  628,  809, 1229, 1142,  664,  776,\n",
       "       1214,  662,  556,  944, 1315,  755,  619,  195,  538, 1225,  384,\n",
       "       1258,  607,  130,  672, 1137,  802, 1204, 1182,  982,  819,  636,\n",
       "       1361, 1212,  817,  200,  660, 1029, 1402,  104,  208,  737,  763,\n",
       "        880,  146, 1180,  185,  219,  682, 1224, 1490, 1395, 1199, 1299,\n",
       "       1218, 1223, 1195,  132, 1467,  635, 1403,  566, 1105,  845,  164,\n",
       "        913,  676, 1041,  928, 1278, 1425,  188,  938,  796,  917,  363,\n",
       "        429, 1174,  172,  884,  559,  711, 1040, 1456, 1383, 1266, 1213,\n",
       "        557,  301, 1120,  397,  807, 1189,  290,  663,  319,  228,  889,\n",
       "       1192, 1319, 1305, 1063,  799,  142,  446,  558, 1231,  625,  124,\n",
       "        367, 1439, 1462,  674,  671, 1470,  370,  161,  573,  364, 1380,\n",
       "       1261, 1084,  119,  322,  849,  343, 1495,  362,  243,  168,  268,\n",
       "        395,  152, 1391, 1035, 1186,  770,  433,  888,  903, 1245,  437,\n",
       "        148,  833, 1336,  723, 1394, 1444, 1321,  345,  505, 1132, 1162,\n",
       "       1122,  466,  203,  439,  412,  360,  524, 1498, 1387,  170,  492,\n",
       "        792, 1253,  766,  835, 1251,  105,  613,  630,  989,  905, 1151,\n",
       "       1416, 1171,  759,  555,  302, 1094,  804,  720, 1492, 1308,  593,\n",
       "        902,  107,  299,  458, 1202, 1342,  898,  369,  611, 1194,  692,\n",
       "        543, 1322, 1102, 1360, 1411,  483,  143,  509,  314, 1085,  263,\n",
       "        840,  549,  256,  918,  552,  447,  642,  582,  930,  926,  532,\n",
       "        916,  932, 1271, 1265,  462,  481,  647,  179, 1147,  748, 1059,\n",
       "       1128,  355, 1273,  394,  957, 1344, 1034, 1001,  313, 1473,  782,\n",
       "        422,  177,  415,  531,  244, 1422, 1459, 1488,  661, 1376,  621,\n",
       "        935,  981, 1193, 1037,  194, 1268, 1052,  252, 1385, 1249,  306,\n",
       "        974,  248, 1234,  788, 1050, 1457, 1015,  336, 1238,  176,  705,\n",
       "       1211,  526,  644,  488,  406,  150,  377,  563,  717,  734,  261,\n",
       "        706, 1254,  666, 1482,  983,  719, 1454, 1379,  955,  207,  626,\n",
       "       1236,  277, 1262,  969, 1221, 1108,  365,  708,  279, 1002, 1091,\n",
       "       1418,  174, 1098,  271, 1064, 1023,  869, 1452,  328,  854,  797,\n",
       "       1046, 1207,  562,  316,  881, 1126,  939,  145, 1464, 1421,  333,\n",
       "        264,  432,  632,  684, 1150, 1178, 1323,  237,  968, 1405,  956,\n",
       "       1325, 1053, 1030, 1282, 1436, 1070,  346,  868,  102, 1168,  376,\n",
       "       1441,  966,  584,  431,  836,  452,  725,  436,  282,  478,  189,\n",
       "        713,  206, 1369, 1255,  405, 1145,  286,  781, 1272,  848,  605,\n",
       "       1324, 1435,  818, 1429, 1499,  696], dtype=int64)"
      ]
     },
     "execution_count": 194,
     "metadata": {},
     "output_type": "execute_result"
    }
   ],
   "source": [
    "hr_raw['DailyRate'].unique()\n",
    "#fine"
   ]
  },
  {
   "cell_type": "code",
   "execution_count": 195,
   "metadata": {},
   "outputs": [
    {
     "data": {
      "text/plain": [
       "array(['Research & Development', 'Sales', 'Human Resources'], dtype=object)"
      ]
     },
     "execution_count": 195,
     "metadata": {},
     "output_type": "execute_result"
    }
   ],
   "source": [
    " hr_raw[\"Department\"].unique()\n",
    "#fine"
   ]
  },
  {
   "cell_type": "code",
   "execution_count": 196,
   "metadata": {},
   "outputs": [
    {
     "data": {
      "text/plain": [
       "array([ 3, 10,  5,  8,  1, 14, 22,  2, 21,  9, 25,  6,  4, 11, 15, 12, 18,\n",
       "        7, 16, 19, 26, 20, 24, 23, 17, 13, 29, 28, 27], dtype=int64)"
      ]
     },
     "execution_count": 196,
     "metadata": {},
     "output_type": "execute_result"
    }
   ],
   "source": [
    " hr_raw[\"DistanceFromHome\"].unique()\n",
    "#fine"
   ]
  },
  {
   "cell_type": "code",
   "execution_count": 197,
   "metadata": {},
   "outputs": [
    {
     "data": {
      "text/plain": [
       "array([3, 2, 1, 4, 5], dtype=int64)"
      ]
     },
     "execution_count": 197,
     "metadata": {},
     "output_type": "execute_result"
    }
   ],
   "source": [
    "hr_raw['Education'].unique()"
   ]
  },
  {
   "cell_type": "code",
   "execution_count": 198,
   "metadata": {},
   "outputs": [
    {
     "data": {
      "text/plain": [
       "Index(['EmpID', 'Age', 'AgeGroup', 'Attrition', 'BusinessTravel', 'DailyRate',\n",
       "       'Department', 'DistanceFromHome', 'Education', 'EducationField',\n",
       "       'EnvironmentSatisfaction', 'Gender', 'HourlyRate', 'JobInvolvement',\n",
       "       'JobLevel', 'JobRole', 'JobSatisfaction', 'MaritalStatus',\n",
       "       'MonthlyIncome', 'SalarySlab', 'MonthlyRate', 'NumCompaniesWorked',\n",
       "       'OverTime', 'PercentSalaryHike', 'PerformanceRating',\n",
       "       'RelationshipSatisfaction', 'StockOptionLevel', 'TotalWorkingYears',\n",
       "       'TrainingTimesLastYear', 'WorkLifeBalance', 'YearsAtCompany',\n",
       "       'YearsInCurrentRole', 'YearsSinceLastPromotion',\n",
       "       'YearsWithCurrManager'],\n",
       "      dtype='object')"
      ]
     },
     "execution_count": 198,
     "metadata": {},
     "output_type": "execute_result"
    }
   ],
   "source": [
    "hr_raw.columns"
   ]
  },
  {
   "cell_type": "markdown",
   "metadata": {},
   "source": [
    "## Transforming the attrition into a non binary new column"
   ]
  },
  {
   "cell_type": "markdown",
   "metadata": {},
   "source": [
    "<p>First, we determine the amount of employees who left the company and the ones that are still in the company</p>"
   ]
  },
  {
   "cell_type": "code",
   "execution_count": 199,
   "metadata": {},
   "outputs": [
    {
     "data": {
      "text/plain": [
       "No     1236\n",
       "Yes     237\n",
       "Name: Attrition, dtype: int64"
      ]
     },
     "execution_count": 199,
     "metadata": {},
     "output_type": "execute_result"
    }
   ],
   "source": [
    "hr_raw[\"Attrition\"].value_counts()"
   ]
  },
  {
   "cell_type": "code",
   "execution_count": 200,
   "metadata": {},
   "outputs": [],
   "source": [
    "#We get a subpopulation of employees who have left so to determine the reasons why\n",
    "hr_raw_left=hr_raw[hr_raw[\"Attrition\"]==\"Yes\"]"
   ]
  },
  {
   "cell_type": "code",
   "execution_count": 201,
   "metadata": {},
   "outputs": [],
   "source": [
    "def left(i):\n",
    "    if i==\"Yes\":\n",
    "     return 1\n",
    "    else:\n",
    "       return 0"
   ]
  },
  {
   "cell_type": "code",
   "execution_count": 202,
   "metadata": {},
   "outputs": [],
   "source": [
    "hr_raw[\"left_company\"]=hr_raw2[\"Attrition\"].apply(left)"
   ]
  },
  {
   "cell_type": "code",
   "execution_count": 203,
   "metadata": {},
   "outputs": [
    {
     "name": "stdout",
     "output_type": "stream",
     "text": [
      "<class 'pandas.core.frame.DataFrame'>\n",
      "Int64Index: 1473 entries, 0 to 1479\n",
      "Data columns (total 35 columns):\n",
      " #   Column                    Non-Null Count  Dtype  \n",
      "---  ------                    --------------  -----  \n",
      " 0   EmpID                     1473 non-null   object \n",
      " 1   Age                       1473 non-null   int64  \n",
      " 2   AgeGroup                  1473 non-null   object \n",
      " 3   Attrition                 1473 non-null   object \n",
      " 4   BusinessTravel            1473 non-null   object \n",
      " 5   DailyRate                 1473 non-null   int64  \n",
      " 6   Department                1473 non-null   object \n",
      " 7   DistanceFromHome          1473 non-null   int64  \n",
      " 8   Education                 1473 non-null   int64  \n",
      " 9   EducationField            1473 non-null   object \n",
      " 10  EnvironmentSatisfaction   1473 non-null   int64  \n",
      " 11  Gender                    1473 non-null   object \n",
      " 12  HourlyRate                1473 non-null   int64  \n",
      " 13  JobInvolvement            1473 non-null   int64  \n",
      " 14  JobLevel                  1473 non-null   int64  \n",
      " 15  JobRole                   1473 non-null   object \n",
      " 16  JobSatisfaction           1473 non-null   int64  \n",
      " 17  MaritalStatus             1473 non-null   object \n",
      " 18  MonthlyIncome             1473 non-null   int64  \n",
      " 19  SalarySlab                1473 non-null   object \n",
      " 20  MonthlyRate               1473 non-null   int64  \n",
      " 21  NumCompaniesWorked        1473 non-null   int64  \n",
      " 22  OverTime                  1473 non-null   object \n",
      " 23  PercentSalaryHike         1473 non-null   int64  \n",
      " 24  PerformanceRating         1473 non-null   int64  \n",
      " 25  RelationshipSatisfaction  1473 non-null   int64  \n",
      " 26  StockOptionLevel          1473 non-null   int64  \n",
      " 27  TotalWorkingYears         1473 non-null   int64  \n",
      " 28  TrainingTimesLastYear     1473 non-null   int64  \n",
      " 29  WorkLifeBalance           1473 non-null   int64  \n",
      " 30  YearsAtCompany            1473 non-null   int64  \n",
      " 31  YearsInCurrentRole        1473 non-null   int64  \n",
      " 32  YearsSinceLastPromotion   1473 non-null   int64  \n",
      " 33  YearsWithCurrManager      1473 non-null   float64\n",
      " 34  left_company              1473 non-null   int64  \n",
      "dtypes: float64(1), int64(23), object(11)\n",
      "memory usage: 414.3+ KB\n"
     ]
    }
   ],
   "source": [
    "hr_raw.info()"
   ]
  },
  {
   "cell_type": "code",
   "execution_count": 204,
   "metadata": {},
   "outputs": [],
   "source": [
    "hr_raw.to_csv(\"CleanedHRdata.csv\")"
   ]
  }
 ],
 "metadata": {
  "kernelspec": {
   "display_name": "Python 3",
   "language": "python",
   "name": "python3"
  },
  "language_info": {
   "codemirror_mode": {
    "name": "ipython",
    "version": 3
   },
   "file_extension": ".py",
   "mimetype": "text/x-python",
   "name": "python",
   "nbconvert_exporter": "python",
   "pygments_lexer": "ipython3",
   "version": "3.7.4"
  }
 },
 "nbformat": 4,
 "nbformat_minor": 2
}
